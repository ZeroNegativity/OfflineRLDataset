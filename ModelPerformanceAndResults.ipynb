{
 "cells": [
  {
   "cell_type": "markdown",
   "id": "4cfd622d",
   "metadata": {},
   "source": [
    "# Model Performance And Results\n",
    "\n",
    "**Content**:\n",
    "1. [Libraries](#libraries)\n",
    "2. [Gridworld Creation](#gridworld)\n",
    "3. [Functions](#funct)\n",
    "4. [Uniform Dataset MLP Performance](#mlpuniform)\n",
    "5. [Non-Uniform Dataset MLP Performance](#mlpnonuniform)\n",
    "6. [Uniform Dataset LR Performance](#lruniform)\n",
    "7. [Non-Uniform Dataset LR Performance](#lrnonuniform)\n",
    "8. [Determination Of The Optimal Polynomial Linear Degree](#plrdegree)\n",
    "9. [Uniform Dataset Polynomial LR Performance](#plruniform)\n",
    "10. [Non-Uniform Dataset Polynomial LR Performance](#plrnonuniform)\n",
    "11. [Visuals](#visuals)"
   ]
  },
  {
   "cell_type": "markdown",
   "id": "40691429",
   "metadata": {},
   "source": [
    "## 1. Libraries <a id = \"libraries\"> "
   ]
  },
  {
   "cell_type": "code",
   "execution_count": 1,
   "id": "366fc565",
   "metadata": {},
   "outputs": [],
   "source": [
    "import numpy as np\n",
    "import random\n",
    "import sys\n",
    "import pandas as pd\n",
    "from sklearn.neural_network import MLPRegressor\n",
    "from sklearn.linear_model import LinearRegression\n",
    "from sklearn.model_selection import train_test_split, cross_validate, GridSearchCV, validation_curve\n",
    "from sklearn.preprocessing import PolynomialFeatures\n",
    "import matplotlib.pyplot as plt"
   ]
  },
  {
   "cell_type": "markdown",
   "id": "85c08c40",
   "metadata": {},
   "source": [
    "## 2. Gridworld Creation <a id = \"gridworld\">"
   ]
  },
  {
   "cell_type": "code",
   "execution_count": 2,
   "id": "5043367d",
   "metadata": {},
   "outputs": [],
   "source": [
    "def randPair(s,e):\n",
    "    return np.random.randint(s,e), np.random.randint(s,e)\n",
    "\n",
    "class BoardPiece:\n",
    "\n",
    "    def __init__(self, name, code, pos):\n",
    "        self.name = name #name of the piece\n",
    "        self.code = code #an ASCII character to display on the board\n",
    "        self.pos = pos #2-tuple e.g. (1,4)\n",
    "\n",
    "class BoardMask:\n",
    "\n",
    "    def __init__(self, name, mask, code):\n",
    "        self.name = name\n",
    "        self.mask = mask\n",
    "        self.code = code\n",
    "\n",
    "    def get_positions(self): #returns tuple of arrays\n",
    "        return np.nonzero(self.mask)\n",
    "\n",
    "def zip_positions2d(positions): #positions is tuple of two arrays\n",
    "    x,y = positions\n",
    "    return list(zip(x,y))\n",
    "\n",
    "class GridBoard:\n",
    "\n",
    "    def __init__(self, size=4):\n",
    "        self.size = size #Board dimensions, e.g. 4 x 4\n",
    "        self.components = {} #name : board piece\n",
    "        self.masks = {}\n",
    "\n",
    "    def addPiece(self, name, code, pos=(0,0)):\n",
    "        newPiece = BoardPiece(name, code, pos)\n",
    "        self.components[name] = newPiece\n",
    "\n",
    "    #basically a set of boundary elements\n",
    "    def addMask(self, name, mask, code):\n",
    "        #mask is a 2D-numpy array with 1s where the boundary elements are\n",
    "        newMask = BoardMask(name, mask, code)\n",
    "        self.masks[name] = newMask\n",
    "\n",
    "    def movePiece(self, name, pos):\n",
    "        move = True\n",
    "        for _, mask in self.masks.items():\n",
    "            if pos in zip_positions2d(mask.get_positions()):\n",
    "                move = False\n",
    "        if move:\n",
    "            self.components[name].pos = pos\n",
    "\n",
    "    def delPiece(self, name):\n",
    "        del self.components['name']\n",
    "\n",
    "    def render(self):\n",
    "        dtype = '<U2'\n",
    "        displ_board = np.zeros((self.size, self.size), dtype=dtype)\n",
    "        displ_board[:] = ' '\n",
    "\n",
    "        for name, piece in self.components.items():\n",
    "            displ_board[piece.pos] = piece.code\n",
    "\n",
    "        for name, mask in self.masks.items():\n",
    "            displ_board[mask.get_positions()] = mask.code\n",
    "\n",
    "        return displ_board\n",
    "\n",
    "    def render_np(self):\n",
    "        num_pieces = len(self.components) + len(self.masks)\n",
    "        displ_board = np.zeros((num_pieces, self.size, self.size), dtype=np.uint8)\n",
    "        layer = 0\n",
    "        for name, piece in self.components.items():\n",
    "            pos = (layer,) + piece.pos\n",
    "            displ_board[pos] = 1\n",
    "            layer += 1\n",
    "\n",
    "        for name, mask in self.masks.items():\n",
    "            x,y = self.masks['boundary'].get_positions()\n",
    "            z = np.repeat(layer,len(x))\n",
    "            a = (z,x,y)\n",
    "            displ_board[a] = 1\n",
    "            layer += 1\n",
    "        return displ_board\n",
    "\n",
    "def addTuple(a,b):\n",
    "    return tuple([sum(x) for x in zip(a,b)])"
   ]
  },
  {
   "cell_type": "code",
   "execution_count": 3,
   "id": "b5b73804",
   "metadata": {},
   "outputs": [],
   "source": [
    "class Gridworld:\n",
    "\n",
    "    def __init__(self, size=4, mode='static'):\n",
    "        if size >= 4:\n",
    "            self.board = GridBoard(size=size)\n",
    "        else:\n",
    "            print(\"Minimum board size is 4. Initialized to size 4.\")\n",
    "            self.board = GridBoard(size=4)\n",
    "\n",
    "        #Add pieces, positions will be updated later\n",
    "        self.board.addPiece('Player','P',(0,0))\n",
    "        self.board.addPiece('Goal','+',(0,3))\n",
    "        self.board.addPiece('Pit','-',(0,3))\n",
    "        self.board.addPiece('Wall','W',(2,3))\n",
    "\n",
    "        if mode == 'static':\n",
    "            self.initGridStatic()\n",
    "        elif mode == 'player':\n",
    "            self.initGridPlayer()\n",
    "        else:\n",
    "            self.initGridRand()\n",
    "\n",
    "    #Initialize stationary grid, all items are placed deterministically\n",
    "    def initGridStatic(self):\n",
    "        #Setup static pieces\n",
    "        self.board.components['Player'].pos = randPair(0,self.board.size) #Row, Column\n",
    "        self.board.components['Goal'].pos = (3,0)\n",
    "        self.board.components['Pit'].pos = (3,1)\n",
    "        self.board.components['Wall'].pos = (3,2)\n",
    "        \n",
    "        if (not self.validateBoard()):\n",
    "            #print('Invalid grid. Rebuilding..')\n",
    "            self.initGridStatic()\n",
    "\n",
    "\n",
    "    #Check if board is initialized appropriately (no overlapping pieces)\n",
    "    #also remove impossible-to-win boards\n",
    "    def validateBoard(self):\n",
    "        valid = True\n",
    "\n",
    "        player = self.board.components['Player']\n",
    "        goal = self.board.components['Goal']\n",
    "        wall = self.board.components['Wall']\n",
    "        pit = self.board.components['Pit']\n",
    "\n",
    "        all_positions = [piece for name,piece in self.board.components.items()]\n",
    "        all_positions = [player.pos, goal.pos, wall.pos, pit.pos]\n",
    "        if len(all_positions) > len(set(all_positions)):\n",
    "            return False\n",
    "\n",
    "        corners = [(0,0),(0,self.board.size), (self.board.size,0), (self.board.size,self.board.size)]\n",
    "        #if player is in corner, can it move? if goal is in corner, is it blocked?\n",
    "        if player.pos in corners or goal.pos in corners:\n",
    "            val_move_pl = [self.validateMove('Player', addpos) for addpos in [(0,1),(1,0),(-1,0),(0,-1)]]\n",
    "            val_move_go = [self.validateMove('Goal', addpos) for addpos in [(0,1),(1,0),(-1,0),(0,-1)]]\n",
    "            if 0 not in val_move_pl or 0 not in val_move_go:\n",
    "                #print(self.display())\n",
    "                #print(\"Invalid board. Re-initializing...\")\n",
    "                valid = False\n",
    "\n",
    "        return valid\n",
    "\n",
    "    #Initialize player in random location, but keep wall, goal and pit stationary\n",
    "    def initGridPlayer(self):\n",
    "        #height x width x depth (number of pieces)\n",
    "        self.initGridStatic()\n",
    "        #place player\n",
    "        self.board.components['Player'].pos = randPair(0,self.board.size)\n",
    "\n",
    "        if (not self.validateBoard()):\n",
    "            #print('Invalid grid. Rebuilding..')\n",
    "            self.initGridPlayer()\n",
    "\n",
    "    #Initialize grid so that goal, pit, wall, player are all randomly placed\n",
    "    def initGridRand(self):\n",
    "        #height x width x depth (number of pieces)\n",
    "        self.board.components['Player'].pos = randPair(0,self.board.size)\n",
    "        self.board.components['Goal'].pos = randPair(0,self.board.size)\n",
    "        self.board.components['Pit'].pos = randPair(0,self.board.size)\n",
    "        self.board.components['Wall'].pos = randPair(0,self.board.size)\n",
    "\n",
    "        if (not self.validateBoard()):\n",
    "            #print('Invalid grid. Rebuilding..')\n",
    "            self.initGridRand()\n",
    "\n",
    "    def validateMove(self, piece, addpos=(0,0)):\n",
    "        outcome = 0 #0 is valid, 1 invalid, 2 lost game\n",
    "        pit = self.board.components['Pit'].pos\n",
    "        wall = self.board.components['Wall'].pos\n",
    "        new_pos = addTuple(self.board.components[piece].pos, addpos)\n",
    "        if new_pos == wall:\n",
    "            outcome = 1 #block move, player can't move to wall\n",
    "        elif max(new_pos) > (self.board.size-1):    #if outside bounds of board\n",
    "            outcome = 1\n",
    "        elif min(new_pos) < 0: #if outside bounds\n",
    "            outcome = 1\n",
    "        elif new_pos == pit:\n",
    "            outcome = 2\n",
    "\n",
    "        return outcome\n",
    "\n",
    "    def makeMove(self, action):\n",
    "        #need to determine what object (if any) is in the new grid spot the player is moving to\n",
    "        #actions in {u,d,l,r}\n",
    "        def checkMove(addpos):\n",
    "            if self.validateMove('Player', addpos) in [0,2]:\n",
    "                new_pos = addTuple(self.board.components['Player'].pos, addpos)\n",
    "                self.board.movePiece('Player', new_pos)\n",
    "\n",
    "        if action == 'u': #up\n",
    "            checkMove((-1,0))\n",
    "        elif action == 'd': #down\n",
    "            checkMove((1,0))\n",
    "        elif action == 'l': #left\n",
    "            checkMove((0,-1))\n",
    "        elif action == 'r': #right\n",
    "            checkMove((0,1))\n",
    "        else:\n",
    "            pass\n",
    "\n",
    "    def reward(self):\n",
    "        if (self.board.components['Player'].pos == self.board.components['Pit'].pos):\n",
    "            return -10\n",
    "        elif (self.board.components['Player'].pos == self.board.components['Goal'].pos):\n",
    "            return 10\n",
    "        else:\n",
    "            return -1\n",
    "\n",
    "    def display(self):\n",
    "        return self.board.render()"
   ]
  },
  {
   "cell_type": "code",
   "execution_count": 4,
   "id": "df6ff749",
   "metadata": {},
   "outputs": [],
   "source": [
    "action_set = {\n",
    "    0: 'u',\n",
    "    1: 'd',\n",
    "    2: 'l',\n",
    "    3: 'r',\n",
    "}"
   ]
  },
  {
   "cell_type": "markdown",
   "id": "f34274ff",
   "metadata": {},
   "source": [
    "## 3. Functions <a id = 'funct'> "
   ]
  },
  {
   "cell_type": "code",
   "execution_count": 5,
   "id": "0cbf293a",
   "metadata": {},
   "outputs": [],
   "source": [
    "\"\"\"\n",
    "from2dto1d:\n",
    "    Args: \n",
    "        pos(tuple):2d position of the objects(Player, Wall, Goal, Pit) in the gridworld\n",
    "    Return:\n",
    "        return(integer): 1d position of the objects(Player, Wall, Goal, Pit)in the gridworld\n",
    "\"\"\" \n",
    "def from2dto1d(pos):\n",
    "    if pos == '(0, 0)':\n",
    "        return 0\n",
    "    if pos == '(0, 1)':\n",
    "        return 1\n",
    "    if pos == '(0, 2)':\n",
    "        return 2\n",
    "    if pos == '(0, 3)':\n",
    "        return 3\n",
    "    if pos == '(1, 0)':\n",
    "        return 4\n",
    "    if pos == '(1, 1)':\n",
    "        return 5\n",
    "    if pos == '(1, 2)':\n",
    "        return 6\n",
    "    if pos == '(1, 3)':\n",
    "        return 7\n",
    "    if pos == '(2, 0)':\n",
    "        return 8\n",
    "    if pos == '(2, 1)':\n",
    "        return 9\n",
    "    if pos == '(2, 2)':\n",
    "        return 10\n",
    "    if pos == '(2, 3)':\n",
    "        return 11\n",
    "    if pos == '(3, 0)':\n",
    "        return 12\n",
    "    if pos == '(3, 1)':\n",
    "        return 13\n",
    "    if pos == '(3, 2)':\n",
    "        return 14\n",
    "    if pos == '(3, 3)':\n",
    "        return 15"
   ]
  },
  {
   "cell_type": "code",
   "execution_count": 6,
   "id": "a1fc32c2",
   "metadata": {},
   "outputs": [],
   "source": [
    "def from1dto2d(pos):\n",
    "    if pos == 0:\n",
    "        return (0, 0)\n",
    "    if pos == 1:\n",
    "        return (0, 1)\n",
    "    if pos == 2:\n",
    "        return (0, 2)\n",
    "    if pos == 3:\n",
    "        return (0, 3)\n",
    "    if pos == 4:\n",
    "        return (1, 0)\n",
    "    if pos == 5:\n",
    "        return (1, 1)\n",
    "    if pos == 6:\n",
    "        return (1, 2)\n",
    "    if pos == 7:\n",
    "        return (1, 3)\n",
    "    if pos == 8:\n",
    "        return (2, 0)\n",
    "    if pos == 9:\n",
    "        return (2, 1)\n",
    "    if pos == 10:\n",
    "        return (2, 2)\n",
    "    if pos == 11:\n",
    "        return (2, 3)\n",
    "    if pos == 12:\n",
    "        return (3, 0)\n",
    "    if pos == 13:\n",
    "        return (3, 1)\n",
    "    if pos == 14:\n",
    "        return (3, 2)\n",
    "    if pos == 15:\n",
    "        return (3, 3)"
   ]
  },
  {
   "cell_type": "code",
   "execution_count": 7,
   "id": "2727c679",
   "metadata": {},
   "outputs": [],
   "source": [
    "\"\"\"\n",
    "from_num_to_one_hot_encode:\n",
    "    Args: \n",
    "        num(int): number from 0 to 15 representing the state of the objects(Player, Wall, Goal, Pit) in the gridworld\n",
    "    Return:\n",
    "        return(tuple): encoded binary code with the size of 16-bit \n",
    "\"\"\"\n",
    "def from_num_to_one_hot_encode(num):\n",
    "    en0,en1,en2,en3,en4,en5,en6,en7,en8,en9,en10,en11,en12,en13,en14,en15 = 0,0,0,0,0,0,0,0,0,0,0,0,0,0,0,0\n",
    "    if num == 0:\n",
    "        en0 = 1\n",
    "    if num == 1:\n",
    "        en1 = 1\n",
    "    if num == 2:\n",
    "        en2 = 1\n",
    "    if num == 3:\n",
    "        en3 = 1\n",
    "    if num == 4:\n",
    "        en4 = 1\n",
    "    if num == 5:\n",
    "        en5 = 1\n",
    "    if num == 6:\n",
    "        en6 = 1\n",
    "    if num == 7:\n",
    "        en7 = 1\n",
    "    if num == 8:\n",
    "        en8 = 1\n",
    "    if num == 9:\n",
    "        en9 = 1\n",
    "    if num == 10:\n",
    "        en10 = 1\n",
    "    if num == 11:\n",
    "        en11 = 1\n",
    "    if num == 12:\n",
    "        en12 = 1\n",
    "    if num == 13:\n",
    "        en13 = 1\n",
    "    if num == 14:\n",
    "        en14 = 1\n",
    "    if num == 15:\n",
    "        en15 = 1\n",
    "    return en0,en1,en2,en3,en4,en5,en6,en7,en8,en9,en10,en11,en12,en13,en14,en15"
   ]
  },
  {
   "cell_type": "code",
   "execution_count": 8,
   "id": "78fda04a",
   "metadata": {},
   "outputs": [],
   "source": [
    "def calculate_smape(actual, predicted) -> float:\n",
    "    if not all([isinstance(actual, np.ndarray), \n",
    "                isinstance(predicted, np.ndarray)]):\n",
    "        actual, predicted = np.array(actual),\n",
    "        np.array(predicted)\n",
    "  \n",
    "    return round(\n",
    "        np.mean(\n",
    "            np.abs(predicted - actual) / \n",
    "            ((np.abs(predicted) + np.abs(actual))/2)\n",
    "        )*100, 2\n",
    "    )"
   ]
  },
  {
   "cell_type": "code",
   "execution_count": 9,
   "id": "c1f95acd",
   "metadata": {},
   "outputs": [],
   "source": [
    "from sklearn.metrics import make_scorer\n",
    "score = make_scorer(calculate_smape)"
   ]
  },
  {
   "cell_type": "code",
   "execution_count": 10,
   "id": "18470d84",
   "metadata": {},
   "outputs": [],
   "source": [
    "def gridworld_test_model(model_b, mode='static', display=True):\n",
    "    i = 0\n",
    "    test_game = Gridworld(mode=mode)\n",
    "    if display:\n",
    "        print(\"Initial State:\")\n",
    "        print(test_game.display())\n",
    "    status = 1\n",
    "    j = 0\n",
    "    while(status == 1): #A\n",
    "        p_curr = from2dto1d((str(test_game.board.components['Player'].pos)))\n",
    "        pi = from2dto1d((str(test_game.board.components['Pit'].pos)))\n",
    "        g = from2dto1d((str(test_game.board.components['Goal'].pos)))\n",
    "        w = from2dto1d((str(test_game.board.components['Wall'].pos)))\n",
    "\n",
    "        q_value_next = []\n",
    "\n",
    "        test_game.makeMove('u')\n",
    "        p = from2dto1d((str(test_game.board.components['Player'].pos)))\n",
    "        \n",
    "        if p_curr != p:\n",
    "            en0,en1,en2,en3,en4,en5,en6,en7,en8,en9,en10,en11,en12,en13,en14,en15 = from_num_to_one_hot_encode(p)\n",
    "            reward = test_game.reward()\n",
    "            q_value_next.append(model_b.predict([[p,pi,g,w]])[0])\n",
    "            test_game.makeMove('d')\n",
    "        else:\n",
    "            q_value_next.append(-10)\n",
    "        \n",
    "        test_game.makeMove('d')\n",
    "        p = from2dto1d((str(test_game.board.components['Player'].pos)))\n",
    "        \n",
    "        if p_curr != p:\n",
    "            en0,en1,en2,en3,en4,en5,en6,en7,en8,en9,en10,en11,en12,en13,en14,en15 = from_num_to_one_hot_encode(p)\n",
    "            reward = test_game.reward()\n",
    "            q_value_next.append(model_b.predict([[p,pi,g,w]])[0])\n",
    "            test_game.makeMove('u')\n",
    "        else:\n",
    "            q_value_next.append(-10)\n",
    "        \n",
    "        test_game.makeMove('l')\n",
    "        p = from2dto1d((str(test_game.board.components['Player'].pos)))\n",
    "        \n",
    "\n",
    "        if p_curr != p:\n",
    "            test_game.makeMove('r')\n",
    "            en0,en1,en2,en3,en4,en5,en6,en7,en8,en9,en10,en11,en12,en13,en14,en15 = from_num_to_one_hot_encode(p)\n",
    "            reward = test_game.reward()\n",
    "            q_value_next.append(model_b.predict([[p,pi,g,w]])[0])\n",
    "        else:\n",
    "            q_value_next.append(-10)\n",
    "        \n",
    "        test_game.makeMove('r')\n",
    "        p = from2dto1d((str(test_game.board.components['Player'].pos)))\n",
    "        \n",
    "\n",
    "        if p_curr != p:\n",
    "            en0,en1,en2,en3,en4,en5,en6,en7,en8,en9,en10,en11,en12,en13,en14,en15 = from_num_to_one_hot_encode(p)\n",
    "            reward = test_game.reward()\n",
    "            q_value_next.append(model_b.predict([[p,pi,g,w]])[0])\n",
    "            test_game.makeMove('l')\n",
    "        else:\n",
    "            q_value_next.append(-10)\n",
    "        \n",
    "#         print(q_value_next)\n",
    "        \n",
    "        \n",
    "        action_ = np.argmax(q_value_next)\n",
    "#         print(action_)\n",
    "        action = action_set[action_]\n",
    "        \n",
    "        \n",
    "    \n",
    "        if display:\n",
    "            print('Move #: %s; Taking action: %s' % (i, action))\n",
    "        test_game.makeMove(action)\n",
    "        p_next = from2dto1d((str(test_game.board.components['Player'].pos)))\n",
    "\n",
    "        j += 1\n",
    "        if display:\n",
    "            print(test_game.display())\n",
    "        reward = test_game.reward()\n",
    "        if reward != -1:\n",
    "            if reward > 0:\n",
    "                status = 2\n",
    "                if display:\n",
    "                    print(\"Game won! Reward: %s\" % (reward,))\n",
    "            else:\n",
    "                status = 0\n",
    "                if display:\n",
    "                    print(\"Game LOST. Reward: %s\" % (reward,))\n",
    "        i += 1\n",
    "        if (i > 15):\n",
    "            if display:\n",
    "                print(\"Game lost; too many moves.\")\n",
    "            break\n",
    "    \n",
    "    win = True if status == 2 else False\n",
    "    return win"
   ]
  },
  {
   "cell_type": "code",
   "execution_count": 11,
   "id": "517ad22a",
   "metadata": {},
   "outputs": [],
   "source": [
    "def gridworld_plr_test_model(model_b, d, mode='static', display=True):\n",
    "\n",
    "    i = 0\n",
    "    test_game = Gridworld(mode=mode)\n",
    "    if display:\n",
    "        print(\"Initial State:\")\n",
    "        print(test_game.display())\n",
    "    status = 1\n",
    "    j = 0\n",
    "    while(status == 1): #A\n",
    "        p_curr = from2dto1d((str(test_game.board.components['Player'].pos)))\n",
    "        pi = from2dto1d((str(test_game.board.components['Pit'].pos)))\n",
    "        g = from2dto1d((str(test_game.board.components['Goal'].pos)))\n",
    "        w = from2dto1d((str(test_game.board.components['Wall'].pos)))\n",
    "\n",
    "        q_value_next = []\n",
    "\n",
    "        test_game.makeMove('u')\n",
    "        p = from2dto1d((str(test_game.board.components['Player'].pos)))\n",
    "        \n",
    "        if p_curr != p:\n",
    "            en0,en1,en2,en3,en4,en5,en6,en7,en8,en9,en10,en11,en12,en13,en14,en15 = from_num_to_one_hot_encode(p)\n",
    "            reward = test_game.reward()\n",
    "            poly = PolynomialFeatures(degree=d)\n",
    "            poly_features = poly.fit_transform([[p,pi,g,w]])\n",
    "            q_value_next.append(model_b.predict(poly_features)[0])\n",
    "            test_game.makeMove('d')\n",
    "        else:\n",
    "            q_value_next.append(-10)\n",
    "        \n",
    "        test_game.makeMove('d')\n",
    "        p = from2dto1d((str(test_game.board.components['Player'].pos)))\n",
    "        \n",
    "        if p_curr != p:\n",
    "            en0,en1,en2,en3,en4,en5,en6,en7,en8,en9,en10,en11,en12,en13,en14,en15 = from_num_to_one_hot_encode(p)\n",
    "            reward = test_game.reward()\n",
    "            poly = PolynomialFeatures(degree=d)\n",
    "            poly_features = poly.fit_transform([[p,pi,g,w]])\n",
    "            q_value_next.append(model_b.predict(poly_features)[0])\n",
    "            test_game.makeMove('u')\n",
    "        else:\n",
    "            q_value_next.append(-10)\n",
    "        \n",
    "        test_game.makeMove('l')\n",
    "        p = from2dto1d((str(test_game.board.components['Player'].pos)))\n",
    "        \n",
    "\n",
    "        if p_curr != p:\n",
    "            test_game.makeMove('r')\n",
    "            en0,en1,en2,en3,en4,en5,en6,en7,en8,en9,en10,en11,en12,en13,en14,en15 = from_num_to_one_hot_encode(p)\n",
    "            reward = test_game.reward()\n",
    "            poly = PolynomialFeatures(degree=d)\n",
    "            poly_features = poly.fit_transform([[p,pi,g,w]])\n",
    "            q_value_next.append(model_b.predict(poly_features)[0])\n",
    "        else:\n",
    "            q_value_next.append(-10)\n",
    "        \n",
    "        test_game.makeMove('r')\n",
    "        p = from2dto1d((str(test_game.board.components['Player'].pos)))\n",
    "        \n",
    "\n",
    "        if p_curr != p:\n",
    "            en0,en1,en2,en3,en4,en5,en6,en7,en8,en9,en10,en11,en12,en13,en14,en15 = from_num_to_one_hot_encode(p)\n",
    "            reward = test_game.reward()\n",
    "            poly = PolynomialFeatures(degree=d)\n",
    "            poly_features = poly.fit_transform([[p,pi,g,w]])\n",
    "            q_value_next.append(model_b.predict(poly_features)[0])\n",
    "            test_game.makeMove('l')\n",
    "        else:\n",
    "            q_value_next.append(-10)\n",
    "        \n",
    "#         print(q_value_next)\n",
    "        \n",
    "        \n",
    "        action_ = np.argmax(q_value_next)\n",
    "#         print(action_)\n",
    "        action = action_set[action_]\n",
    "        \n",
    "\n",
    "        \n",
    "    \n",
    "        if display:\n",
    "            print('Move #: %s; Taking action: %s' % (i, action))\n",
    "        test_game.makeMove(action)\n",
    "        p_next = from2dto1d((str(test_game.board.components['Player'].pos)))\n",
    "\n",
    "        \n",
    "        j += 1\n",
    "        if display:\n",
    "            print(test_game.display())\n",
    "        reward = test_game.reward()\n",
    "\n",
    "\n",
    "        if reward != -1:\n",
    "            if reward > 0:\n",
    "                status = 2\n",
    "                if display:\n",
    "                    print(\"Game won! Reward: %s\" % (reward,))\n",
    "            else:\n",
    "                status = 0\n",
    "                if display:\n",
    "                    print(\"Game LOST. Reward: %s\" % (reward,))\n",
    "\n",
    "        i += 1\n",
    "        if (i > 15):\n",
    "            if display:\n",
    "                print(\"Game lost; too many moves.\")\n",
    "            break\n",
    "    \n",
    "    win = True if status == 2 else False\n",
    "    return win"
   ]
  },
  {
   "cell_type": "markdown",
   "id": "f9a5d87a",
   "metadata": {},
   "source": [
    "### Datasets"
   ]
  },
  {
   "cell_type": "code",
   "execution_count": 12,
   "id": "ac21d39b",
   "metadata": {},
   "outputs": [
    {
     "data": {
      "text/html": [
       "<div>\n",
       "<style scoped>\n",
       "    .dataframe tbody tr th:only-of-type {\n",
       "        vertical-align: middle;\n",
       "    }\n",
       "\n",
       "    .dataframe tbody tr th {\n",
       "        vertical-align: top;\n",
       "    }\n",
       "\n",
       "    .dataframe thead th {\n",
       "        text-align: right;\n",
       "    }\n",
       "</style>\n",
       "<table border=\"1\" class=\"dataframe\">\n",
       "  <thead>\n",
       "    <tr style=\"text-align: right;\">\n",
       "      <th></th>\n",
       "      <th>Unnamed: 0</th>\n",
       "      <th>Player</th>\n",
       "      <th>Goal</th>\n",
       "      <th>Wall</th>\n",
       "      <th>Pit</th>\n",
       "      <th>Q_Current</th>\n",
       "      <th>Reward_Current</th>\n",
       "      <th>Bellman_Operator</th>\n",
       "    </tr>\n",
       "  </thead>\n",
       "  <tbody>\n",
       "    <tr>\n",
       "      <th>0</th>\n",
       "      <td>0</td>\n",
       "      <td>0</td>\n",
       "      <td>2</td>\n",
       "      <td>1</td>\n",
       "      <td>0</td>\n",
       "      <td>0.305944</td>\n",
       "      <td>-10</td>\n",
       "      <td>1.284265</td>\n",
       "    </tr>\n",
       "    <tr>\n",
       "      <th>1</th>\n",
       "      <td>1</td>\n",
       "      <td>2</td>\n",
       "      <td>2</td>\n",
       "      <td>1</td>\n",
       "      <td>0</td>\n",
       "      <td>9.047926</td>\n",
       "      <td>10</td>\n",
       "      <td>10.000000</td>\n",
       "    </tr>\n",
       "    <tr>\n",
       "      <th>2</th>\n",
       "      <td>2</td>\n",
       "      <td>3</td>\n",
       "      <td>2</td>\n",
       "      <td>1</td>\n",
       "      <td>0</td>\n",
       "      <td>7.594888</td>\n",
       "      <td>-1</td>\n",
       "      <td>10.000000</td>\n",
       "    </tr>\n",
       "    <tr>\n",
       "      <th>3</th>\n",
       "      <td>3</td>\n",
       "      <td>4</td>\n",
       "      <td>2</td>\n",
       "      <td>1</td>\n",
       "      <td>0</td>\n",
       "      <td>2.538072</td>\n",
       "      <td>-1</td>\n",
       "      <td>4.271501</td>\n",
       "    </tr>\n",
       "    <tr>\n",
       "      <th>4</th>\n",
       "      <td>4</td>\n",
       "      <td>5</td>\n",
       "      <td>2</td>\n",
       "      <td>1</td>\n",
       "      <td>0</td>\n",
       "      <td>5.857223</td>\n",
       "      <td>-1</td>\n",
       "      <td>5.000492</td>\n",
       "    </tr>\n",
       "    <tr>\n",
       "      <th>...</th>\n",
       "      <td>...</td>\n",
       "      <td>...</td>\n",
       "      <td>...</td>\n",
       "      <td>...</td>\n",
       "      <td>...</td>\n",
       "      <td>...</td>\n",
       "      <td>...</td>\n",
       "      <td>...</td>\n",
       "    </tr>\n",
       "    <tr>\n",
       "      <th>50395</th>\n",
       "      <td>50395</td>\n",
       "      <td>8</td>\n",
       "      <td>13</td>\n",
       "      <td>14</td>\n",
       "      <td>15</td>\n",
       "      <td>5.306869</td>\n",
       "      <td>-1</td>\n",
       "      <td>5.827087</td>\n",
       "    </tr>\n",
       "    <tr>\n",
       "      <th>50396</th>\n",
       "      <td>50396</td>\n",
       "      <td>13</td>\n",
       "      <td>13</td>\n",
       "      <td>14</td>\n",
       "      <td>15</td>\n",
       "      <td>12.008292</td>\n",
       "      <td>10</td>\n",
       "      <td>10.000000</td>\n",
       "    </tr>\n",
       "    <tr>\n",
       "      <th>50397</th>\n",
       "      <td>50397</td>\n",
       "      <td>9</td>\n",
       "      <td>13</td>\n",
       "      <td>14</td>\n",
       "      <td>15</td>\n",
       "      <td>7.040803</td>\n",
       "      <td>-1</td>\n",
       "      <td>10.000000</td>\n",
       "    </tr>\n",
       "    <tr>\n",
       "      <th>50398</th>\n",
       "      <td>50398</td>\n",
       "      <td>12</td>\n",
       "      <td>13</td>\n",
       "      <td>14</td>\n",
       "      <td>15</td>\n",
       "      <td>7.585652</td>\n",
       "      <td>-1</td>\n",
       "      <td>10.000000</td>\n",
       "    </tr>\n",
       "    <tr>\n",
       "      <th>50399</th>\n",
       "      <td>50399</td>\n",
       "      <td>11</td>\n",
       "      <td>13</td>\n",
       "      <td>14</td>\n",
       "      <td>15</td>\n",
       "      <td>3.081629</td>\n",
       "      <td>-1</td>\n",
       "      <td>3.822802</td>\n",
       "    </tr>\n",
       "  </tbody>\n",
       "</table>\n",
       "<p>50400 rows × 8 columns</p>\n",
       "</div>"
      ],
      "text/plain": [
       "       Unnamed: 0  Player  Goal  Wall  Pit  Q_Current  Reward_Current  \\\n",
       "0               0       0     2     1    0   0.305944             -10   \n",
       "1               1       2     2     1    0   9.047926              10   \n",
       "2               2       3     2     1    0   7.594888              -1   \n",
       "3               3       4     2     1    0   2.538072              -1   \n",
       "4               4       5     2     1    0   5.857223              -1   \n",
       "...           ...     ...   ...   ...  ...        ...             ...   \n",
       "50395       50395       8    13    14   15   5.306869              -1   \n",
       "50396       50396      13    13    14   15  12.008292              10   \n",
       "50397       50397       9    13    14   15   7.040803              -1   \n",
       "50398       50398      12    13    14   15   7.585652              -1   \n",
       "50399       50399      11    13    14   15   3.081629              -1   \n",
       "\n",
       "       Bellman_Operator  \n",
       "0              1.284265  \n",
       "1             10.000000  \n",
       "2             10.000000  \n",
       "3              4.271501  \n",
       "4              5.000492  \n",
       "...                 ...  \n",
       "50395          5.827087  \n",
       "50396         10.000000  \n",
       "50397         10.000000  \n",
       "50398         10.000000  \n",
       "50399          3.822802  \n",
       "\n",
       "[50400 rows x 8 columns]"
      ]
     },
     "execution_count": 12,
     "metadata": {},
     "output_type": "execute_result"
    }
   ],
   "source": [
    "df_uni = pd.read_csv(\"DatasetAfterUniform.csv\")\n",
    "df_uni"
   ]
  },
  {
   "cell_type": "code",
   "execution_count": 13,
   "id": "b7c6cb9e",
   "metadata": {},
   "outputs": [
    {
     "data": {
      "text/html": [
       "<div>\n",
       "<style scoped>\n",
       "    .dataframe tbody tr th:only-of-type {\n",
       "        vertical-align: middle;\n",
       "    }\n",
       "\n",
       "    .dataframe tbody tr th {\n",
       "        vertical-align: top;\n",
       "    }\n",
       "\n",
       "    .dataframe thead th {\n",
       "        text-align: right;\n",
       "    }\n",
       "</style>\n",
       "<table border=\"1\" class=\"dataframe\">\n",
       "  <thead>\n",
       "    <tr style=\"text-align: right;\">\n",
       "      <th></th>\n",
       "      <th>Unnamed: 0</th>\n",
       "      <th>Player</th>\n",
       "      <th>Goal</th>\n",
       "      <th>Wall</th>\n",
       "      <th>Pit</th>\n",
       "      <th>Q_Current</th>\n",
       "      <th>Reward_Current</th>\n",
       "      <th>Bellman_Operator</th>\n",
       "    </tr>\n",
       "  </thead>\n",
       "  <tbody>\n",
       "    <tr>\n",
       "      <th>0</th>\n",
       "      <td>0</td>\n",
       "      <td>2</td>\n",
       "      <td>11</td>\n",
       "      <td>15</td>\n",
       "      <td>8</td>\n",
       "      <td>4.941091</td>\n",
       "      <td>-1.0</td>\n",
       "      <td>4.318901</td>\n",
       "    </tr>\n",
       "    <tr>\n",
       "      <th>1</th>\n",
       "      <td>1</td>\n",
       "      <td>6</td>\n",
       "      <td>11</td>\n",
       "      <td>15</td>\n",
       "      <td>8</td>\n",
       "      <td>7.417938</td>\n",
       "      <td>-1.0</td>\n",
       "      <td>7.252085</td>\n",
       "    </tr>\n",
       "    <tr>\n",
       "      <th>2</th>\n",
       "      <td>2</td>\n",
       "      <td>7</td>\n",
       "      <td>11</td>\n",
       "      <td>15</td>\n",
       "      <td>8</td>\n",
       "      <td>9.168983</td>\n",
       "      <td>-1.0</td>\n",
       "      <td>10.000000</td>\n",
       "    </tr>\n",
       "    <tr>\n",
       "      <th>3</th>\n",
       "      <td>3</td>\n",
       "      <td>6</td>\n",
       "      <td>12</td>\n",
       "      <td>5</td>\n",
       "      <td>13</td>\n",
       "      <td>3.616126</td>\n",
       "      <td>-1.0</td>\n",
       "      <td>1.673050</td>\n",
       "    </tr>\n",
       "    <tr>\n",
       "      <th>4</th>\n",
       "      <td>4</td>\n",
       "      <td>10</td>\n",
       "      <td>12</td>\n",
       "      <td>5</td>\n",
       "      <td>13</td>\n",
       "      <td>3.241566</td>\n",
       "      <td>-1.0</td>\n",
       "      <td>5.395397</td>\n",
       "    </tr>\n",
       "    <tr>\n",
       "      <th>...</th>\n",
       "      <td>...</td>\n",
       "      <td>...</td>\n",
       "      <td>...</td>\n",
       "      <td>...</td>\n",
       "      <td>...</td>\n",
       "      <td>...</td>\n",
       "      <td>...</td>\n",
       "      <td>...</td>\n",
       "    </tr>\n",
       "    <tr>\n",
       "      <th>8758</th>\n",
       "      <td>8758</td>\n",
       "      <td>5</td>\n",
       "      <td>13</td>\n",
       "      <td>8</td>\n",
       "      <td>4</td>\n",
       "      <td>7.248434</td>\n",
       "      <td>-1.0</td>\n",
       "      <td>6.309692</td>\n",
       "    </tr>\n",
       "    <tr>\n",
       "      <th>8759</th>\n",
       "      <td>8759</td>\n",
       "      <td>9</td>\n",
       "      <td>13</td>\n",
       "      <td>8</td>\n",
       "      <td>4</td>\n",
       "      <td>8.121880</td>\n",
       "      <td>-1.0</td>\n",
       "      <td>10.000000</td>\n",
       "    </tr>\n",
       "    <tr>\n",
       "      <th>8760</th>\n",
       "      <td>8760</td>\n",
       "      <td>6</td>\n",
       "      <td>10</td>\n",
       "      <td>7</td>\n",
       "      <td>1</td>\n",
       "      <td>8.211661</td>\n",
       "      <td>-1.0</td>\n",
       "      <td>10.000000</td>\n",
       "    </tr>\n",
       "    <tr>\n",
       "      <th>8761</th>\n",
       "      <td>8761</td>\n",
       "      <td>8</td>\n",
       "      <td>13</td>\n",
       "      <td>1</td>\n",
       "      <td>12</td>\n",
       "      <td>7.724490</td>\n",
       "      <td>-1.0</td>\n",
       "      <td>5.556013</td>\n",
       "    </tr>\n",
       "    <tr>\n",
       "      <th>8762</th>\n",
       "      <td>8762</td>\n",
       "      <td>9</td>\n",
       "      <td>13</td>\n",
       "      <td>1</td>\n",
       "      <td>12</td>\n",
       "      <td>7.284459</td>\n",
       "      <td>-1.0</td>\n",
       "      <td>10.000000</td>\n",
       "    </tr>\n",
       "  </tbody>\n",
       "</table>\n",
       "<p>8763 rows × 8 columns</p>\n",
       "</div>"
      ],
      "text/plain": [
       "      Unnamed: 0  Player  Goal  Wall  Pit  Q_Current  Reward_Current  \\\n",
       "0              0       2    11    15    8   4.941091            -1.0   \n",
       "1              1       6    11    15    8   7.417938            -1.0   \n",
       "2              2       7    11    15    8   9.168983            -1.0   \n",
       "3              3       6    12     5   13   3.616126            -1.0   \n",
       "4              4      10    12     5   13   3.241566            -1.0   \n",
       "...          ...     ...   ...   ...  ...        ...             ...   \n",
       "8758        8758       5    13     8    4   7.248434            -1.0   \n",
       "8759        8759       9    13     8    4   8.121880            -1.0   \n",
       "8760        8760       6    10     7    1   8.211661            -1.0   \n",
       "8761        8761       8    13     1   12   7.724490            -1.0   \n",
       "8762        8762       9    13     1   12   7.284459            -1.0   \n",
       "\n",
       "      Bellman_Operator  \n",
       "0             4.318901  \n",
       "1             7.252085  \n",
       "2            10.000000  \n",
       "3             1.673050  \n",
       "4             5.395397  \n",
       "...                ...  \n",
       "8758          6.309692  \n",
       "8759         10.000000  \n",
       "8760         10.000000  \n",
       "8761          5.556013  \n",
       "8762         10.000000  \n",
       "\n",
       "[8763 rows x 8 columns]"
      ]
     },
     "execution_count": 13,
     "metadata": {},
     "output_type": "execute_result"
    }
   ],
   "source": [
    "df_non_uni = pd.read_csv(\"DatasetAfterNonUniform.csv\")\n",
    "df_non_uni"
   ]
  },
  {
   "cell_type": "markdown",
   "id": "59d22e2e",
   "metadata": {},
   "source": [
    "## 4. Unform Dataset MLP Performance <a id = \"mlpuniform\"> "
   ]
  },
  {
   "cell_type": "code",
   "execution_count": 48,
   "id": "5347d781",
   "metadata": {},
   "outputs": [],
   "source": [
    "X = df_uni[['Player','Pit', 'Goal', 'Wall']]\n",
    "y = df_uni[['Q_Current']]"
   ]
  },
  {
   "cell_type": "code",
   "execution_count": 49,
   "id": "f60003ea",
   "metadata": {},
   "outputs": [],
   "source": [
    "mlp_uniform_q = MLPRegressor(hidden_layer_sizes=(200,120), max_iter=300, activation = 'relu', solver='adam', random_state=123)"
   ]
  },
  {
   "cell_type": "code",
   "execution_count": 14,
   "id": "80aad211",
   "metadata": {
    "collapsed": true
   },
   "outputs": [
    {
     "name": "stderr",
     "output_type": "stream",
     "text": [
      "D:\\Conda\\lib\\site-packages\\sklearn\\neural_network\\_multilayer_perceptron.py:702: ConvergenceWarning: Stochastic Optimizer: Maximum iterations (300) reached and the optimization hasn't converged yet.\n",
      "  warnings.warn(\n",
      "D:\\Conda\\lib\\site-packages\\sklearn\\neural_network\\_multilayer_perceptron.py:702: ConvergenceWarning: Stochastic Optimizer: Maximum iterations (300) reached and the optimization hasn't converged yet.\n",
      "  warnings.warn(\n",
      "D:\\Conda\\lib\\site-packages\\sklearn\\neural_network\\_multilayer_perceptron.py:702: ConvergenceWarning: Stochastic Optimizer: Maximum iterations (300) reached and the optimization hasn't converged yet.\n",
      "  warnings.warn(\n",
      "D:\\Conda\\lib\\site-packages\\sklearn\\neural_network\\_multilayer_perceptron.py:702: ConvergenceWarning: Stochastic Optimizer: Maximum iterations (300) reached and the optimization hasn't converged yet.\n",
      "  warnings.warn(\n"
     ]
    }
   ],
   "source": [
    "scores = cross_validate(mlp_uniform_q, X.values,y.values.ravel(), scoring=score, cv=5, return_train_score=True)"
   ]
  },
  {
   "cell_type": "code",
   "execution_count": 15,
   "id": "2170afc9",
   "metadata": {},
   "outputs": [
    {
     "data": {
      "text/plain": [
       "45.134"
      ]
     },
     "execution_count": 15,
     "metadata": {},
     "output_type": "execute_result"
    }
   ],
   "source": [
    "SMAPE_mlp_uniform_q = np.mean(scores['test_score'])\n",
    "SMAPE_mlp_uniform_q"
   ]
  },
  {
   "cell_type": "code",
   "execution_count": 50,
   "id": "039fcfad",
   "metadata": {},
   "outputs": [
    {
     "data": {
      "text/html": [
       "<style>#sk-container-id-5 {color: black;background-color: white;}#sk-container-id-5 pre{padding: 0;}#sk-container-id-5 div.sk-toggleable {background-color: white;}#sk-container-id-5 label.sk-toggleable__label {cursor: pointer;display: block;width: 100%;margin-bottom: 0;padding: 0.3em;box-sizing: border-box;text-align: center;}#sk-container-id-5 label.sk-toggleable__label-arrow:before {content: \"▸\";float: left;margin-right: 0.25em;color: #696969;}#sk-container-id-5 label.sk-toggleable__label-arrow:hover:before {color: black;}#sk-container-id-5 div.sk-estimator:hover label.sk-toggleable__label-arrow:before {color: black;}#sk-container-id-5 div.sk-toggleable__content {max-height: 0;max-width: 0;overflow: hidden;text-align: left;background-color: #f0f8ff;}#sk-container-id-5 div.sk-toggleable__content pre {margin: 0.2em;color: black;border-radius: 0.25em;background-color: #f0f8ff;}#sk-container-id-5 input.sk-toggleable__control:checked~div.sk-toggleable__content {max-height: 200px;max-width: 100%;overflow: auto;}#sk-container-id-5 input.sk-toggleable__control:checked~label.sk-toggleable__label-arrow:before {content: \"▾\";}#sk-container-id-5 div.sk-estimator input.sk-toggleable__control:checked~label.sk-toggleable__label {background-color: #d4ebff;}#sk-container-id-5 div.sk-label input.sk-toggleable__control:checked~label.sk-toggleable__label {background-color: #d4ebff;}#sk-container-id-5 input.sk-hidden--visually {border: 0;clip: rect(1px 1px 1px 1px);clip: rect(1px, 1px, 1px, 1px);height: 1px;margin: -1px;overflow: hidden;padding: 0;position: absolute;width: 1px;}#sk-container-id-5 div.sk-estimator {font-family: monospace;background-color: #f0f8ff;border: 1px dotted black;border-radius: 0.25em;box-sizing: border-box;margin-bottom: 0.5em;}#sk-container-id-5 div.sk-estimator:hover {background-color: #d4ebff;}#sk-container-id-5 div.sk-parallel-item::after {content: \"\";width: 100%;border-bottom: 1px solid gray;flex-grow: 1;}#sk-container-id-5 div.sk-label:hover label.sk-toggleable__label {background-color: #d4ebff;}#sk-container-id-5 div.sk-serial::before {content: \"\";position: absolute;border-left: 1px solid gray;box-sizing: border-box;top: 0;bottom: 0;left: 50%;z-index: 0;}#sk-container-id-5 div.sk-serial {display: flex;flex-direction: column;align-items: center;background-color: white;padding-right: 0.2em;padding-left: 0.2em;position: relative;}#sk-container-id-5 div.sk-item {position: relative;z-index: 1;}#sk-container-id-5 div.sk-parallel {display: flex;align-items: stretch;justify-content: center;background-color: white;position: relative;}#sk-container-id-5 div.sk-item::before, #sk-container-id-5 div.sk-parallel-item::before {content: \"\";position: absolute;border-left: 1px solid gray;box-sizing: border-box;top: 0;bottom: 0;left: 50%;z-index: -1;}#sk-container-id-5 div.sk-parallel-item {display: flex;flex-direction: column;z-index: 1;position: relative;background-color: white;}#sk-container-id-5 div.sk-parallel-item:first-child::after {align-self: flex-end;width: 50%;}#sk-container-id-5 div.sk-parallel-item:last-child::after {align-self: flex-start;width: 50%;}#sk-container-id-5 div.sk-parallel-item:only-child::after {width: 0;}#sk-container-id-5 div.sk-dashed-wrapped {border: 1px dashed gray;margin: 0 0.4em 0.5em 0.4em;box-sizing: border-box;padding-bottom: 0.4em;background-color: white;}#sk-container-id-5 div.sk-label label {font-family: monospace;font-weight: bold;display: inline-block;line-height: 1.2em;}#sk-container-id-5 div.sk-label-container {text-align: center;}#sk-container-id-5 div.sk-container {/* jupyter's `normalize.less` sets `[hidden] { display: none; }` but bootstrap.min.css set `[hidden] { display: none !important; }` so we also need the `!important` here to be able to override the default hidden behavior on the sphinx rendered scikit-learn.org. See: https://github.com/scikit-learn/scikit-learn/issues/21755 */display: inline-block !important;position: relative;}#sk-container-id-5 div.sk-text-repr-fallback {display: none;}</style><div id=\"sk-container-id-5\" class=\"sk-top-container\"><div class=\"sk-text-repr-fallback\"><pre>MLPRegressor(hidden_layer_sizes=(200, 120), max_iter=300, random_state=123)</pre><b>In a Jupyter environment, please rerun this cell to show the HTML representation or trust the notebook. <br />On GitHub, the HTML representation is unable to render, please try loading this page with nbviewer.org.</b></div><div class=\"sk-container\" hidden><div class=\"sk-item\"><div class=\"sk-estimator sk-toggleable\"><input class=\"sk-toggleable__control sk-hidden--visually\" id=\"sk-estimator-id-5\" type=\"checkbox\" checked><label for=\"sk-estimator-id-5\" class=\"sk-toggleable__label sk-toggleable__label-arrow\">MLPRegressor</label><div class=\"sk-toggleable__content\"><pre>MLPRegressor(hidden_layer_sizes=(200, 120), max_iter=300, random_state=123)</pre></div></div></div></div></div>"
      ],
      "text/plain": [
       "MLPRegressor(hidden_layer_sizes=(200, 120), max_iter=300, random_state=123)"
      ]
     },
     "execution_count": 50,
     "metadata": {},
     "output_type": "execute_result"
    }
   ],
   "source": [
    "mlp_uniform_q.fit(X.values,y.values.ravel())"
   ]
  },
  {
   "cell_type": "code",
   "execution_count": 18,
   "id": "8ba69c73",
   "metadata": {},
   "outputs": [
    {
     "name": "stdout",
     "output_type": "stream",
     "text": [
      "Games played: 1000, # of wins: 928\n",
      "0.928\n",
      "0.928\n",
      "Games played: 1000, # of wins: 937\n",
      "0.937\n",
      "1.8650000000000002\n",
      "Games played: 1000, # of wins: 908\n",
      "0.908\n",
      "2.773\n",
      "Games played: 1000, # of wins: 920\n",
      "0.92\n",
      "3.693\n",
      "Games played: 1000, # of wins: 918\n",
      "0.918\n",
      "4.611\n",
      "Games played: 1000, # of wins: 916\n",
      "0.916\n",
      "5.527\n",
      "Games played: 1000, # of wins: 933\n",
      "0.933\n",
      "6.46\n",
      "Games played: 1000, # of wins: 936\n",
      "0.936\n",
      "7.396\n",
      "Games played: 1000, # of wins: 932\n",
      "0.932\n",
      "8.328\n",
      "Games played: 1000, # of wins: 911\n",
      "0.911\n",
      "9.238999999999999\n",
      "Win percentage: 92.39%\n"
     ]
    }
   ],
   "source": [
    "win_num = 0\n",
    "for i in range(0,10):\n",
    "    max_games = 1000\n",
    "    wins = 0\n",
    "    for i in range(max_games):\n",
    "        win = gridworld_test_model(mlp_uniform_q, 'random', display = False)\n",
    "        if win:\n",
    "            wins += 1\n",
    "    win_perc = float(wins) / float(max_games)\n",
    "    win_num = win_num + win_perc\n",
    "    print(\"Games played: {0}, # of wins: {1}\".format(max_games,wins))\n",
    "    print(win_perc)\n",
    "    print(win_num)\n",
    "win_num = win_num / 10\n",
    "print(\"Win percentage: {}%\".format(win_num*100))"
   ]
  },
  {
   "cell_type": "markdown",
   "id": "ee2a73a1",
   "metadata": {},
   "source": [
    "### Bellman Operator Approximation"
   ]
  },
  {
   "cell_type": "code",
   "execution_count": 51,
   "id": "7d7a5af4",
   "metadata": {},
   "outputs": [],
   "source": [
    "X = df_uni[['Player','Pit', 'Goal', 'Wall']]\n",
    "y = df_uni[['Bellman_Operator']]"
   ]
  },
  {
   "cell_type": "code",
   "execution_count": 52,
   "id": "c5c0567c",
   "metadata": {},
   "outputs": [],
   "source": [
    "mlp_uniform_bo = MLPRegressor(hidden_layer_sizes=(200,120), max_iter=300, activation = 'relu', solver='adam', random_state=123)"
   ]
  },
  {
   "cell_type": "code",
   "execution_count": 21,
   "id": "1989f4ac",
   "metadata": {},
   "outputs": [
    {
     "name": "stderr",
     "output_type": "stream",
     "text": [
      "D:\\Conda\\lib\\site-packages\\sklearn\\neural_network\\_multilayer_perceptron.py:702: ConvergenceWarning: Stochastic Optimizer: Maximum iterations (300) reached and the optimization hasn't converged yet.\n",
      "  warnings.warn(\n",
      "D:\\Conda\\lib\\site-packages\\sklearn\\neural_network\\_multilayer_perceptron.py:702: ConvergenceWarning: Stochastic Optimizer: Maximum iterations (300) reached and the optimization hasn't converged yet.\n",
      "  warnings.warn(\n",
      "D:\\Conda\\lib\\site-packages\\sklearn\\neural_network\\_multilayer_perceptron.py:702: ConvergenceWarning: Stochastic Optimizer: Maximum iterations (300) reached and the optimization hasn't converged yet.\n",
      "  warnings.warn(\n"
     ]
    },
    {
     "data": {
      "text/plain": [
       "30.848000000000003"
      ]
     },
     "execution_count": 21,
     "metadata": {},
     "output_type": "execute_result"
    }
   ],
   "source": [
    "scores = cross_validate(mlp_uniform_bo, X.values,y.values.ravel(), scoring=score, cv=5, return_train_score=True)\n",
    "SMAPE_mlp_uniform_bo = np.mean(scores['test_score'])\n",
    "SMAPE_mlp_uniform_bo"
   ]
  },
  {
   "cell_type": "code",
   "execution_count": 53,
   "id": "917a1d40",
   "metadata": {},
   "outputs": [
    {
     "data": {
      "text/html": [
       "<style>#sk-container-id-6 {color: black;background-color: white;}#sk-container-id-6 pre{padding: 0;}#sk-container-id-6 div.sk-toggleable {background-color: white;}#sk-container-id-6 label.sk-toggleable__label {cursor: pointer;display: block;width: 100%;margin-bottom: 0;padding: 0.3em;box-sizing: border-box;text-align: center;}#sk-container-id-6 label.sk-toggleable__label-arrow:before {content: \"▸\";float: left;margin-right: 0.25em;color: #696969;}#sk-container-id-6 label.sk-toggleable__label-arrow:hover:before {color: black;}#sk-container-id-6 div.sk-estimator:hover label.sk-toggleable__label-arrow:before {color: black;}#sk-container-id-6 div.sk-toggleable__content {max-height: 0;max-width: 0;overflow: hidden;text-align: left;background-color: #f0f8ff;}#sk-container-id-6 div.sk-toggleable__content pre {margin: 0.2em;color: black;border-radius: 0.25em;background-color: #f0f8ff;}#sk-container-id-6 input.sk-toggleable__control:checked~div.sk-toggleable__content {max-height: 200px;max-width: 100%;overflow: auto;}#sk-container-id-6 input.sk-toggleable__control:checked~label.sk-toggleable__label-arrow:before {content: \"▾\";}#sk-container-id-6 div.sk-estimator input.sk-toggleable__control:checked~label.sk-toggleable__label {background-color: #d4ebff;}#sk-container-id-6 div.sk-label input.sk-toggleable__control:checked~label.sk-toggleable__label {background-color: #d4ebff;}#sk-container-id-6 input.sk-hidden--visually {border: 0;clip: rect(1px 1px 1px 1px);clip: rect(1px, 1px, 1px, 1px);height: 1px;margin: -1px;overflow: hidden;padding: 0;position: absolute;width: 1px;}#sk-container-id-6 div.sk-estimator {font-family: monospace;background-color: #f0f8ff;border: 1px dotted black;border-radius: 0.25em;box-sizing: border-box;margin-bottom: 0.5em;}#sk-container-id-6 div.sk-estimator:hover {background-color: #d4ebff;}#sk-container-id-6 div.sk-parallel-item::after {content: \"\";width: 100%;border-bottom: 1px solid gray;flex-grow: 1;}#sk-container-id-6 div.sk-label:hover label.sk-toggleable__label {background-color: #d4ebff;}#sk-container-id-6 div.sk-serial::before {content: \"\";position: absolute;border-left: 1px solid gray;box-sizing: border-box;top: 0;bottom: 0;left: 50%;z-index: 0;}#sk-container-id-6 div.sk-serial {display: flex;flex-direction: column;align-items: center;background-color: white;padding-right: 0.2em;padding-left: 0.2em;position: relative;}#sk-container-id-6 div.sk-item {position: relative;z-index: 1;}#sk-container-id-6 div.sk-parallel {display: flex;align-items: stretch;justify-content: center;background-color: white;position: relative;}#sk-container-id-6 div.sk-item::before, #sk-container-id-6 div.sk-parallel-item::before {content: \"\";position: absolute;border-left: 1px solid gray;box-sizing: border-box;top: 0;bottom: 0;left: 50%;z-index: -1;}#sk-container-id-6 div.sk-parallel-item {display: flex;flex-direction: column;z-index: 1;position: relative;background-color: white;}#sk-container-id-6 div.sk-parallel-item:first-child::after {align-self: flex-end;width: 50%;}#sk-container-id-6 div.sk-parallel-item:last-child::after {align-self: flex-start;width: 50%;}#sk-container-id-6 div.sk-parallel-item:only-child::after {width: 0;}#sk-container-id-6 div.sk-dashed-wrapped {border: 1px dashed gray;margin: 0 0.4em 0.5em 0.4em;box-sizing: border-box;padding-bottom: 0.4em;background-color: white;}#sk-container-id-6 div.sk-label label {font-family: monospace;font-weight: bold;display: inline-block;line-height: 1.2em;}#sk-container-id-6 div.sk-label-container {text-align: center;}#sk-container-id-6 div.sk-container {/* jupyter's `normalize.less` sets `[hidden] { display: none; }` but bootstrap.min.css set `[hidden] { display: none !important; }` so we also need the `!important` here to be able to override the default hidden behavior on the sphinx rendered scikit-learn.org. See: https://github.com/scikit-learn/scikit-learn/issues/21755 */display: inline-block !important;position: relative;}#sk-container-id-6 div.sk-text-repr-fallback {display: none;}</style><div id=\"sk-container-id-6\" class=\"sk-top-container\"><div class=\"sk-text-repr-fallback\"><pre>MLPRegressor(hidden_layer_sizes=(200, 120), max_iter=300, random_state=123)</pre><b>In a Jupyter environment, please rerun this cell to show the HTML representation or trust the notebook. <br />On GitHub, the HTML representation is unable to render, please try loading this page with nbviewer.org.</b></div><div class=\"sk-container\" hidden><div class=\"sk-item\"><div class=\"sk-estimator sk-toggleable\"><input class=\"sk-toggleable__control sk-hidden--visually\" id=\"sk-estimator-id-6\" type=\"checkbox\" checked><label for=\"sk-estimator-id-6\" class=\"sk-toggleable__label sk-toggleable__label-arrow\">MLPRegressor</label><div class=\"sk-toggleable__content\"><pre>MLPRegressor(hidden_layer_sizes=(200, 120), max_iter=300, random_state=123)</pre></div></div></div></div></div>"
      ],
      "text/plain": [
       "MLPRegressor(hidden_layer_sizes=(200, 120), max_iter=300, random_state=123)"
      ]
     },
     "execution_count": 53,
     "metadata": {},
     "output_type": "execute_result"
    }
   ],
   "source": [
    "mlp_uniform_bo.fit(X.values,y.values.ravel())"
   ]
  },
  {
   "cell_type": "code",
   "execution_count": 23,
   "id": "f71fd9f2",
   "metadata": {},
   "outputs": [
    {
     "name": "stdout",
     "output_type": "stream",
     "text": [
      "Games played: 1000, # of wins: 877\n",
      "0.877\n",
      "0.877\n",
      "Games played: 1000, # of wins: 889\n",
      "0.889\n",
      "1.766\n",
      "Games played: 1000, # of wins: 895\n",
      "0.895\n",
      "2.661\n",
      "Games played: 1000, # of wins: 875\n",
      "0.875\n",
      "3.536\n",
      "Games played: 1000, # of wins: 863\n",
      "0.863\n",
      "4.399\n",
      "Games played: 1000, # of wins: 908\n",
      "0.908\n",
      "5.307\n",
      "Games played: 1000, # of wins: 877\n",
      "0.877\n",
      "6.184\n",
      "Games played: 1000, # of wins: 891\n",
      "0.891\n",
      "7.075\n",
      "Games played: 1000, # of wins: 878\n",
      "0.878\n",
      "7.953\n",
      "Games played: 1000, # of wins: 878\n",
      "0.878\n",
      "8.831\n",
      "Win percentage: 88.31%\n"
     ]
    }
   ],
   "source": [
    "win_num = 0\n",
    "for i in range(0,10):\n",
    "    max_games = 1000\n",
    "    wins = 0\n",
    "    for i in range(max_games):\n",
    "        win = gridworld_test_model(mlp_uniform_bo, 'random', display = False)\n",
    "        if win:\n",
    "            wins += 1\n",
    "    win_perc = float(wins) / float(max_games)\n",
    "    win_num = win_num + win_perc\n",
    "    print(\"Games played: {0}, # of wins: {1}\".format(max_games,wins))\n",
    "    print(win_perc)\n",
    "    print(win_num)\n",
    "win_num = win_num / 10\n",
    "print(\"Win percentage: {}%\".format(win_num*100))"
   ]
  },
  {
   "cell_type": "markdown",
   "id": "bb06909e",
   "metadata": {},
   "source": [
    "## 5. Non-Unform Dataset MLP Performance <a id = \"mlpnonuniform\"> "
   ]
  },
  {
   "cell_type": "markdown",
   "id": "c0567e73",
   "metadata": {},
   "source": [
    "### Q value approximation"
   ]
  },
  {
   "cell_type": "code",
   "execution_count": 54,
   "id": "4a674d74",
   "metadata": {},
   "outputs": [],
   "source": [
    "X = df_non_uni[['Player','Pit', 'Goal', 'Wall']]\n",
    "y = df_non_uni[['Q_Current']]"
   ]
  },
  {
   "cell_type": "code",
   "execution_count": 55,
   "id": "7d90fe6a",
   "metadata": {},
   "outputs": [],
   "source": [
    "mlp_non_uniform_q = MLPRegressor(hidden_layer_sizes=(200,120), max_iter=300, activation = 'relu', solver='adam', random_state=123)"
   ]
  },
  {
   "cell_type": "code",
   "execution_count": 29,
   "id": "616c7c0a",
   "metadata": {},
   "outputs": [
    {
     "data": {
      "text/plain": [
       "32.754"
      ]
     },
     "execution_count": 29,
     "metadata": {},
     "output_type": "execute_result"
    }
   ],
   "source": [
    "scores = cross_validate(mlp_non_uniform_q, X.values,y.values.ravel(), scoring=score, cv=5, return_train_score=True)\n",
    "SMAPE_mlp_non_uniform_q = np.mean(scores['test_score'])\n",
    "SMAPE_mlp_non_uniform_q"
   ]
  },
  {
   "cell_type": "code",
   "execution_count": 56,
   "id": "50a220bc",
   "metadata": {},
   "outputs": [
    {
     "data": {
      "text/html": [
       "<style>#sk-container-id-7 {color: black;background-color: white;}#sk-container-id-7 pre{padding: 0;}#sk-container-id-7 div.sk-toggleable {background-color: white;}#sk-container-id-7 label.sk-toggleable__label {cursor: pointer;display: block;width: 100%;margin-bottom: 0;padding: 0.3em;box-sizing: border-box;text-align: center;}#sk-container-id-7 label.sk-toggleable__label-arrow:before {content: \"▸\";float: left;margin-right: 0.25em;color: #696969;}#sk-container-id-7 label.sk-toggleable__label-arrow:hover:before {color: black;}#sk-container-id-7 div.sk-estimator:hover label.sk-toggleable__label-arrow:before {color: black;}#sk-container-id-7 div.sk-toggleable__content {max-height: 0;max-width: 0;overflow: hidden;text-align: left;background-color: #f0f8ff;}#sk-container-id-7 div.sk-toggleable__content pre {margin: 0.2em;color: black;border-radius: 0.25em;background-color: #f0f8ff;}#sk-container-id-7 input.sk-toggleable__control:checked~div.sk-toggleable__content {max-height: 200px;max-width: 100%;overflow: auto;}#sk-container-id-7 input.sk-toggleable__control:checked~label.sk-toggleable__label-arrow:before {content: \"▾\";}#sk-container-id-7 div.sk-estimator input.sk-toggleable__control:checked~label.sk-toggleable__label {background-color: #d4ebff;}#sk-container-id-7 div.sk-label input.sk-toggleable__control:checked~label.sk-toggleable__label {background-color: #d4ebff;}#sk-container-id-7 input.sk-hidden--visually {border: 0;clip: rect(1px 1px 1px 1px);clip: rect(1px, 1px, 1px, 1px);height: 1px;margin: -1px;overflow: hidden;padding: 0;position: absolute;width: 1px;}#sk-container-id-7 div.sk-estimator {font-family: monospace;background-color: #f0f8ff;border: 1px dotted black;border-radius: 0.25em;box-sizing: border-box;margin-bottom: 0.5em;}#sk-container-id-7 div.sk-estimator:hover {background-color: #d4ebff;}#sk-container-id-7 div.sk-parallel-item::after {content: \"\";width: 100%;border-bottom: 1px solid gray;flex-grow: 1;}#sk-container-id-7 div.sk-label:hover label.sk-toggleable__label {background-color: #d4ebff;}#sk-container-id-7 div.sk-serial::before {content: \"\";position: absolute;border-left: 1px solid gray;box-sizing: border-box;top: 0;bottom: 0;left: 50%;z-index: 0;}#sk-container-id-7 div.sk-serial {display: flex;flex-direction: column;align-items: center;background-color: white;padding-right: 0.2em;padding-left: 0.2em;position: relative;}#sk-container-id-7 div.sk-item {position: relative;z-index: 1;}#sk-container-id-7 div.sk-parallel {display: flex;align-items: stretch;justify-content: center;background-color: white;position: relative;}#sk-container-id-7 div.sk-item::before, #sk-container-id-7 div.sk-parallel-item::before {content: \"\";position: absolute;border-left: 1px solid gray;box-sizing: border-box;top: 0;bottom: 0;left: 50%;z-index: -1;}#sk-container-id-7 div.sk-parallel-item {display: flex;flex-direction: column;z-index: 1;position: relative;background-color: white;}#sk-container-id-7 div.sk-parallel-item:first-child::after {align-self: flex-end;width: 50%;}#sk-container-id-7 div.sk-parallel-item:last-child::after {align-self: flex-start;width: 50%;}#sk-container-id-7 div.sk-parallel-item:only-child::after {width: 0;}#sk-container-id-7 div.sk-dashed-wrapped {border: 1px dashed gray;margin: 0 0.4em 0.5em 0.4em;box-sizing: border-box;padding-bottom: 0.4em;background-color: white;}#sk-container-id-7 div.sk-label label {font-family: monospace;font-weight: bold;display: inline-block;line-height: 1.2em;}#sk-container-id-7 div.sk-label-container {text-align: center;}#sk-container-id-7 div.sk-container {/* jupyter's `normalize.less` sets `[hidden] { display: none; }` but bootstrap.min.css set `[hidden] { display: none !important; }` so we also need the `!important` here to be able to override the default hidden behavior on the sphinx rendered scikit-learn.org. See: https://github.com/scikit-learn/scikit-learn/issues/21755 */display: inline-block !important;position: relative;}#sk-container-id-7 div.sk-text-repr-fallback {display: none;}</style><div id=\"sk-container-id-7\" class=\"sk-top-container\"><div class=\"sk-text-repr-fallback\"><pre>MLPRegressor(hidden_layer_sizes=(200, 120), max_iter=300, random_state=123)</pre><b>In a Jupyter environment, please rerun this cell to show the HTML representation or trust the notebook. <br />On GitHub, the HTML representation is unable to render, please try loading this page with nbviewer.org.</b></div><div class=\"sk-container\" hidden><div class=\"sk-item\"><div class=\"sk-estimator sk-toggleable\"><input class=\"sk-toggleable__control sk-hidden--visually\" id=\"sk-estimator-id-7\" type=\"checkbox\" checked><label for=\"sk-estimator-id-7\" class=\"sk-toggleable__label sk-toggleable__label-arrow\">MLPRegressor</label><div class=\"sk-toggleable__content\"><pre>MLPRegressor(hidden_layer_sizes=(200, 120), max_iter=300, random_state=123)</pre></div></div></div></div></div>"
      ],
      "text/plain": [
       "MLPRegressor(hidden_layer_sizes=(200, 120), max_iter=300, random_state=123)"
      ]
     },
     "execution_count": 56,
     "metadata": {},
     "output_type": "execute_result"
    }
   ],
   "source": [
    "mlp_non_uniform_q.fit(X.values,y.values.ravel())"
   ]
  },
  {
   "cell_type": "code",
   "execution_count": 31,
   "id": "9024f4eb",
   "metadata": {},
   "outputs": [
    {
     "name": "stdout",
     "output_type": "stream",
     "text": [
      "Games played: 1000, # of wins: 451\n",
      "0.451\n",
      "0.451\n",
      "Games played: 1000, # of wins: 431\n",
      "0.431\n",
      "0.882\n",
      "Games played: 1000, # of wins: 445\n",
      "0.445\n",
      "1.327\n",
      "Games played: 1000, # of wins: 463\n",
      "0.463\n",
      "1.79\n",
      "Games played: 1000, # of wins: 450\n",
      "0.45\n",
      "2.24\n",
      "Games played: 1000, # of wins: 438\n",
      "0.438\n",
      "2.6780000000000004\n",
      "Games played: 1000, # of wins: 455\n",
      "0.455\n",
      "3.1330000000000005\n",
      "Games played: 1000, # of wins: 449\n",
      "0.449\n",
      "3.5820000000000003\n",
      "Games played: 1000, # of wins: 444\n",
      "0.444\n",
      "4.026000000000001\n",
      "Games played: 1000, # of wins: 443\n",
      "0.443\n",
      "4.469\n",
      "Win percentage: 44.690000000000005%\n"
     ]
    }
   ],
   "source": [
    "win_num = 0\n",
    "for i in range(0,10):\n",
    "    max_games = 1000\n",
    "    wins = 0\n",
    "    for i in range(max_games):\n",
    "        win = gridworld_test_model(mlp_non_uniform_q, 'random', display = False)\n",
    "        if win:\n",
    "            wins += 1\n",
    "    win_perc = float(wins) / float(max_games)\n",
    "    win_num = win_num + win_perc\n",
    "    print(\"Games played: {0}, # of wins: {1}\".format(max_games,wins))\n",
    "    print(win_perc)\n",
    "    print(win_num)\n",
    "win_num = win_num / 10\n",
    "print(\"Win percentage: {}%\".format(win_num*100))"
   ]
  },
  {
   "cell_type": "markdown",
   "id": "72d4b868",
   "metadata": {},
   "source": [
    "### Bellman Operator Approximation"
   ]
  },
  {
   "cell_type": "code",
   "execution_count": 57,
   "id": "dadbce54",
   "metadata": {},
   "outputs": [],
   "source": [
    "X = df_non_uni[['Player','Pit', 'Goal', 'Wall']]\n",
    "y = df_non_uni[['Bellman_Operator']]"
   ]
  },
  {
   "cell_type": "code",
   "execution_count": 58,
   "id": "520c7c3f",
   "metadata": {},
   "outputs": [],
   "source": [
    "mlp_non_uniform_bo = MLPRegressor(hidden_layer_sizes=(200,120), max_iter=300, activation = 'relu', solver='adam', random_state=123)"
   ]
  },
  {
   "cell_type": "code",
   "execution_count": 34,
   "id": "a68cde73",
   "metadata": {},
   "outputs": [
    {
     "data": {
      "text/plain": [
       "35.2"
      ]
     },
     "execution_count": 34,
     "metadata": {},
     "output_type": "execute_result"
    }
   ],
   "source": [
    "scores = cross_validate(mlp_non_uniform_bo, X.values,y.values.ravel(), scoring=score, cv=5, return_train_score=True)\n",
    "SMAPE_mlp_non_uniform_bo = np.mean(scores['test_score'])\n",
    "SMAPE_mlp_non_uniform_bo"
   ]
  },
  {
   "cell_type": "code",
   "execution_count": 59,
   "id": "4a623281",
   "metadata": {},
   "outputs": [
    {
     "data": {
      "text/html": [
       "<style>#sk-container-id-8 {color: black;background-color: white;}#sk-container-id-8 pre{padding: 0;}#sk-container-id-8 div.sk-toggleable {background-color: white;}#sk-container-id-8 label.sk-toggleable__label {cursor: pointer;display: block;width: 100%;margin-bottom: 0;padding: 0.3em;box-sizing: border-box;text-align: center;}#sk-container-id-8 label.sk-toggleable__label-arrow:before {content: \"▸\";float: left;margin-right: 0.25em;color: #696969;}#sk-container-id-8 label.sk-toggleable__label-arrow:hover:before {color: black;}#sk-container-id-8 div.sk-estimator:hover label.sk-toggleable__label-arrow:before {color: black;}#sk-container-id-8 div.sk-toggleable__content {max-height: 0;max-width: 0;overflow: hidden;text-align: left;background-color: #f0f8ff;}#sk-container-id-8 div.sk-toggleable__content pre {margin: 0.2em;color: black;border-radius: 0.25em;background-color: #f0f8ff;}#sk-container-id-8 input.sk-toggleable__control:checked~div.sk-toggleable__content {max-height: 200px;max-width: 100%;overflow: auto;}#sk-container-id-8 input.sk-toggleable__control:checked~label.sk-toggleable__label-arrow:before {content: \"▾\";}#sk-container-id-8 div.sk-estimator input.sk-toggleable__control:checked~label.sk-toggleable__label {background-color: #d4ebff;}#sk-container-id-8 div.sk-label input.sk-toggleable__control:checked~label.sk-toggleable__label {background-color: #d4ebff;}#sk-container-id-8 input.sk-hidden--visually {border: 0;clip: rect(1px 1px 1px 1px);clip: rect(1px, 1px, 1px, 1px);height: 1px;margin: -1px;overflow: hidden;padding: 0;position: absolute;width: 1px;}#sk-container-id-8 div.sk-estimator {font-family: monospace;background-color: #f0f8ff;border: 1px dotted black;border-radius: 0.25em;box-sizing: border-box;margin-bottom: 0.5em;}#sk-container-id-8 div.sk-estimator:hover {background-color: #d4ebff;}#sk-container-id-8 div.sk-parallel-item::after {content: \"\";width: 100%;border-bottom: 1px solid gray;flex-grow: 1;}#sk-container-id-8 div.sk-label:hover label.sk-toggleable__label {background-color: #d4ebff;}#sk-container-id-8 div.sk-serial::before {content: \"\";position: absolute;border-left: 1px solid gray;box-sizing: border-box;top: 0;bottom: 0;left: 50%;z-index: 0;}#sk-container-id-8 div.sk-serial {display: flex;flex-direction: column;align-items: center;background-color: white;padding-right: 0.2em;padding-left: 0.2em;position: relative;}#sk-container-id-8 div.sk-item {position: relative;z-index: 1;}#sk-container-id-8 div.sk-parallel {display: flex;align-items: stretch;justify-content: center;background-color: white;position: relative;}#sk-container-id-8 div.sk-item::before, #sk-container-id-8 div.sk-parallel-item::before {content: \"\";position: absolute;border-left: 1px solid gray;box-sizing: border-box;top: 0;bottom: 0;left: 50%;z-index: -1;}#sk-container-id-8 div.sk-parallel-item {display: flex;flex-direction: column;z-index: 1;position: relative;background-color: white;}#sk-container-id-8 div.sk-parallel-item:first-child::after {align-self: flex-end;width: 50%;}#sk-container-id-8 div.sk-parallel-item:last-child::after {align-self: flex-start;width: 50%;}#sk-container-id-8 div.sk-parallel-item:only-child::after {width: 0;}#sk-container-id-8 div.sk-dashed-wrapped {border: 1px dashed gray;margin: 0 0.4em 0.5em 0.4em;box-sizing: border-box;padding-bottom: 0.4em;background-color: white;}#sk-container-id-8 div.sk-label label {font-family: monospace;font-weight: bold;display: inline-block;line-height: 1.2em;}#sk-container-id-8 div.sk-label-container {text-align: center;}#sk-container-id-8 div.sk-container {/* jupyter's `normalize.less` sets `[hidden] { display: none; }` but bootstrap.min.css set `[hidden] { display: none !important; }` so we also need the `!important` here to be able to override the default hidden behavior on the sphinx rendered scikit-learn.org. See: https://github.com/scikit-learn/scikit-learn/issues/21755 */display: inline-block !important;position: relative;}#sk-container-id-8 div.sk-text-repr-fallback {display: none;}</style><div id=\"sk-container-id-8\" class=\"sk-top-container\"><div class=\"sk-text-repr-fallback\"><pre>MLPRegressor(hidden_layer_sizes=(200, 120), max_iter=300, random_state=123)</pre><b>In a Jupyter environment, please rerun this cell to show the HTML representation or trust the notebook. <br />On GitHub, the HTML representation is unable to render, please try loading this page with nbviewer.org.</b></div><div class=\"sk-container\" hidden><div class=\"sk-item\"><div class=\"sk-estimator sk-toggleable\"><input class=\"sk-toggleable__control sk-hidden--visually\" id=\"sk-estimator-id-8\" type=\"checkbox\" checked><label for=\"sk-estimator-id-8\" class=\"sk-toggleable__label sk-toggleable__label-arrow\">MLPRegressor</label><div class=\"sk-toggleable__content\"><pre>MLPRegressor(hidden_layer_sizes=(200, 120), max_iter=300, random_state=123)</pre></div></div></div></div></div>"
      ],
      "text/plain": [
       "MLPRegressor(hidden_layer_sizes=(200, 120), max_iter=300, random_state=123)"
      ]
     },
     "execution_count": 59,
     "metadata": {},
     "output_type": "execute_result"
    }
   ],
   "source": [
    "mlp_non_uniform_bo.fit(X.values,y.values.ravel())"
   ]
  },
  {
   "cell_type": "code",
   "execution_count": 36,
   "id": "37eef510",
   "metadata": {},
   "outputs": [
    {
     "name": "stdout",
     "output_type": "stream",
     "text": [
      "Games played: 1000, # of wins: 740\n",
      "0.74\n",
      "0.74\n",
      "Games played: 1000, # of wins: 776\n",
      "0.776\n",
      "1.516\n",
      "Games played: 1000, # of wins: 789\n",
      "0.789\n",
      "2.305\n",
      "Games played: 1000, # of wins: 746\n",
      "0.746\n",
      "3.051\n",
      "Games played: 1000, # of wins: 727\n",
      "0.727\n",
      "3.778\n",
      "Games played: 1000, # of wins: 780\n",
      "0.78\n",
      "4.558\n",
      "Games played: 1000, # of wins: 765\n",
      "0.765\n",
      "5.3229999999999995\n",
      "Games played: 1000, # of wins: 736\n",
      "0.736\n",
      "6.058999999999999\n",
      "Games played: 1000, # of wins: 738\n",
      "0.738\n",
      "6.796999999999999\n",
      "Games played: 1000, # of wins: 753\n",
      "0.753\n",
      "7.549999999999999\n",
      "Win percentage: 75.49999999999999%\n"
     ]
    }
   ],
   "source": [
    "win_num = 0\n",
    "for i in range(0,10):\n",
    "    max_games = 1000\n",
    "    wins = 0\n",
    "    for i in range(max_games):\n",
    "        win = gridworld_test_model(mlp_non_uniform_bo, 'random', display = False)\n",
    "        if win:\n",
    "            wins += 1\n",
    "    win_perc = float(wins) / float(max_games)\n",
    "    win_num = win_num + win_perc\n",
    "    print(\"Games played: {0}, # of wins: {1}\".format(max_games,wins))\n",
    "    print(win_perc)\n",
    "    print(win_num)\n",
    "win_num = win_num / 10\n",
    "print(\"Win percentage: {}%\".format(win_num*100))"
   ]
  },
  {
   "cell_type": "markdown",
   "id": "968917d7",
   "metadata": {},
   "source": [
    "## 6. Unform Dataset LR Performance <a id = \"lruniform\"> "
   ]
  },
  {
   "cell_type": "markdown",
   "id": "8ff6e519",
   "metadata": {},
   "source": [
    "### Q value approximation"
   ]
  },
  {
   "cell_type": "code",
   "execution_count": 60,
   "id": "3b6dcd18",
   "metadata": {},
   "outputs": [],
   "source": [
    "X = df_uni[['Player', 'Pit', 'Goal', 'Wall']]\n",
    "y = df_uni[['Q_Current']]"
   ]
  },
  {
   "cell_type": "code",
   "execution_count": 61,
   "id": "666437b5",
   "metadata": {},
   "outputs": [],
   "source": [
    "lr_uniform_q = LinearRegression()"
   ]
  },
  {
   "cell_type": "code",
   "execution_count": 39,
   "id": "7c6273af",
   "metadata": {},
   "outputs": [
    {
     "data": {
      "text/plain": [
       "56.69199999999999"
      ]
     },
     "execution_count": 39,
     "metadata": {},
     "output_type": "execute_result"
    }
   ],
   "source": [
    "scores = cross_validate(lr_uniform_q, X.values,y.values.ravel(), scoring=score, cv=5, return_train_score=True)\n",
    "SMAPE_lr_uniform_q = np.mean(scores['test_score'])\n",
    "SMAPE_lr_uniform_q"
   ]
  },
  {
   "cell_type": "code",
   "execution_count": 62,
   "id": "1f6ce340",
   "metadata": {},
   "outputs": [
    {
     "data": {
      "text/html": [
       "<style>#sk-container-id-9 {color: black;background-color: white;}#sk-container-id-9 pre{padding: 0;}#sk-container-id-9 div.sk-toggleable {background-color: white;}#sk-container-id-9 label.sk-toggleable__label {cursor: pointer;display: block;width: 100%;margin-bottom: 0;padding: 0.3em;box-sizing: border-box;text-align: center;}#sk-container-id-9 label.sk-toggleable__label-arrow:before {content: \"▸\";float: left;margin-right: 0.25em;color: #696969;}#sk-container-id-9 label.sk-toggleable__label-arrow:hover:before {color: black;}#sk-container-id-9 div.sk-estimator:hover label.sk-toggleable__label-arrow:before {color: black;}#sk-container-id-9 div.sk-toggleable__content {max-height: 0;max-width: 0;overflow: hidden;text-align: left;background-color: #f0f8ff;}#sk-container-id-9 div.sk-toggleable__content pre {margin: 0.2em;color: black;border-radius: 0.25em;background-color: #f0f8ff;}#sk-container-id-9 input.sk-toggleable__control:checked~div.sk-toggleable__content {max-height: 200px;max-width: 100%;overflow: auto;}#sk-container-id-9 input.sk-toggleable__control:checked~label.sk-toggleable__label-arrow:before {content: \"▾\";}#sk-container-id-9 div.sk-estimator input.sk-toggleable__control:checked~label.sk-toggleable__label {background-color: #d4ebff;}#sk-container-id-9 div.sk-label input.sk-toggleable__control:checked~label.sk-toggleable__label {background-color: #d4ebff;}#sk-container-id-9 input.sk-hidden--visually {border: 0;clip: rect(1px 1px 1px 1px);clip: rect(1px, 1px, 1px, 1px);height: 1px;margin: -1px;overflow: hidden;padding: 0;position: absolute;width: 1px;}#sk-container-id-9 div.sk-estimator {font-family: monospace;background-color: #f0f8ff;border: 1px dotted black;border-radius: 0.25em;box-sizing: border-box;margin-bottom: 0.5em;}#sk-container-id-9 div.sk-estimator:hover {background-color: #d4ebff;}#sk-container-id-9 div.sk-parallel-item::after {content: \"\";width: 100%;border-bottom: 1px solid gray;flex-grow: 1;}#sk-container-id-9 div.sk-label:hover label.sk-toggleable__label {background-color: #d4ebff;}#sk-container-id-9 div.sk-serial::before {content: \"\";position: absolute;border-left: 1px solid gray;box-sizing: border-box;top: 0;bottom: 0;left: 50%;z-index: 0;}#sk-container-id-9 div.sk-serial {display: flex;flex-direction: column;align-items: center;background-color: white;padding-right: 0.2em;padding-left: 0.2em;position: relative;}#sk-container-id-9 div.sk-item {position: relative;z-index: 1;}#sk-container-id-9 div.sk-parallel {display: flex;align-items: stretch;justify-content: center;background-color: white;position: relative;}#sk-container-id-9 div.sk-item::before, #sk-container-id-9 div.sk-parallel-item::before {content: \"\";position: absolute;border-left: 1px solid gray;box-sizing: border-box;top: 0;bottom: 0;left: 50%;z-index: -1;}#sk-container-id-9 div.sk-parallel-item {display: flex;flex-direction: column;z-index: 1;position: relative;background-color: white;}#sk-container-id-9 div.sk-parallel-item:first-child::after {align-self: flex-end;width: 50%;}#sk-container-id-9 div.sk-parallel-item:last-child::after {align-self: flex-start;width: 50%;}#sk-container-id-9 div.sk-parallel-item:only-child::after {width: 0;}#sk-container-id-9 div.sk-dashed-wrapped {border: 1px dashed gray;margin: 0 0.4em 0.5em 0.4em;box-sizing: border-box;padding-bottom: 0.4em;background-color: white;}#sk-container-id-9 div.sk-label label {font-family: monospace;font-weight: bold;display: inline-block;line-height: 1.2em;}#sk-container-id-9 div.sk-label-container {text-align: center;}#sk-container-id-9 div.sk-container {/* jupyter's `normalize.less` sets `[hidden] { display: none; }` but bootstrap.min.css set `[hidden] { display: none !important; }` so we also need the `!important` here to be able to override the default hidden behavior on the sphinx rendered scikit-learn.org. See: https://github.com/scikit-learn/scikit-learn/issues/21755 */display: inline-block !important;position: relative;}#sk-container-id-9 div.sk-text-repr-fallback {display: none;}</style><div id=\"sk-container-id-9\" class=\"sk-top-container\"><div class=\"sk-text-repr-fallback\"><pre>LinearRegression()</pre><b>In a Jupyter environment, please rerun this cell to show the HTML representation or trust the notebook. <br />On GitHub, the HTML representation is unable to render, please try loading this page with nbviewer.org.</b></div><div class=\"sk-container\" hidden><div class=\"sk-item\"><div class=\"sk-estimator sk-toggleable\"><input class=\"sk-toggleable__control sk-hidden--visually\" id=\"sk-estimator-id-9\" type=\"checkbox\" checked><label for=\"sk-estimator-id-9\" class=\"sk-toggleable__label sk-toggleable__label-arrow\">LinearRegression</label><div class=\"sk-toggleable__content\"><pre>LinearRegression()</pre></div></div></div></div></div>"
      ],
      "text/plain": [
       "LinearRegression()"
      ]
     },
     "execution_count": 62,
     "metadata": {},
     "output_type": "execute_result"
    }
   ],
   "source": [
    "lr_uniform_q.fit(X.values,y.values.ravel())"
   ]
  },
  {
   "cell_type": "code",
   "execution_count": 41,
   "id": "62ce7673",
   "metadata": {},
   "outputs": [
    {
     "name": "stdout",
     "output_type": "stream",
     "text": [
      "Games played: 1000, # of wins: 218\n",
      "0.218\n",
      "0.218\n",
      "Games played: 1000, # of wins: 192\n",
      "0.192\n",
      "0.41000000000000003\n",
      "Games played: 1000, # of wins: 202\n",
      "0.202\n",
      "0.6120000000000001\n",
      "Games played: 1000, # of wins: 202\n",
      "0.202\n",
      "0.8140000000000001\n",
      "Games played: 1000, # of wins: 206\n",
      "0.206\n",
      "1.02\n",
      "Games played: 1000, # of wins: 210\n",
      "0.21\n",
      "1.23\n",
      "Games played: 1000, # of wins: 200\n",
      "0.2\n",
      "1.43\n",
      "Games played: 1000, # of wins: 177\n",
      "0.177\n",
      "1.607\n",
      "Games played: 1000, # of wins: 204\n",
      "0.204\n",
      "1.811\n",
      "Games played: 1000, # of wins: 212\n",
      "0.212\n",
      "2.023\n",
      "Win percentage: 20.23%\n"
     ]
    }
   ],
   "source": [
    "win_num = 0\n",
    "for i in range(0,10):\n",
    "    max_games = 1000\n",
    "    wins = 0\n",
    "    for i in range(max_games):\n",
    "        win = gridworld_test_model(lr_uniform_q, 'random', display = False)\n",
    "        if win:\n",
    "            wins += 1\n",
    "    win_perc = float(wins) / float(max_games)\n",
    "    win_num = win_num + win_perc\n",
    "    print(\"Games played: {0}, # of wins: {1}\".format(max_games,wins))\n",
    "    print(win_perc)\n",
    "    print(win_num)\n",
    "win_num = win_num / 10\n",
    "print(\"Win percentage: {}%\".format(win_num*100))"
   ]
  },
  {
   "cell_type": "markdown",
   "id": "b205185c",
   "metadata": {},
   "source": [
    "### Bellman Operator Approximation"
   ]
  },
  {
   "cell_type": "code",
   "execution_count": 63,
   "id": "826578dd",
   "metadata": {},
   "outputs": [],
   "source": [
    "X = df_uni[['Player', 'Pit', 'Goal', 'Wall']]\n",
    "y = df_uni[['Bellman_Operator']]"
   ]
  },
  {
   "cell_type": "code",
   "execution_count": 64,
   "id": "a9beb97a",
   "metadata": {},
   "outputs": [],
   "source": [
    "lr_uniform_bo = LinearRegression()"
   ]
  },
  {
   "cell_type": "code",
   "execution_count": 44,
   "id": "89a42ef6",
   "metadata": {},
   "outputs": [
    {
     "data": {
      "text/plain": [
       "50.269999999999996"
      ]
     },
     "execution_count": 44,
     "metadata": {},
     "output_type": "execute_result"
    }
   ],
   "source": [
    "scores = cross_validate(lr_uniform_bo, X.values,y.values.ravel(), scoring=score, cv=5, return_train_score=True)\n",
    "SMAPE_lr_uniform_bo = np.mean(scores['test_score'])\n",
    "SMAPE_lr_uniform_bo"
   ]
  },
  {
   "cell_type": "code",
   "execution_count": 65,
   "id": "7467cb65",
   "metadata": {},
   "outputs": [
    {
     "data": {
      "text/html": [
       "<style>#sk-container-id-10 {color: black;background-color: white;}#sk-container-id-10 pre{padding: 0;}#sk-container-id-10 div.sk-toggleable {background-color: white;}#sk-container-id-10 label.sk-toggleable__label {cursor: pointer;display: block;width: 100%;margin-bottom: 0;padding: 0.3em;box-sizing: border-box;text-align: center;}#sk-container-id-10 label.sk-toggleable__label-arrow:before {content: \"▸\";float: left;margin-right: 0.25em;color: #696969;}#sk-container-id-10 label.sk-toggleable__label-arrow:hover:before {color: black;}#sk-container-id-10 div.sk-estimator:hover label.sk-toggleable__label-arrow:before {color: black;}#sk-container-id-10 div.sk-toggleable__content {max-height: 0;max-width: 0;overflow: hidden;text-align: left;background-color: #f0f8ff;}#sk-container-id-10 div.sk-toggleable__content pre {margin: 0.2em;color: black;border-radius: 0.25em;background-color: #f0f8ff;}#sk-container-id-10 input.sk-toggleable__control:checked~div.sk-toggleable__content {max-height: 200px;max-width: 100%;overflow: auto;}#sk-container-id-10 input.sk-toggleable__control:checked~label.sk-toggleable__label-arrow:before {content: \"▾\";}#sk-container-id-10 div.sk-estimator input.sk-toggleable__control:checked~label.sk-toggleable__label {background-color: #d4ebff;}#sk-container-id-10 div.sk-label input.sk-toggleable__control:checked~label.sk-toggleable__label {background-color: #d4ebff;}#sk-container-id-10 input.sk-hidden--visually {border: 0;clip: rect(1px 1px 1px 1px);clip: rect(1px, 1px, 1px, 1px);height: 1px;margin: -1px;overflow: hidden;padding: 0;position: absolute;width: 1px;}#sk-container-id-10 div.sk-estimator {font-family: monospace;background-color: #f0f8ff;border: 1px dotted black;border-radius: 0.25em;box-sizing: border-box;margin-bottom: 0.5em;}#sk-container-id-10 div.sk-estimator:hover {background-color: #d4ebff;}#sk-container-id-10 div.sk-parallel-item::after {content: \"\";width: 100%;border-bottom: 1px solid gray;flex-grow: 1;}#sk-container-id-10 div.sk-label:hover label.sk-toggleable__label {background-color: #d4ebff;}#sk-container-id-10 div.sk-serial::before {content: \"\";position: absolute;border-left: 1px solid gray;box-sizing: border-box;top: 0;bottom: 0;left: 50%;z-index: 0;}#sk-container-id-10 div.sk-serial {display: flex;flex-direction: column;align-items: center;background-color: white;padding-right: 0.2em;padding-left: 0.2em;position: relative;}#sk-container-id-10 div.sk-item {position: relative;z-index: 1;}#sk-container-id-10 div.sk-parallel {display: flex;align-items: stretch;justify-content: center;background-color: white;position: relative;}#sk-container-id-10 div.sk-item::before, #sk-container-id-10 div.sk-parallel-item::before {content: \"\";position: absolute;border-left: 1px solid gray;box-sizing: border-box;top: 0;bottom: 0;left: 50%;z-index: -1;}#sk-container-id-10 div.sk-parallel-item {display: flex;flex-direction: column;z-index: 1;position: relative;background-color: white;}#sk-container-id-10 div.sk-parallel-item:first-child::after {align-self: flex-end;width: 50%;}#sk-container-id-10 div.sk-parallel-item:last-child::after {align-self: flex-start;width: 50%;}#sk-container-id-10 div.sk-parallel-item:only-child::after {width: 0;}#sk-container-id-10 div.sk-dashed-wrapped {border: 1px dashed gray;margin: 0 0.4em 0.5em 0.4em;box-sizing: border-box;padding-bottom: 0.4em;background-color: white;}#sk-container-id-10 div.sk-label label {font-family: monospace;font-weight: bold;display: inline-block;line-height: 1.2em;}#sk-container-id-10 div.sk-label-container {text-align: center;}#sk-container-id-10 div.sk-container {/* jupyter's `normalize.less` sets `[hidden] { display: none; }` but bootstrap.min.css set `[hidden] { display: none !important; }` so we also need the `!important` here to be able to override the default hidden behavior on the sphinx rendered scikit-learn.org. See: https://github.com/scikit-learn/scikit-learn/issues/21755 */display: inline-block !important;position: relative;}#sk-container-id-10 div.sk-text-repr-fallback {display: none;}</style><div id=\"sk-container-id-10\" class=\"sk-top-container\"><div class=\"sk-text-repr-fallback\"><pre>LinearRegression()</pre><b>In a Jupyter environment, please rerun this cell to show the HTML representation or trust the notebook. <br />On GitHub, the HTML representation is unable to render, please try loading this page with nbviewer.org.</b></div><div class=\"sk-container\" hidden><div class=\"sk-item\"><div class=\"sk-estimator sk-toggleable\"><input class=\"sk-toggleable__control sk-hidden--visually\" id=\"sk-estimator-id-10\" type=\"checkbox\" checked><label for=\"sk-estimator-id-10\" class=\"sk-toggleable__label sk-toggleable__label-arrow\">LinearRegression</label><div class=\"sk-toggleable__content\"><pre>LinearRegression()</pre></div></div></div></div></div>"
      ],
      "text/plain": [
       "LinearRegression()"
      ]
     },
     "execution_count": 65,
     "metadata": {},
     "output_type": "execute_result"
    }
   ],
   "source": [
    "lr_uniform_bo.fit(X.values,y.values.ravel())"
   ]
  },
  {
   "cell_type": "code",
   "execution_count": 46,
   "id": "f6759c38",
   "metadata": {},
   "outputs": [
    {
     "name": "stdout",
     "output_type": "stream",
     "text": [
      "Games played: 1000, # of wins: 199\n",
      "0.199\n",
      "0.199\n",
      "Games played: 1000, # of wins: 190\n",
      "0.19\n",
      "0.389\n",
      "Games played: 1000, # of wins: 179\n",
      "0.179\n",
      "0.5680000000000001\n",
      "Games played: 1000, # of wins: 194\n",
      "0.194\n",
      "0.762\n",
      "Games played: 1000, # of wins: 172\n",
      "0.172\n",
      "0.9339999999999999\n",
      "Games played: 1000, # of wins: 190\n",
      "0.19\n",
      "1.1239999999999999\n",
      "Games played: 1000, # of wins: 209\n",
      "0.209\n",
      "1.333\n",
      "Games played: 1000, # of wins: 199\n",
      "0.199\n",
      "1.532\n",
      "Games played: 1000, # of wins: 203\n",
      "0.203\n",
      "1.735\n",
      "Games played: 1000, # of wins: 195\n",
      "0.195\n",
      "1.9300000000000002\n",
      "Win percentage: 19.3%\n"
     ]
    }
   ],
   "source": [
    "win_num = 0\n",
    "for i in range(0,10):\n",
    "    max_games = 1000\n",
    "    wins = 0\n",
    "    for i in range(max_games):\n",
    "        win = gridworld_test_model(lr_uniform_bo, 'random', display = False)\n",
    "        if win:\n",
    "            wins += 1\n",
    "    win_perc = float(wins) / float(max_games)\n",
    "    win_num = win_num + win_perc\n",
    "    print(\"Games played: {0}, # of wins: {1}\".format(max_games,wins))\n",
    "    print(win_perc)\n",
    "    print(win_num)\n",
    "win_num = win_num / 10\n",
    "print(\"Win percentage: {}%\".format(win_num*100))"
   ]
  },
  {
   "cell_type": "markdown",
   "id": "c8eaeebf",
   "metadata": {},
   "source": [
    "## 7. Non Unform Dataset LR Performance <a id = \"lrnonuniform\"> "
   ]
  },
  {
   "cell_type": "markdown",
   "id": "e04fcc53",
   "metadata": {},
   "source": [
    "### Q value approximation"
   ]
  },
  {
   "cell_type": "code",
   "execution_count": 66,
   "id": "e5a99c47",
   "metadata": {},
   "outputs": [],
   "source": [
    "X = df_non_uni[['Player', 'Pit', 'Goal', 'Wall']]\n",
    "y = df_non_uni[['Q_Current']]"
   ]
  },
  {
   "cell_type": "code",
   "execution_count": 67,
   "id": "b64cb73a",
   "metadata": {},
   "outputs": [],
   "source": [
    "lr_non_uniform_q = LinearRegression()"
   ]
  },
  {
   "cell_type": "code",
   "execution_count": 49,
   "id": "ff809b67",
   "metadata": {},
   "outputs": [
    {
     "data": {
      "text/plain": [
       "37.892"
      ]
     },
     "execution_count": 49,
     "metadata": {},
     "output_type": "execute_result"
    }
   ],
   "source": [
    "scores = cross_validate(lr_non_uniform_q, X.values,y.values.ravel(), scoring=score, cv=5, return_train_score=True)\n",
    "SMAPE_lr_non_uniform_q = np.mean(scores['test_score'])\n",
    "SMAPE_lr_non_uniform_q"
   ]
  },
  {
   "cell_type": "code",
   "execution_count": 68,
   "id": "e08df99b",
   "metadata": {},
   "outputs": [
    {
     "data": {
      "text/html": [
       "<style>#sk-container-id-11 {color: black;background-color: white;}#sk-container-id-11 pre{padding: 0;}#sk-container-id-11 div.sk-toggleable {background-color: white;}#sk-container-id-11 label.sk-toggleable__label {cursor: pointer;display: block;width: 100%;margin-bottom: 0;padding: 0.3em;box-sizing: border-box;text-align: center;}#sk-container-id-11 label.sk-toggleable__label-arrow:before {content: \"▸\";float: left;margin-right: 0.25em;color: #696969;}#sk-container-id-11 label.sk-toggleable__label-arrow:hover:before {color: black;}#sk-container-id-11 div.sk-estimator:hover label.sk-toggleable__label-arrow:before {color: black;}#sk-container-id-11 div.sk-toggleable__content {max-height: 0;max-width: 0;overflow: hidden;text-align: left;background-color: #f0f8ff;}#sk-container-id-11 div.sk-toggleable__content pre {margin: 0.2em;color: black;border-radius: 0.25em;background-color: #f0f8ff;}#sk-container-id-11 input.sk-toggleable__control:checked~div.sk-toggleable__content {max-height: 200px;max-width: 100%;overflow: auto;}#sk-container-id-11 input.sk-toggleable__control:checked~label.sk-toggleable__label-arrow:before {content: \"▾\";}#sk-container-id-11 div.sk-estimator input.sk-toggleable__control:checked~label.sk-toggleable__label {background-color: #d4ebff;}#sk-container-id-11 div.sk-label input.sk-toggleable__control:checked~label.sk-toggleable__label {background-color: #d4ebff;}#sk-container-id-11 input.sk-hidden--visually {border: 0;clip: rect(1px 1px 1px 1px);clip: rect(1px, 1px, 1px, 1px);height: 1px;margin: -1px;overflow: hidden;padding: 0;position: absolute;width: 1px;}#sk-container-id-11 div.sk-estimator {font-family: monospace;background-color: #f0f8ff;border: 1px dotted black;border-radius: 0.25em;box-sizing: border-box;margin-bottom: 0.5em;}#sk-container-id-11 div.sk-estimator:hover {background-color: #d4ebff;}#sk-container-id-11 div.sk-parallel-item::after {content: \"\";width: 100%;border-bottom: 1px solid gray;flex-grow: 1;}#sk-container-id-11 div.sk-label:hover label.sk-toggleable__label {background-color: #d4ebff;}#sk-container-id-11 div.sk-serial::before {content: \"\";position: absolute;border-left: 1px solid gray;box-sizing: border-box;top: 0;bottom: 0;left: 50%;z-index: 0;}#sk-container-id-11 div.sk-serial {display: flex;flex-direction: column;align-items: center;background-color: white;padding-right: 0.2em;padding-left: 0.2em;position: relative;}#sk-container-id-11 div.sk-item {position: relative;z-index: 1;}#sk-container-id-11 div.sk-parallel {display: flex;align-items: stretch;justify-content: center;background-color: white;position: relative;}#sk-container-id-11 div.sk-item::before, #sk-container-id-11 div.sk-parallel-item::before {content: \"\";position: absolute;border-left: 1px solid gray;box-sizing: border-box;top: 0;bottom: 0;left: 50%;z-index: -1;}#sk-container-id-11 div.sk-parallel-item {display: flex;flex-direction: column;z-index: 1;position: relative;background-color: white;}#sk-container-id-11 div.sk-parallel-item:first-child::after {align-self: flex-end;width: 50%;}#sk-container-id-11 div.sk-parallel-item:last-child::after {align-self: flex-start;width: 50%;}#sk-container-id-11 div.sk-parallel-item:only-child::after {width: 0;}#sk-container-id-11 div.sk-dashed-wrapped {border: 1px dashed gray;margin: 0 0.4em 0.5em 0.4em;box-sizing: border-box;padding-bottom: 0.4em;background-color: white;}#sk-container-id-11 div.sk-label label {font-family: monospace;font-weight: bold;display: inline-block;line-height: 1.2em;}#sk-container-id-11 div.sk-label-container {text-align: center;}#sk-container-id-11 div.sk-container {/* jupyter's `normalize.less` sets `[hidden] { display: none; }` but bootstrap.min.css set `[hidden] { display: none !important; }` so we also need the `!important` here to be able to override the default hidden behavior on the sphinx rendered scikit-learn.org. See: https://github.com/scikit-learn/scikit-learn/issues/21755 */display: inline-block !important;position: relative;}#sk-container-id-11 div.sk-text-repr-fallback {display: none;}</style><div id=\"sk-container-id-11\" class=\"sk-top-container\"><div class=\"sk-text-repr-fallback\"><pre>LinearRegression()</pre><b>In a Jupyter environment, please rerun this cell to show the HTML representation or trust the notebook. <br />On GitHub, the HTML representation is unable to render, please try loading this page with nbviewer.org.</b></div><div class=\"sk-container\" hidden><div class=\"sk-item\"><div class=\"sk-estimator sk-toggleable\"><input class=\"sk-toggleable__control sk-hidden--visually\" id=\"sk-estimator-id-11\" type=\"checkbox\" checked><label for=\"sk-estimator-id-11\" class=\"sk-toggleable__label sk-toggleable__label-arrow\">LinearRegression</label><div class=\"sk-toggleable__content\"><pre>LinearRegression()</pre></div></div></div></div></div>"
      ],
      "text/plain": [
       "LinearRegression()"
      ]
     },
     "execution_count": 68,
     "metadata": {},
     "output_type": "execute_result"
    }
   ],
   "source": [
    "lr_non_uniform_q.fit(X.values,y.values.ravel())"
   ]
  },
  {
   "cell_type": "code",
   "execution_count": 51,
   "id": "3fb1082f",
   "metadata": {},
   "outputs": [
    {
     "name": "stdout",
     "output_type": "stream",
     "text": [
      "Games played: 1000, # of wins: 205\n",
      "0.205\n",
      "0.205\n",
      "Games played: 1000, # of wins: 175\n",
      "0.175\n",
      "0.38\n",
      "Games played: 1000, # of wins: 215\n",
      "0.215\n",
      "0.595\n",
      "Games played: 1000, # of wins: 204\n",
      "0.204\n",
      "0.7989999999999999\n",
      "Games played: 1000, # of wins: 188\n",
      "0.188\n",
      "0.9869999999999999\n",
      "Games played: 1000, # of wins: 202\n",
      "0.202\n",
      "1.1889999999999998\n",
      "Games played: 1000, # of wins: 190\n",
      "0.19\n",
      "1.3789999999999998\n",
      "Games played: 1000, # of wins: 190\n",
      "0.19\n",
      "1.5689999999999997\n",
      "Games played: 1000, # of wins: 223\n",
      "0.223\n",
      "1.7919999999999998\n",
      "Games played: 1000, # of wins: 203\n",
      "0.203\n",
      "1.9949999999999999\n",
      "Win percentage: 19.95%\n"
     ]
    }
   ],
   "source": [
    "win_num = 0\n",
    "for i in range(0,10):\n",
    "    max_games = 1000\n",
    "    wins = 0\n",
    "    for i in range(max_games):\n",
    "        win = gridworld_test_model(lr_non_uniform_q, 'random', display = False)\n",
    "        if win:\n",
    "            wins += 1\n",
    "    win_perc = float(wins) / float(max_games)\n",
    "    win_num = win_num + win_perc\n",
    "    print(\"Games played: {0}, # of wins: {1}\".format(max_games,wins))\n",
    "    print(win_perc)\n",
    "    print(win_num)\n",
    "win_num = win_num / 10\n",
    "print(\"Win percentage: {}%\".format(win_num*100))"
   ]
  },
  {
   "cell_type": "markdown",
   "id": "5c95c91b",
   "metadata": {},
   "source": [
    "### Bellman Operator Approximation"
   ]
  },
  {
   "cell_type": "code",
   "execution_count": 69,
   "id": "2d3b6f99",
   "metadata": {},
   "outputs": [],
   "source": [
    "X = df_non_uni[['Player', 'Pit', 'Goal', 'Wall']]\n",
    "y = df_non_uni[['Bellman_Operator']]"
   ]
  },
  {
   "cell_type": "code",
   "execution_count": 70,
   "id": "e08c0fca",
   "metadata": {},
   "outputs": [],
   "source": [
    "lr_non_uniform_bo = LinearRegression()"
   ]
  },
  {
   "cell_type": "code",
   "execution_count": 54,
   "id": "bed6e623",
   "metadata": {},
   "outputs": [
    {
     "data": {
      "text/plain": [
       "41.852000000000004"
      ]
     },
     "execution_count": 54,
     "metadata": {},
     "output_type": "execute_result"
    }
   ],
   "source": [
    "scores = cross_validate(lr_non_uniform_bo, X.values,y.values.ravel(), scoring=score, cv=5, return_train_score=True)\n",
    "SMAPE_lr_non_uniform_bo = np.mean(scores['test_score'])\n",
    "SMAPE_lr_non_uniform_bo"
   ]
  },
  {
   "cell_type": "code",
   "execution_count": 71,
   "id": "473807c3",
   "metadata": {},
   "outputs": [
    {
     "data": {
      "text/html": [
       "<style>#sk-container-id-12 {color: black;background-color: white;}#sk-container-id-12 pre{padding: 0;}#sk-container-id-12 div.sk-toggleable {background-color: white;}#sk-container-id-12 label.sk-toggleable__label {cursor: pointer;display: block;width: 100%;margin-bottom: 0;padding: 0.3em;box-sizing: border-box;text-align: center;}#sk-container-id-12 label.sk-toggleable__label-arrow:before {content: \"▸\";float: left;margin-right: 0.25em;color: #696969;}#sk-container-id-12 label.sk-toggleable__label-arrow:hover:before {color: black;}#sk-container-id-12 div.sk-estimator:hover label.sk-toggleable__label-arrow:before {color: black;}#sk-container-id-12 div.sk-toggleable__content {max-height: 0;max-width: 0;overflow: hidden;text-align: left;background-color: #f0f8ff;}#sk-container-id-12 div.sk-toggleable__content pre {margin: 0.2em;color: black;border-radius: 0.25em;background-color: #f0f8ff;}#sk-container-id-12 input.sk-toggleable__control:checked~div.sk-toggleable__content {max-height: 200px;max-width: 100%;overflow: auto;}#sk-container-id-12 input.sk-toggleable__control:checked~label.sk-toggleable__label-arrow:before {content: \"▾\";}#sk-container-id-12 div.sk-estimator input.sk-toggleable__control:checked~label.sk-toggleable__label {background-color: #d4ebff;}#sk-container-id-12 div.sk-label input.sk-toggleable__control:checked~label.sk-toggleable__label {background-color: #d4ebff;}#sk-container-id-12 input.sk-hidden--visually {border: 0;clip: rect(1px 1px 1px 1px);clip: rect(1px, 1px, 1px, 1px);height: 1px;margin: -1px;overflow: hidden;padding: 0;position: absolute;width: 1px;}#sk-container-id-12 div.sk-estimator {font-family: monospace;background-color: #f0f8ff;border: 1px dotted black;border-radius: 0.25em;box-sizing: border-box;margin-bottom: 0.5em;}#sk-container-id-12 div.sk-estimator:hover {background-color: #d4ebff;}#sk-container-id-12 div.sk-parallel-item::after {content: \"\";width: 100%;border-bottom: 1px solid gray;flex-grow: 1;}#sk-container-id-12 div.sk-label:hover label.sk-toggleable__label {background-color: #d4ebff;}#sk-container-id-12 div.sk-serial::before {content: \"\";position: absolute;border-left: 1px solid gray;box-sizing: border-box;top: 0;bottom: 0;left: 50%;z-index: 0;}#sk-container-id-12 div.sk-serial {display: flex;flex-direction: column;align-items: center;background-color: white;padding-right: 0.2em;padding-left: 0.2em;position: relative;}#sk-container-id-12 div.sk-item {position: relative;z-index: 1;}#sk-container-id-12 div.sk-parallel {display: flex;align-items: stretch;justify-content: center;background-color: white;position: relative;}#sk-container-id-12 div.sk-item::before, #sk-container-id-12 div.sk-parallel-item::before {content: \"\";position: absolute;border-left: 1px solid gray;box-sizing: border-box;top: 0;bottom: 0;left: 50%;z-index: -1;}#sk-container-id-12 div.sk-parallel-item {display: flex;flex-direction: column;z-index: 1;position: relative;background-color: white;}#sk-container-id-12 div.sk-parallel-item:first-child::after {align-self: flex-end;width: 50%;}#sk-container-id-12 div.sk-parallel-item:last-child::after {align-self: flex-start;width: 50%;}#sk-container-id-12 div.sk-parallel-item:only-child::after {width: 0;}#sk-container-id-12 div.sk-dashed-wrapped {border: 1px dashed gray;margin: 0 0.4em 0.5em 0.4em;box-sizing: border-box;padding-bottom: 0.4em;background-color: white;}#sk-container-id-12 div.sk-label label {font-family: monospace;font-weight: bold;display: inline-block;line-height: 1.2em;}#sk-container-id-12 div.sk-label-container {text-align: center;}#sk-container-id-12 div.sk-container {/* jupyter's `normalize.less` sets `[hidden] { display: none; }` but bootstrap.min.css set `[hidden] { display: none !important; }` so we also need the `!important` here to be able to override the default hidden behavior on the sphinx rendered scikit-learn.org. See: https://github.com/scikit-learn/scikit-learn/issues/21755 */display: inline-block !important;position: relative;}#sk-container-id-12 div.sk-text-repr-fallback {display: none;}</style><div id=\"sk-container-id-12\" class=\"sk-top-container\"><div class=\"sk-text-repr-fallback\"><pre>LinearRegression()</pre><b>In a Jupyter environment, please rerun this cell to show the HTML representation or trust the notebook. <br />On GitHub, the HTML representation is unable to render, please try loading this page with nbviewer.org.</b></div><div class=\"sk-container\" hidden><div class=\"sk-item\"><div class=\"sk-estimator sk-toggleable\"><input class=\"sk-toggleable__control sk-hidden--visually\" id=\"sk-estimator-id-12\" type=\"checkbox\" checked><label for=\"sk-estimator-id-12\" class=\"sk-toggleable__label sk-toggleable__label-arrow\">LinearRegression</label><div class=\"sk-toggleable__content\"><pre>LinearRegression()</pre></div></div></div></div></div>"
      ],
      "text/plain": [
       "LinearRegression()"
      ]
     },
     "execution_count": 71,
     "metadata": {},
     "output_type": "execute_result"
    }
   ],
   "source": [
    "lr_non_uniform_bo.fit(X.values,y.values.ravel())"
   ]
  },
  {
   "cell_type": "code",
   "execution_count": 56,
   "id": "9e7a822c",
   "metadata": {},
   "outputs": [
    {
     "name": "stdout",
     "output_type": "stream",
     "text": [
      "Games played: 1000, # of wins: 170\n",
      "0.17\n",
      "0.17\n",
      "Games played: 1000, # of wins: 192\n",
      "0.192\n",
      "0.362\n",
      "Games played: 1000, # of wins: 215\n",
      "0.215\n",
      "0.577\n",
      "Games played: 1000, # of wins: 216\n",
      "0.216\n",
      "0.7929999999999999\n",
      "Games played: 1000, # of wins: 182\n",
      "0.182\n",
      "0.9749999999999999\n",
      "Games played: 1000, # of wins: 196\n",
      "0.196\n",
      "1.1709999999999998\n",
      "Games played: 1000, # of wins: 198\n",
      "0.198\n",
      "1.3689999999999998\n",
      "Games played: 1000, # of wins: 199\n",
      "0.199\n",
      "1.5679999999999998\n",
      "Games played: 1000, # of wins: 193\n",
      "0.193\n",
      "1.761\n",
      "Games played: 1000, # of wins: 178\n",
      "0.178\n",
      "1.9389999999999998\n",
      "Win percentage: 19.39%\n"
     ]
    }
   ],
   "source": [
    "win_num = 0\n",
    "for i in range(0,10):\n",
    "    max_games = 1000\n",
    "    wins = 0\n",
    "    for i in range(max_games):\n",
    "        win = gridworld_test_model(lr_non_uniform_bo, 'random', display = False)\n",
    "        if win:\n",
    "            wins += 1\n",
    "    win_perc = float(wins) / float(max_games)\n",
    "    win_num = win_num + win_perc\n",
    "    print(\"Games played: {0}, # of wins: {1}\".format(max_games,wins))\n",
    "    print(win_perc)\n",
    "    print(win_num)\n",
    "win_num = win_num / 10\n",
    "print(\"Win percentage: {}%\".format(win_num*100))"
   ]
  },
  {
   "cell_type": "markdown",
   "id": "cda99fb1",
   "metadata": {},
   "source": [
    "## 8. Determination Of The Optimal Polynomial Linear Degree <a id = \"plrdegree\">"
   ]
  },
  {
   "cell_type": "markdown",
   "id": "ca05ae9f",
   "metadata": {},
   "source": [
    "### SMAPE: Uniform Q value approximation"
   ]
  },
  {
   "cell_type": "code",
   "execution_count": 59,
   "id": "c04b6b62",
   "metadata": {},
   "outputs": [],
   "source": [
    "X = df_uni[['Player','Pit', 'Goal', 'Wall']]\n",
    "y = df_uni[['Q_Current']]"
   ]
  },
  {
   "cell_type": "code",
   "execution_count": 60,
   "id": "264066af",
   "metadata": {},
   "outputs": [
    {
     "name": "stdout",
     "output_type": "stream",
     "text": [
      "degree 1:\n",
      "Average Validation SMAPE: 56.69199999999999\n",
      "Average Train SMAPE: 55.596000000000004\n",
      "\n",
      "\n",
      "\n",
      "degree 2:\n",
      "Average Validation SMAPE: 51.26800000000001\n",
      "Average Train SMAPE: 50.898\n",
      "\n",
      "\n",
      "\n",
      "degree 3:\n",
      "Average Validation SMAPE: 52.208000000000006\n",
      "Average Train SMAPE: 50.788\n",
      "\n",
      "\n",
      "\n",
      "degree 4:\n",
      "Average Validation SMAPE: 51.82000000000001\n",
      "Average Train SMAPE: 50.15200000000001\n",
      "\n",
      "\n",
      "\n",
      "degree 5:\n",
      "Average Validation SMAPE: 59.903999999999996\n",
      "Average Train SMAPE: 50.04\n",
      "\n",
      "\n",
      "\n",
      "degree 6:\n",
      "Average Validation SMAPE: 72.57600000000001\n",
      "Average Train SMAPE: 48.926\n",
      "\n",
      "\n",
      "\n",
      "degree 7:\n",
      "Average Validation SMAPE: 94.798\n",
      "Average Train SMAPE: 48.641999999999996\n",
      "\n",
      "\n",
      "\n",
      "degree 8:\n",
      "Average Validation SMAPE: 103.28399999999999\n",
      "Average Train SMAPE: 47.67\n",
      "\n",
      "\n",
      "\n",
      "degree 9:\n",
      "Average Validation SMAPE: 98.65\n",
      "Average Train SMAPE: 47.34400000000001\n",
      "\n",
      "\n",
      "\n",
      "degree 10:\n",
      "Average Validation SMAPE: 102.792\n",
      "Average Train SMAPE: 45.974000000000004\n",
      "\n",
      "\n",
      "\n",
      "degree 11:\n",
      "Average Validation SMAPE: 102.922\n",
      "Average Train SMAPE: 46.948\n",
      "\n",
      "\n",
      "\n",
      "degree 12:\n",
      "Average Validation SMAPE: 117.102\n",
      "Average Train SMAPE: 52.136\n",
      "\n",
      "\n",
      "\n",
      "degree 13:\n",
      "Average Validation SMAPE: 127.01199999999999\n",
      "Average Train SMAPE: 58.852\n",
      "\n",
      "\n",
      "\n",
      "degree 14:\n",
      "Average Validation SMAPE: 134.66000000000003\n",
      "Average Train SMAPE: 56.918000000000006\n",
      "\n",
      "\n",
      "\n",
      "degree 15:\n",
      "Average Validation SMAPE: 125.356\n",
      "Average Train SMAPE: 46.54\n",
      "\n",
      "\n",
      "\n"
     ]
    }
   ],
   "source": [
    "degree_range = [1, 2, 3, 4, 5, 6, 7, 8, 9, 10, 11, 12, 13, 14, 15] \n",
    "\n",
    "train_uniform_qvalue = []\n",
    "\n",
    "test_uniform_qvalue = []\n",
    "\n",
    "for degree in degree_range:\n",
    "    print(f'degree {degree}:')\n",
    "    \n",
    "    poly = PolynomialFeatures(degree=degree)\n",
    "    X_poly_train = poly.fit_transform(X)\n",
    "\n",
    "    poly_model = LinearRegression()\n",
    "\n",
    "    scores = cross_validate(poly_model, X_poly_train, y.values.ravel(), scoring=score, cv=5, return_train_score=True)\n",
    "    \n",
    "    # train set results\n",
    "    r2_train = scores['train_score']\n",
    "    train_uniform_qvalue.append(np.mean(r2_train))\n",
    "    # test set results\n",
    "    r2_test = scores['test_score']   \n",
    "    test_uniform_qvalue.append(np.mean(r2_test))\n",
    "\n",
    "    print('Average Validation SMAPE:', np.mean(r2_test))\n",
    "    print('Average Train SMAPE:', np.mean(r2_train))\n",
    "    \n",
    "    print('\\n\\n')"
   ]
  },
  {
   "cell_type": "markdown",
   "id": "8327da30",
   "metadata": {},
   "source": [
    "### SMAPE: Non-Uniform Q value approximation"
   ]
  },
  {
   "cell_type": "code",
   "execution_count": 61,
   "id": "ad0bec01",
   "metadata": {},
   "outputs": [],
   "source": [
    "X = df_non_uni[['Player','Pit', 'Goal', 'Wall']]\n",
    "y = df_non_uni[['Q_Current']]"
   ]
  },
  {
   "cell_type": "code",
   "execution_count": 62,
   "id": "9b457e43",
   "metadata": {},
   "outputs": [
    {
     "name": "stdout",
     "output_type": "stream",
     "text": [
      "degree 1:\n",
      "Average Validation SMAPE: 37.892\n",
      "Average Train SMAPE: 37.80200000000001\n",
      "\n",
      "\n",
      "\n",
      "degree 2:\n",
      "Average Validation SMAPE: 33.138\n",
      "Average Train SMAPE: 33.001999999999995\n",
      "\n",
      "\n",
      "\n",
      "degree 3:\n",
      "Average Validation SMAPE: 33.228\n",
      "Average Train SMAPE: 32.956\n",
      "\n",
      "\n",
      "\n",
      "degree 4:\n",
      "Average Validation SMAPE: 32.766000000000005\n",
      "Average Train SMAPE: 32.396\n",
      "\n",
      "\n",
      "\n",
      "degree 5:\n",
      "Average Validation SMAPE: 32.908\n",
      "Average Train SMAPE: 32.28\n",
      "\n",
      "\n",
      "\n",
      "degree 6:\n",
      "Average Validation SMAPE: 33.156\n",
      "Average Train SMAPE: 32.02\n",
      "\n",
      "\n",
      "\n",
      "degree 7:\n",
      "Average Validation SMAPE: 33.556\n",
      "Average Train SMAPE: 31.844000000000005\n",
      "\n",
      "\n",
      "\n",
      "degree 8:\n",
      "Average Validation SMAPE: 33.66\n",
      "Average Train SMAPE: 31.074\n",
      "\n",
      "\n",
      "\n",
      "degree 9:\n",
      "Average Validation SMAPE: 34.626\n",
      "Average Train SMAPE: 30.594\n",
      "\n",
      "\n",
      "\n",
      "degree 10:\n",
      "Average Validation SMAPE: 34.582\n",
      "Average Train SMAPE: 28.821999999999996\n",
      "\n",
      "\n",
      "\n",
      "degree 11:\n",
      "Average Validation SMAPE: 36.398\n",
      "Average Train SMAPE: 28.1\n",
      "\n",
      "\n",
      "\n",
      "degree 12:\n",
      "Average Validation SMAPE: 38.538000000000004\n",
      "Average Train SMAPE: 27.2\n",
      "\n",
      "\n",
      "\n",
      "degree 13:\n",
      "Average Validation SMAPE: 42.158\n",
      "Average Train SMAPE: 26.244000000000007\n",
      "\n",
      "\n",
      "\n",
      "degree 14:\n",
      "Average Validation SMAPE: 47.04200000000001\n",
      "Average Train SMAPE: 24.19\n",
      "\n",
      "\n",
      "\n",
      "degree 15:\n",
      "Average Validation SMAPE: 55.04\n",
      "Average Train SMAPE: 24.603999999999996\n",
      "\n",
      "\n",
      "\n"
     ]
    }
   ],
   "source": [
    "train_non_uniform_qvalue = []\n",
    "\n",
    "test_non_uniform_qvalue = []\n",
    "\n",
    "for degree in degree_range:\n",
    "    print(f'degree {degree}:')\n",
    "    \n",
    "    poly = PolynomialFeatures(degree=degree)\n",
    "    X_poly_train = poly.fit_transform(X)\n",
    "\n",
    "    poly_model = LinearRegression()\n",
    "\n",
    "    scores = cross_validate(poly_model, X_poly_train, y.values.ravel(), scoring=score, cv=5, return_train_score=True)\n",
    "    \n",
    "    # train set results\n",
    "    r2_train = scores['train_score']\n",
    "    train_non_uniform_qvalue.append(np.mean(r2_train))\n",
    "    # test set results\n",
    "    r2_test = scores['test_score']   \n",
    "    test_non_uniform_qvalue.append(np.mean(r2_test))\n",
    "\n",
    "    print('Average Validation SMAPE:', np.mean(r2_test))\n",
    "    print('Average Train SMAPE:', np.mean(r2_train))\n",
    "    \n",
    "    print('\\n\\n')"
   ]
  },
  {
   "cell_type": "markdown",
   "id": "b2c222ca",
   "metadata": {},
   "source": [
    "### SMAPE: Visualization for Q - value approximation"
   ]
  },
  {
   "cell_type": "code",
   "execution_count": 64,
   "id": "081a0eee",
   "metadata": {},
   "outputs": [
    {
     "data": {
      "image/png": "[encoded data removed]",
      "text/plain": [
       "<Figure size 640x480 with 1 Axes>"
      ]
     },
     "metadata": {},
     "output_type": "display_data"
    }
   ],
   "source": [
    "x = range(1,16)\n",
    "\n",
    "y1 = test_uniform_qvalue\n",
    "lowest_index_y1 = y1.index(min(y1))\n",
    "\n",
    "y2 = test_non_uniform_qvalue\n",
    "lowest_index_y2 = y2.index(min(y2))\n",
    "\n",
    "y3 = train_uniform_qvalue\n",
    "lowest_index_y3 = y3.index(min(y3))\n",
    "\n",
    "y4 = train_non_uniform_qvalue\n",
    "lowest_index_y4 = y4.index(min(y4))\n",
    "\n",
    "fig, ax = plt.subplots()\n",
    "\n",
    "ax.plot(x, y1, label='Uniform Validation', color = \"blue\")\n",
    "ax.plot(x, y2, label='Non-Uniform Validation', color = \"orange\")\n",
    "ax.plot(x, y3, label='Uniform Training', color = \"blue\", linestyle='--')\n",
    "ax.plot(x, y4, label='Non Uniform Training', color = \"orange\", linestyle='--')\n",
    "\n",
    "ax.scatter(x[lowest_index_y1], y1[lowest_index_y1], color='red')\n",
    "ax.scatter(x[lowest_index_y2], y2[lowest_index_y2], color='red')\n",
    "ax.scatter(x[lowest_index_y3], y3[lowest_index_y3], color='red')\n",
    "ax.scatter(x[lowest_index_y4], y4[lowest_index_y4], color='red')\n",
    "\n",
    "           \n",
    "ax.set_xlabel('Degree')\n",
    "ax.set_ylabel(\"SMAPE\")\n",
    "ax.set_title('Q-Value Polynomial LR Degrees Comparison.')\n",
    "\n",
    "ax.legend()\n",
    "ax.set_xlim(1, 15)\n",
    "\n",
    "plt.show()"
   ]
  },
  {
   "cell_type": "markdown",
   "id": "2c2a18f6",
   "metadata": {},
   "source": [
    "### Testing Accuracy: Uniform Q value approximation"
   ]
  },
  {
   "cell_type": "code",
   "execution_count": 65,
   "id": "1e873437",
   "metadata": {},
   "outputs": [],
   "source": [
    "X = df_uni[['Player','Pit', 'Goal', 'Wall']]\n",
    "y = df_uni[['Q_Current']]"
   ]
  },
  {
   "cell_type": "code",
   "execution_count": 69,
   "id": "6de74757",
   "metadata": {},
   "outputs": [
    {
     "name": "stdout",
     "output_type": "stream",
     "text": [
      "degree 1:\n",
      "Win percentage: 20.03%\n",
      "degree 2:\n",
      "Win percentage: 42.15%\n",
      "degree 3:\n",
      "Win percentage: 41.04%\n",
      "degree 4:\n",
      "Win percentage: 48.24999999999999%\n",
      "degree 5:\n",
      "Win percentage: 46.400000000000006%\n",
      "degree 6:\n",
      "Win percentage: 50.669999999999995%\n",
      "degree 7:\n",
      "Win percentage: 52.410000000000004%\n",
      "degree 8:\n",
      "Win percentage: 53.55%\n",
      "degree 9:\n",
      "Win percentage: 53.260000000000005%\n",
      "degree 10:\n",
      "Win percentage: 58.129999999999995%\n",
      "degree 11:\n",
      "Win percentage: 58.010000000000005%\n",
      "degree 12:\n",
      "Win percentage: 52.080000000000005%\n",
      "degree 13:\n",
      "Win percentage: 44.10999999999999%\n",
      "degree 14:\n",
      "Win percentage: 47.76999999999999%\n",
      "degree 15:\n",
      "Win percentage: 55.81%\n"
     ]
    }
   ],
   "source": [
    "testing_accur_uniform_q_value = []\n",
    "\n",
    "for degree in degree_range:\n",
    "    print(f'degree {degree}:')\n",
    "    \n",
    "    poly = PolynomialFeatures(degree=degree)\n",
    "    X_poly_train = poly.fit_transform(X)\n",
    "\n",
    "    poly_model = LinearRegression()\n",
    "    poly_model.fit(X_poly_train, y.values.ravel())\n",
    "    \n",
    "    \n",
    "    win_num = 0\n",
    "    for i in range(0,10):\n",
    "        max_games = 1000\n",
    "        wins = 0\n",
    "        for i in range(max_games):\n",
    "            win = gridworld_plr_test_model(poly_model, degree, 'random', display = False)\n",
    "            if win:\n",
    "                wins += 1\n",
    "        win_perc = float(wins) / float(max_games)\n",
    "        win_num = win_num + win_perc\n",
    "    win_num = win_num / 10\n",
    "    testing_accur_uniform_q_value.append(win_num*100)\n",
    "    print(\"Win percentage: {}%\".format(win_num*100))"
   ]
  },
  {
   "cell_type": "markdown",
   "id": "595f28e8",
   "metadata": {},
   "source": [
    "### Testing Accuracy: Non Uniform Q value approximation"
   ]
  },
  {
   "cell_type": "code",
   "execution_count": 70,
   "id": "f798a8dd",
   "metadata": {},
   "outputs": [],
   "source": [
    "X = df_non_uni[['Player','Pit', 'Goal', 'Wall']]\n",
    "y = df_non_uni[['Q_Current']]"
   ]
  },
  {
   "cell_type": "code",
   "execution_count": 71,
   "id": "60409616",
   "metadata": {},
   "outputs": [
    {
     "name": "stdout",
     "output_type": "stream",
     "text": [
      "degree 1:\n",
      "Win percentage: 20.369999999999997%\n",
      "degree 2:\n",
      "Win percentage: 70.13000000000001%\n",
      "degree 3:\n",
      "Win percentage: 66.97%\n",
      "degree 4:\n",
      "Win percentage: 58.39000000000001%\n",
      "degree 5:\n",
      "Win percentage: 57.54999999999999%\n",
      "degree 6:\n",
      "Win percentage: 48.58%\n",
      "degree 7:\n",
      "Win percentage: 47.440000000000005%\n",
      "degree 8:\n",
      "Win percentage: 38.800000000000004%\n",
      "degree 9:\n",
      "Win percentage: 39.84%\n",
      "degree 10:\n",
      "Win percentage: 42.38000000000001%\n",
      "degree 11:\n",
      "Win percentage: 40.97%\n",
      "degree 12:\n",
      "Win percentage: 39.97%\n",
      "degree 13:\n",
      "Win percentage: 35.88999999999999%\n",
      "degree 14:\n",
      "Win percentage: 26.35000000000001%\n",
      "degree 15:\n",
      "Win percentage: 24.84%\n"
     ]
    }
   ],
   "source": [
    "testing_accur_non_uniform_q_value = []\n",
    "\n",
    "for degree in degree_range:\n",
    "    print(f'degree {degree}:')\n",
    "    \n",
    "    poly = PolynomialFeatures(degree=degree)\n",
    "    X_poly_train = poly.fit_transform(X)\n",
    "\n",
    "    poly_model = LinearRegression()\n",
    "    poly_model.fit(X_poly_train, y.values.ravel())\n",
    "    \n",
    "    \n",
    "    win_num = 0\n",
    "    for i in range(0,10):\n",
    "        max_games = 1000\n",
    "        wins = 0\n",
    "        for i in range(max_games):\n",
    "            win = gridworld_plr_test_model(poly_model, degree, 'random', display = False)\n",
    "            if win:\n",
    "                wins += 1\n",
    "        win_perc = float(wins) / float(max_games)\n",
    "        win_num = win_num + win_perc\n",
    "    win_num = win_num / 10\n",
    "    testing_accur_non_uniform_q_value.append(win_num*100)\n",
    "    print(\"Win percentage: {}%\".format(win_num*100))"
   ]
  },
  {
   "cell_type": "markdown",
   "id": "5fc65769",
   "metadata": {},
   "source": [
    "### Testing Accuracy: Visualization for Q - value approximation"
   ]
  },
  {
   "cell_type": "code",
   "execution_count": 74,
   "id": "8c28556b",
   "metadata": {},
   "outputs": [
    {
     "data": {
      "image/png": "[encoded data removed]",
      "text/plain": [
       "<Figure size 640x480 with 1 Axes>"
      ]
     },
     "metadata": {},
     "output_type": "display_data"
    }
   ],
   "source": [
    "x = range(1,16)\n",
    "\n",
    "y1 = testing_accur_uniform_q_value\n",
    "max_index_y1 = y1.index(max(y1))\n",
    "\n",
    "y2 = testing_accur_non_uniform_q_value\n",
    "max_index_y2 = y2.index(max(y2))\n",
    "\n",
    "fig, ax = plt.subplots()\n",
    "\n",
    "ax.plot(x, y1, label='Uniform Dataset Model')\n",
    "ax.plot(x, y2, label='Non Uniform Datset Model')\n",
    "\n",
    "ax.scatter(x[max_index_y1], y1[max_index_y1], color='red')\n",
    "ax.scatter(x[max_index_y2], y2[max_index_y2], color='red')\n",
    "\n",
    "ax.set_xlabel('Degree')\n",
    "ax.set_ylabel(\"Gridworld Testing Accuracy\")\n",
    "ax.set_title('Q-Value Polynomial RL degree Comparison.')\n",
    "\n",
    "ax.legend()\n",
    "\n",
    "ax.set_xlim(1, 15)\n",
    "\n",
    "plt.show()"
   ]
  },
  {
   "cell_type": "markdown",
   "id": "d7797806",
   "metadata": {},
   "source": [
    "### SMAPE: Uniform Bellman Operator approximation"
   ]
  },
  {
   "cell_type": "code",
   "execution_count": 14,
   "id": "334d87ca",
   "metadata": {},
   "outputs": [],
   "source": [
    "X = df_uni[['Player','Pit', 'Goal', 'Wall']]\n",
    "y = df_uni[['Bellman_Operator']]"
   ]
  },
  {
   "cell_type": "code",
   "execution_count": 15,
   "id": "acc3147f",
   "metadata": {},
   "outputs": [
    {
     "name": "stdout",
     "output_type": "stream",
     "text": [
      "degree 1:\n",
      "Average Validation SMAPE: 50.269999999999996\n",
      "Average Train SMAPE: 50.15\n",
      "\n",
      "\n",
      "\n",
      "degree 2:\n",
      "Average Validation SMAPE: 44.596000000000004\n",
      "Average Train SMAPE: 44.494\n",
      "\n",
      "\n",
      "\n",
      "degree 3:\n",
      "Average Validation SMAPE: 44.89399999999999\n",
      "Average Train SMAPE: 44.38\n",
      "\n",
      "\n",
      "\n",
      "degree 4:\n",
      "Average Validation SMAPE: 43.012\n",
      "Average Train SMAPE: 41.525999999999996\n",
      "\n",
      "\n",
      "\n",
      "degree 5:\n",
      "Average Validation SMAPE: 46.89\n",
      "Average Train SMAPE: 41.480000000000004\n",
      "\n",
      "\n",
      "\n",
      "degree 6:\n",
      "Average Validation SMAPE: 59.908\n",
      "Average Train SMAPE: 39.864\n",
      "\n",
      "\n",
      "\n",
      "degree 7:\n",
      "Average Validation SMAPE: 81.68199999999999\n",
      "Average Train SMAPE: 39.738\n",
      "\n",
      "\n",
      "\n",
      "degree 8:\n",
      "Average Validation SMAPE: 88.332\n",
      "Average Train SMAPE: 39.233999999999995\n",
      "\n",
      "\n",
      "\n",
      "degree 9:\n",
      "Average Validation SMAPE: 88.03\n",
      "Average Train SMAPE: 39.128\n",
      "\n",
      "\n",
      "\n",
      "degree 10:\n",
      "Average Validation SMAPE: 90.90599999999999\n",
      "Average Train SMAPE: 37.798\n",
      "\n",
      "\n",
      "\n",
      "degree 11:\n",
      "Average Validation SMAPE: 97.66600000000001\n",
      "Average Train SMAPE: 39.364\n",
      "\n",
      "\n",
      "\n",
      "degree 12:\n",
      "Average Validation SMAPE: 124.11399999999999\n",
      "Average Train SMAPE: 57.553999999999995\n",
      "\n",
      "\n",
      "\n",
      "degree 13:\n",
      "Average Validation SMAPE: 125.5\n",
      "Average Train SMAPE: 53.66200000000001\n",
      "\n",
      "\n",
      "\n",
      "degree 14:\n",
      "Average Validation SMAPE: 135.17600000000002\n",
      "Average Train SMAPE: 67.95599999999999\n",
      "\n",
      "\n",
      "\n",
      "degree 15:\n",
      "Average Validation SMAPE: 123.86799999999998\n",
      "Average Train SMAPE: 37.246\n",
      "\n",
      "\n",
      "\n"
     ]
    }
   ],
   "source": [
    "degree_range = [1, 2, 3, 4, 5, 6, 7, 8, 9, 10, 11, 12, 13, 14, 15] \n",
    "\n",
    "train_uniform_bo = []\n",
    "\n",
    "test_uniform_bo = []\n",
    "\n",
    "for degree in degree_range:\n",
    "    print(f'degree {degree}:')\n",
    "    \n",
    "    poly = PolynomialFeatures(degree=degree)\n",
    "    X_poly_train = poly.fit_transform(X)\n",
    "\n",
    "    poly_model = LinearRegression()\n",
    "\n",
    "    scores = cross_validate(poly_model, X_poly_train, y.values.ravel(), scoring=score, cv=5, return_train_score=True)\n",
    "    \n",
    "    # train set results\n",
    "    r2_train = scores['train_score']\n",
    "    train_uniform_bo.append(np.mean(r2_train))\n",
    "    # test set results\n",
    "    r2_test = scores['test_score']   \n",
    "    test_uniform_bo.append(np.mean(r2_test))\n",
    "\n",
    "    print('Average Validation SMAPE:', np.mean(r2_test))\n",
    "    print('Average Train SMAPE:', np.mean(r2_train))\n",
    "    \n",
    "    print('\\n\\n')"
   ]
  },
  {
   "cell_type": "markdown",
   "id": "b0108540",
   "metadata": {},
   "source": [
    "### SMAPE: Non Uniform Bellman Operator approximation"
   ]
  },
  {
   "cell_type": "code",
   "execution_count": 16,
   "id": "9a801bd6",
   "metadata": {},
   "outputs": [],
   "source": [
    "X = df_non_uni[['Player','Pit', 'Goal', 'Wall']]\n",
    "y = df_non_uni[['Bellman_Operator']]"
   ]
  },
  {
   "cell_type": "code",
   "execution_count": 17,
   "id": "55641b6a",
   "metadata": {},
   "outputs": [
    {
     "name": "stdout",
     "output_type": "stream",
     "text": [
      "degree 1:\n",
      "Average Validation SMAPE: 41.852000000000004\n",
      "Average Train SMAPE: 41.751999999999995\n",
      "\n",
      "\n",
      "\n",
      "degree 2:\n",
      "Average Validation SMAPE: 38.814\n",
      "Average Train SMAPE: 38.64\n",
      "\n",
      "\n",
      "\n",
      "degree 3:\n",
      "Average Validation SMAPE: 38.898\n",
      "Average Train SMAPE: 38.646\n",
      "\n",
      "\n",
      "\n",
      "degree 4:\n",
      "Average Validation SMAPE: 37.162\n",
      "Average Train SMAPE: 36.864\n",
      "\n",
      "\n",
      "\n",
      "degree 5:\n",
      "Average Validation SMAPE: 37.946000000000005\n",
      "Average Train SMAPE: 37.202\n",
      "\n",
      "\n",
      "\n",
      "degree 6:\n",
      "Average Validation SMAPE: 38.152\n",
      "Average Train SMAPE: 36.940000000000005\n",
      "\n",
      "\n",
      "\n",
      "degree 7:\n",
      "Average Validation SMAPE: 39.086\n",
      "Average Train SMAPE: 37.008\n",
      "\n",
      "\n",
      "\n",
      "degree 8:\n",
      "Average Validation SMAPE: 39.804\n",
      "Average Train SMAPE: 36.664\n",
      "\n",
      "\n",
      "\n",
      "degree 9:\n",
      "Average Validation SMAPE: 41.252\n",
      "Average Train SMAPE: 36.596000000000004\n",
      "\n",
      "\n",
      "\n",
      "degree 10:\n",
      "Average Validation SMAPE: 41.717999999999996\n",
      "Average Train SMAPE: 34.71\n",
      "\n",
      "\n",
      "\n",
      "degree 11:\n",
      "Average Validation SMAPE: 44.884\n",
      "Average Train SMAPE: 34.721999999999994\n",
      "\n",
      "\n",
      "\n",
      "degree 12:\n",
      "Average Validation SMAPE: 47.396\n",
      "Average Train SMAPE: 34.448\n",
      "\n",
      "\n",
      "\n",
      "degree 13:\n",
      "Average Validation SMAPE: 52.076\n",
      "Average Train SMAPE: 33.472\n",
      "\n",
      "\n",
      "\n",
      "degree 14:\n",
      "Average Validation SMAPE: 59.14\n",
      "Average Train SMAPE: 34.152\n",
      "\n",
      "\n",
      "\n",
      "degree 15:\n",
      "Average Validation SMAPE: 64.50000000000001\n",
      "Average Train SMAPE: 29.580000000000002\n",
      "\n",
      "\n",
      "\n"
     ]
    }
   ],
   "source": [
    "train_non_uniform_bo = []\n",
    "\n",
    "test_non_uniform_bo = []\n",
    "\n",
    "for degree in degree_range:\n",
    "    print(f'degree {degree}:')\n",
    "    \n",
    "    poly = PolynomialFeatures(degree=degree)\n",
    "    X_poly_train = poly.fit_transform(X)\n",
    "\n",
    "    poly_model = LinearRegression()\n",
    "\n",
    "    scores = cross_validate(poly_model, X_poly_train, y.values.ravel(), scoring=score, cv=5, return_train_score=True)\n",
    "    \n",
    "    # train set results\n",
    "    r2_train = scores['train_score']\n",
    "    train_non_uniform_bo.append(np.mean(r2_train))\n",
    "    # test set results\n",
    "    r2_test = scores['test_score']   \n",
    "    test_non_uniform_bo.append(np.mean(r2_test))\n",
    "\n",
    "    print('Average Validation SMAPE:', np.mean(r2_test))\n",
    "    print('Average Train SMAPE:', np.mean(r2_train))\n",
    "    \n",
    "    print('\\n\\n')"
   ]
  },
  {
   "cell_type": "markdown",
   "id": "9138b354",
   "metadata": {},
   "source": [
    "### SMAPE: Visualization for Bellman Operator approximation"
   ]
  },
  {
   "cell_type": "code",
   "execution_count": 19,
   "id": "4fd6b38b",
   "metadata": {},
   "outputs": [
    {
     "data": {
      "image/png": "[encoded data removed]",
      "text/plain": [
       "<Figure size 640x480 with 1 Axes>"
      ]
     },
     "metadata": {},
     "output_type": "display_data"
    }
   ],
   "source": [
    "x = range(1,16)\n",
    "\n",
    "y1 = test_uniform_bo\n",
    "lowest_index_y1 = y1.index(min(y1))\n",
    "\n",
    "y2 = test_non_uniform_bo\n",
    "lowest_index_y2 = y2.index(min(y2))\n",
    "\n",
    "y3 = train_uniform_bo\n",
    "lowest_index_y3 = y3.index(min(y3))\n",
    "\n",
    "y4 = train_non_uniform_bo\n",
    "lowest_index_y4 = y4.index(min(y4))\n",
    "\n",
    "fig, ax = plt.subplots()\n",
    "\n",
    "ax.plot(x, y1, label='Uniform Validation', color = \"blue\")\n",
    "ax.plot(x, y2, label='Non-Uniform Validation', color = \"orange\")\n",
    "ax.plot(x, y3, label='Uniform Training', color = \"blue\", linestyle='--')\n",
    "ax.plot(x, y4, label='Non Uniform Training', color = \"orange\", linestyle='--')\n",
    "\n",
    "ax.scatter(x[lowest_index_y1], y1[lowest_index_y1], color='red')\n",
    "ax.scatter(x[lowest_index_y2], y2[lowest_index_y2], color='red')\n",
    "ax.scatter(x[lowest_index_y3], y3[lowest_index_y3], color='red')\n",
    "ax.scatter(x[lowest_index_y4], y4[lowest_index_y4], color='red')\n",
    "\n",
    "           \n",
    "ax.set_xlabel('Degree')\n",
    "ax.set_ylabel(\"SMAPE\")\n",
    "ax.set_title('Q-Value Polynomial LR Degrees Comparison.')\n",
    "\n",
    "ax.legend()\n",
    "ax.set_xlim(1, 15)\n",
    "\n",
    "plt.show()"
   ]
  },
  {
   "cell_type": "markdown",
   "id": "482452a4",
   "metadata": {},
   "source": [
    "### Testing Accuracy: Uniform Bellman Operator approximation"
   ]
  },
  {
   "cell_type": "code",
   "execution_count": 20,
   "id": "6746f0a7",
   "metadata": {},
   "outputs": [],
   "source": [
    "X = df_uni[['Player','Pit', 'Goal', 'Wall']]\n",
    "y = df_uni[['Bellman_Operator']]"
   ]
  },
  {
   "cell_type": "code",
   "execution_count": 21,
   "id": "04c1173f",
   "metadata": {},
   "outputs": [
    {
     "name": "stdout",
     "output_type": "stream",
     "text": [
      "degree 1:\n",
      "Win percentage: 20.119999999999997%\n",
      "degree 2:\n",
      "Win percentage: 49.12%\n",
      "degree 3:\n",
      "Win percentage: 49.12%\n",
      "degree 4:\n",
      "Win percentage: 65.49%\n",
      "degree 5:\n",
      "Win percentage: 65.45%\n",
      "degree 6:\n",
      "Win percentage: 65.06%\n",
      "degree 7:\n",
      "Win percentage: 66.11000000000001%\n",
      "degree 8:\n",
      "Win percentage: 65.46000000000001%\n",
      "degree 9:\n",
      "Win percentage: 64.74%\n",
      "degree 10:\n",
      "Win percentage: 57.569999999999986%\n",
      "degree 11:\n",
      "Win percentage: 56.73999999999999%\n",
      "degree 12:\n",
      "Win percentage: 48.86000000000001%\n",
      "degree 13:\n",
      "Win percentage: 52.18000000000001%\n",
      "degree 14:\n",
      "Win percentage: 35.540000000000006%\n",
      "degree 15:\n",
      "Win percentage: 61.67999999999998%\n"
     ]
    }
   ],
   "source": [
    "testing_accur_uniform_bo = []\n",
    "\n",
    "for degree in degree_range:\n",
    "    print(f'degree {degree}:')\n",
    "    \n",
    "    poly = PolynomialFeatures(degree=degree)\n",
    "    X_poly_train = poly.fit_transform(X)\n",
    "\n",
    "    poly_model = LinearRegression()\n",
    "    poly_model.fit(X_poly_train, y.values.ravel())\n",
    "    \n",
    "    \n",
    "    win_num = 0\n",
    "    for i in range(0,10):\n",
    "        max_games = 1000\n",
    "        wins = 0\n",
    "        for i in range(max_games):\n",
    "            win = gridworld_plr_test_model(poly_model, degree, 'random', display = False)\n",
    "            if win:\n",
    "                wins += 1\n",
    "        win_perc = float(wins) / float(max_games)\n",
    "        win_num = win_num + win_perc\n",
    "    win_num = win_num / 10\n",
    "    testing_accur_uniform_bo.append(win_num*100)\n",
    "    print(\"Win percentage: {}%\".format(win_num*100))"
   ]
  },
  {
   "cell_type": "markdown",
   "id": "14a4afdf",
   "metadata": {},
   "source": [
    "### Testing Accuracy: Non-Uniform Bellman Operator approximation"
   ]
  },
  {
   "cell_type": "code",
   "execution_count": 22,
   "id": "3f35d743",
   "metadata": {},
   "outputs": [],
   "source": [
    "X = df_non_uni[['Player','Pit', 'Goal', 'Wall']]\n",
    "y = df_non_uni[['Bellman_Operator']]"
   ]
  },
  {
   "cell_type": "code",
   "execution_count": 23,
   "id": "e1134867",
   "metadata": {},
   "outputs": [
    {
     "name": "stdout",
     "output_type": "stream",
     "text": [
      "degree 1:\n",
      "Win percentage: 19.71%\n",
      "degree 2:\n",
      "Win percentage: 60.31999999999999%\n",
      "degree 3:\n",
      "Win percentage: 64.14000000000001%\n",
      "degree 4:\n",
      "Win percentage: 63.970000000000006%\n",
      "degree 5:\n",
      "Win percentage: 64.97%\n",
      "degree 6:\n",
      "Win percentage: 57.93999999999999%\n",
      "degree 7:\n",
      "Win percentage: 55.379999999999995%\n",
      "degree 8:\n",
      "Win percentage: 45.41%\n",
      "degree 9:\n",
      "Win percentage: 47.41%\n",
      "degree 10:\n",
      "Win percentage: 41.74%\n",
      "degree 11:\n",
      "Win percentage: 41.07%\n",
      "degree 12:\n",
      "Win percentage: 39.76%\n",
      "degree 13:\n",
      "Win percentage: 33.739999999999995%\n",
      "degree 14:\n",
      "Win percentage: 30.28%\n",
      "degree 15:\n",
      "Win percentage: 31.240000000000002%\n"
     ]
    }
   ],
   "source": [
    "testing_accur_non_uniform_bo = []\n",
    "\n",
    "for degree in degree_range:\n",
    "    print(f'degree {degree}:')\n",
    "    \n",
    "    poly = PolynomialFeatures(degree=degree)\n",
    "    X_poly_train = poly.fit_transform(X)\n",
    "\n",
    "    poly_model = LinearRegression()\n",
    "    poly_model.fit(X_poly_train, y.values.ravel())\n",
    "    \n",
    "    \n",
    "    win_num = 0\n",
    "    for i in range(0,10):\n",
    "        max_games = 1000\n",
    "        wins = 0\n",
    "        for i in range(max_games):\n",
    "            win = gridworld_plr_test_model(poly_model, degree, 'random', display = False)\n",
    "            if win:\n",
    "                wins += 1\n",
    "        win_perc = float(wins) / float(max_games)\n",
    "        win_num = win_num + win_perc\n",
    "    win_num = win_num / 10\n",
    "    testing_accur_non_uniform_bo.append(win_num*100)\n",
    "    print(\"Win percentage: {}%\".format(win_num*100))"
   ]
  },
  {
   "cell_type": "markdown",
   "id": "45235641",
   "metadata": {},
   "source": [
    "### Testing Accuracy: Visualization for Bellman Operator approximation"
   ]
  },
  {
   "cell_type": "code",
   "execution_count": 25,
   "id": "108d46b3",
   "metadata": {},
   "outputs": [
    {
     "data": {
      "image/png": "[encoded data removed]",
      "text/plain": [
       "<Figure size 640x480 with 1 Axes>"
      ]
     },
     "metadata": {},
     "output_type": "display_data"
    }
   ],
   "source": [
    "x = range(1,16)\n",
    "\n",
    "y1 = testing_accur_uniform_bo\n",
    "max_index_y1 = y1.index(max(y1))\n",
    "\n",
    "y2 = testing_accur_non_uniform_bo\n",
    "max_index_y2 = y2.index(max(y2))\n",
    "\n",
    "fig, ax = plt.subplots()\n",
    "\n",
    "ax.plot(x, y1, label='Uniform Dataset Model')\n",
    "ax.plot(x, y2, label='Non Uniform Datset Model')\n",
    "\n",
    "ax.scatter(x[max_index_y1], y1[max_index_y1], color='red')\n",
    "ax.scatter(x[max_index_y2], y2[max_index_y2], color='red')\n",
    "\n",
    "ax.set_xlabel('Degree')\n",
    "ax.set_ylabel(\"Gridworld Testing Accuracy\")\n",
    "ax.set_title('Bellman Operator Polynomial RL degree Comparison.')\n",
    "\n",
    "ax.legend()\n",
    "\n",
    "ax.set_xlim(1, 15)\n",
    "\n",
    "plt.show()"
   ]
  },
  {
   "cell_type": "markdown",
   "id": "800b8d1b",
   "metadata": {},
   "source": [
    "## 9. Uniform Dataset Polynomial LR Performance <a id = \"plruniform\"> "
   ]
  },
  {
   "cell_type": "markdown",
   "id": "cb6dbece",
   "metadata": {},
   "source": [
    "### Q value approximation"
   ]
  },
  {
   "cell_type": "code",
   "execution_count": 27,
   "id": "ee467791",
   "metadata": {},
   "outputs": [],
   "source": [
    "X = df_uni[['Player','Pit', 'Goal', 'Wall']]\n",
    "y = df_uni[['Q_Current']]"
   ]
  },
  {
   "cell_type": "code",
   "execution_count": 32,
   "id": "8bc06a13",
   "metadata": {},
   "outputs": [
    {
     "data": {
      "text/plain": [
       "51.82000000000001"
      ]
     },
     "execution_count": 32,
     "metadata": {},
     "output_type": "execute_result"
    }
   ],
   "source": [
    "poly = PolynomialFeatures(degree=4)\n",
    "X_poly_train = poly.fit_transform(X.values)\n",
    "\n",
    "poly_uniform_q = LinearRegression()\n",
    "scores = cross_validate(poly_uniform_q, X_poly_train, y.values.ravel(), scoring=score, cv=5, return_train_score=True)\n",
    "SMAPE_poly_uniform_q = np.mean(scores['test_score'])\n",
    "SMAPE_poly_uniform_q"
   ]
  },
  {
   "cell_type": "code",
   "execution_count": 33,
   "id": "3906e0a5",
   "metadata": {},
   "outputs": [
    {
     "data": {
      "text/html": [
       "<style>#sk-container-id-1 {color: black;background-color: white;}#sk-container-id-1 pre{padding: 0;}#sk-container-id-1 div.sk-toggleable {background-color: white;}#sk-container-id-1 label.sk-toggleable__label {cursor: pointer;display: block;width: 100%;margin-bottom: 0;padding: 0.3em;box-sizing: border-box;text-align: center;}#sk-container-id-1 label.sk-toggleable__label-arrow:before {content: \"▸\";float: left;margin-right: 0.25em;color: #696969;}#sk-container-id-1 label.sk-toggleable__label-arrow:hover:before {color: black;}#sk-container-id-1 div.sk-estimator:hover label.sk-toggleable__label-arrow:before {color: black;}#sk-container-id-1 div.sk-toggleable__content {max-height: 0;max-width: 0;overflow: hidden;text-align: left;background-color: #f0f8ff;}#sk-container-id-1 div.sk-toggleable__content pre {margin: 0.2em;color: black;border-radius: 0.25em;background-color: #f0f8ff;}#sk-container-id-1 input.sk-toggleable__control:checked~div.sk-toggleable__content {max-height: 200px;max-width: 100%;overflow: auto;}#sk-container-id-1 input.sk-toggleable__control:checked~label.sk-toggleable__label-arrow:before {content: \"▾\";}#sk-container-id-1 div.sk-estimator input.sk-toggleable__control:checked~label.sk-toggleable__label {background-color: #d4ebff;}#sk-container-id-1 div.sk-label input.sk-toggleable__control:checked~label.sk-toggleable__label {background-color: #d4ebff;}#sk-container-id-1 input.sk-hidden--visually {border: 0;clip: rect(1px 1px 1px 1px);clip: rect(1px, 1px, 1px, 1px);height: 1px;margin: -1px;overflow: hidden;padding: 0;position: absolute;width: 1px;}#sk-container-id-1 div.sk-estimator {font-family: monospace;background-color: #f0f8ff;border: 1px dotted black;border-radius: 0.25em;box-sizing: border-box;margin-bottom: 0.5em;}#sk-container-id-1 div.sk-estimator:hover {background-color: #d4ebff;}#sk-container-id-1 div.sk-parallel-item::after {content: \"\";width: 100%;border-bottom: 1px solid gray;flex-grow: 1;}#sk-container-id-1 div.sk-label:hover label.sk-toggleable__label {background-color: #d4ebff;}#sk-container-id-1 div.sk-serial::before {content: \"\";position: absolute;border-left: 1px solid gray;box-sizing: border-box;top: 0;bottom: 0;left: 50%;z-index: 0;}#sk-container-id-1 div.sk-serial {display: flex;flex-direction: column;align-items: center;background-color: white;padding-right: 0.2em;padding-left: 0.2em;position: relative;}#sk-container-id-1 div.sk-item {position: relative;z-index: 1;}#sk-container-id-1 div.sk-parallel {display: flex;align-items: stretch;justify-content: center;background-color: white;position: relative;}#sk-container-id-1 div.sk-item::before, #sk-container-id-1 div.sk-parallel-item::before {content: \"\";position: absolute;border-left: 1px solid gray;box-sizing: border-box;top: 0;bottom: 0;left: 50%;z-index: -1;}#sk-container-id-1 div.sk-parallel-item {display: flex;flex-direction: column;z-index: 1;position: relative;background-color: white;}#sk-container-id-1 div.sk-parallel-item:first-child::after {align-self: flex-end;width: 50%;}#sk-container-id-1 div.sk-parallel-item:last-child::after {align-self: flex-start;width: 50%;}#sk-container-id-1 div.sk-parallel-item:only-child::after {width: 0;}#sk-container-id-1 div.sk-dashed-wrapped {border: 1px dashed gray;margin: 0 0.4em 0.5em 0.4em;box-sizing: border-box;padding-bottom: 0.4em;background-color: white;}#sk-container-id-1 div.sk-label label {font-family: monospace;font-weight: bold;display: inline-block;line-height: 1.2em;}#sk-container-id-1 div.sk-label-container {text-align: center;}#sk-container-id-1 div.sk-container {/* jupyter's `normalize.less` sets `[hidden] { display: none; }` but bootstrap.min.css set `[hidden] { display: none !important; }` so we also need the `!important` here to be able to override the default hidden behavior on the sphinx rendered scikit-learn.org. See: https://github.com/scikit-learn/scikit-learn/issues/21755 */display: inline-block !important;position: relative;}#sk-container-id-1 div.sk-text-repr-fallback {display: none;}</style><div id=\"sk-container-id-1\" class=\"sk-top-container\"><div class=\"sk-text-repr-fallback\"><pre>LinearRegression()</pre><b>In a Jupyter environment, please rerun this cell to show the HTML representation or trust the notebook. <br />On GitHub, the HTML representation is unable to render, please try loading this page with nbviewer.org.</b></div><div class=\"sk-container\" hidden><div class=\"sk-item\"><div class=\"sk-estimator sk-toggleable\"><input class=\"sk-toggleable__control sk-hidden--visually\" id=\"sk-estimator-id-1\" type=\"checkbox\" checked><label for=\"sk-estimator-id-1\" class=\"sk-toggleable__label sk-toggleable__label-arrow\">LinearRegression</label><div class=\"sk-toggleable__content\"><pre>LinearRegression()</pre></div></div></div></div></div>"
      ],
      "text/plain": [
       "LinearRegression()"
      ]
     },
     "execution_count": 33,
     "metadata": {},
     "output_type": "execute_result"
    }
   ],
   "source": [
    "poly_uniform_q.fit(X_poly_train,y.values.ravel())"
   ]
  },
  {
   "cell_type": "code",
   "execution_count": 35,
   "id": "d1ebebaa",
   "metadata": {},
   "outputs": [
    {
     "name": "stdout",
     "output_type": "stream",
     "text": [
      "Games played: 1000, # of wins: 489\n",
      "0.489\n",
      "0.489\n",
      "Games played: 1000, # of wins: 500\n",
      "0.5\n",
      "0.989\n",
      "Games played: 1000, # of wins: 493\n",
      "0.493\n",
      "1.482\n",
      "Games played: 1000, # of wins: 476\n",
      "0.476\n",
      "1.958\n",
      "Games played: 1000, # of wins: 511\n",
      "0.511\n",
      "2.469\n",
      "Games played: 1000, # of wins: 456\n",
      "0.456\n",
      "2.925\n",
      "Games played: 1000, # of wins: 475\n",
      "0.475\n",
      "3.4\n",
      "Games played: 1000, # of wins: 480\n",
      "0.48\n",
      "3.88\n",
      "Games played: 1000, # of wins: 496\n",
      "0.496\n",
      "4.3759999999999994\n",
      "Games played: 1000, # of wins: 496\n",
      "0.496\n",
      "4.872\n",
      "Win percentage: 48.72%\n"
     ]
    }
   ],
   "source": [
    "win_num = 0\n",
    "for i in range(0,10):\n",
    "    max_games = 1000\n",
    "    wins = 0\n",
    "    for i in range(max_games):\n",
    "        win = gridworld_plr_test_model(poly_uniform_q, 4, 'random', display = False)\n",
    "        if win:\n",
    "            wins += 1\n",
    "    win_perc = float(wins) / float(max_games)\n",
    "    win_num = win_num + win_perc\n",
    "    print(\"Games played: {0}, # of wins: {1}\".format(max_games,wins))\n",
    "    print(win_perc)\n",
    "    print(win_num)\n",
    "win_num = win_num / 10\n",
    "print(\"Win percentage: {}%\".format(win_num*100))"
   ]
  },
  {
   "cell_type": "markdown",
   "id": "2aa6a9b0",
   "metadata": {},
   "source": [
    "### Bellman Operator Approximation"
   ]
  },
  {
   "cell_type": "code",
   "execution_count": 36,
   "id": "f7d78d1a",
   "metadata": {},
   "outputs": [],
   "source": [
    "X = df_uni[['Player','Pit', 'Goal', 'Wall']]\n",
    "y = df_uni[['Bellman_Operator']]"
   ]
  },
  {
   "cell_type": "code",
   "execution_count": 37,
   "id": "b9ac0af6",
   "metadata": {},
   "outputs": [
    {
     "data": {
      "text/plain": [
       "43.012"
      ]
     },
     "execution_count": 37,
     "metadata": {},
     "output_type": "execute_result"
    }
   ],
   "source": [
    "poly = PolynomialFeatures(degree=4)\n",
    "X_poly_train = poly.fit_transform(X.values)\n",
    "\n",
    "poly_uniform_bo = LinearRegression()\n",
    "scores = cross_validate(poly_uniform_bo, X_poly_train, y.values.ravel(), scoring=score, cv=5, return_train_score=True)\n",
    "SMAPE_poly_uniform_bo = np.mean(scores['test_score'])\n",
    "SMAPE_poly_uniform_bo"
   ]
  },
  {
   "cell_type": "code",
   "execution_count": 38,
   "id": "5304a9c6",
   "metadata": {},
   "outputs": [
    {
     "data": {
      "text/html": [
       "<style>#sk-container-id-2 {color: black;background-color: white;}#sk-container-id-2 pre{padding: 0;}#sk-container-id-2 div.sk-toggleable {background-color: white;}#sk-container-id-2 label.sk-toggleable__label {cursor: pointer;display: block;width: 100%;margin-bottom: 0;padding: 0.3em;box-sizing: border-box;text-align: center;}#sk-container-id-2 label.sk-toggleable__label-arrow:before {content: \"▸\";float: left;margin-right: 0.25em;color: #696969;}#sk-container-id-2 label.sk-toggleable__label-arrow:hover:before {color: black;}#sk-container-id-2 div.sk-estimator:hover label.sk-toggleable__label-arrow:before {color: black;}#sk-container-id-2 div.sk-toggleable__content {max-height: 0;max-width: 0;overflow: hidden;text-align: left;background-color: #f0f8ff;}#sk-container-id-2 div.sk-toggleable__content pre {margin: 0.2em;color: black;border-radius: 0.25em;background-color: #f0f8ff;}#sk-container-id-2 input.sk-toggleable__control:checked~div.sk-toggleable__content {max-height: 200px;max-width: 100%;overflow: auto;}#sk-container-id-2 input.sk-toggleable__control:checked~label.sk-toggleable__label-arrow:before {content: \"▾\";}#sk-container-id-2 div.sk-estimator input.sk-toggleable__control:checked~label.sk-toggleable__label {background-color: #d4ebff;}#sk-container-id-2 div.sk-label input.sk-toggleable__control:checked~label.sk-toggleable__label {background-color: #d4ebff;}#sk-container-id-2 input.sk-hidden--visually {border: 0;clip: rect(1px 1px 1px 1px);clip: rect(1px, 1px, 1px, 1px);height: 1px;margin: -1px;overflow: hidden;padding: 0;position: absolute;width: 1px;}#sk-container-id-2 div.sk-estimator {font-family: monospace;background-color: #f0f8ff;border: 1px dotted black;border-radius: 0.25em;box-sizing: border-box;margin-bottom: 0.5em;}#sk-container-id-2 div.sk-estimator:hover {background-color: #d4ebff;}#sk-container-id-2 div.sk-parallel-item::after {content: \"\";width: 100%;border-bottom: 1px solid gray;flex-grow: 1;}#sk-container-id-2 div.sk-label:hover label.sk-toggleable__label {background-color: #d4ebff;}#sk-container-id-2 div.sk-serial::before {content: \"\";position: absolute;border-left: 1px solid gray;box-sizing: border-box;top: 0;bottom: 0;left: 50%;z-index: 0;}#sk-container-id-2 div.sk-serial {display: flex;flex-direction: column;align-items: center;background-color: white;padding-right: 0.2em;padding-left: 0.2em;position: relative;}#sk-container-id-2 div.sk-item {position: relative;z-index: 1;}#sk-container-id-2 div.sk-parallel {display: flex;align-items: stretch;justify-content: center;background-color: white;position: relative;}#sk-container-id-2 div.sk-item::before, #sk-container-id-2 div.sk-parallel-item::before {content: \"\";position: absolute;border-left: 1px solid gray;box-sizing: border-box;top: 0;bottom: 0;left: 50%;z-index: -1;}#sk-container-id-2 div.sk-parallel-item {display: flex;flex-direction: column;z-index: 1;position: relative;background-color: white;}#sk-container-id-2 div.sk-parallel-item:first-child::after {align-self: flex-end;width: 50%;}#sk-container-id-2 div.sk-parallel-item:last-child::after {align-self: flex-start;width: 50%;}#sk-container-id-2 div.sk-parallel-item:only-child::after {width: 0;}#sk-container-id-2 div.sk-dashed-wrapped {border: 1px dashed gray;margin: 0 0.4em 0.5em 0.4em;box-sizing: border-box;padding-bottom: 0.4em;background-color: white;}#sk-container-id-2 div.sk-label label {font-family: monospace;font-weight: bold;display: inline-block;line-height: 1.2em;}#sk-container-id-2 div.sk-label-container {text-align: center;}#sk-container-id-2 div.sk-container {/* jupyter's `normalize.less` sets `[hidden] { display: none; }` but bootstrap.min.css set `[hidden] { display: none !important; }` so we also need the `!important` here to be able to override the default hidden behavior on the sphinx rendered scikit-learn.org. See: https://github.com/scikit-learn/scikit-learn/issues/21755 */display: inline-block !important;position: relative;}#sk-container-id-2 div.sk-text-repr-fallback {display: none;}</style><div id=\"sk-container-id-2\" class=\"sk-top-container\"><div class=\"sk-text-repr-fallback\"><pre>LinearRegression()</pre><b>In a Jupyter environment, please rerun this cell to show the HTML representation or trust the notebook. <br />On GitHub, the HTML representation is unable to render, please try loading this page with nbviewer.org.</b></div><div class=\"sk-container\" hidden><div class=\"sk-item\"><div class=\"sk-estimator sk-toggleable\"><input class=\"sk-toggleable__control sk-hidden--visually\" id=\"sk-estimator-id-2\" type=\"checkbox\" checked><label for=\"sk-estimator-id-2\" class=\"sk-toggleable__label sk-toggleable__label-arrow\">LinearRegression</label><div class=\"sk-toggleable__content\"><pre>LinearRegression()</pre></div></div></div></div></div>"
      ],
      "text/plain": [
       "LinearRegression()"
      ]
     },
     "execution_count": 38,
     "metadata": {},
     "output_type": "execute_result"
    }
   ],
   "source": [
    "poly_uniform_bo.fit(X_poly_train,y.values.ravel())"
   ]
  },
  {
   "cell_type": "code",
   "execution_count": 39,
   "id": "9e3b0732",
   "metadata": {},
   "outputs": [
    {
     "name": "stdout",
     "output_type": "stream",
     "text": [
      "Games played: 1000, # of wins: 644\n",
      "0.644\n",
      "0.644\n",
      "Games played: 1000, # of wins: 677\n",
      "0.677\n",
      "1.3210000000000002\n",
      "Games played: 1000, # of wins: 697\n",
      "0.697\n",
      "2.0180000000000002\n",
      "Games played: 1000, # of wins: 670\n",
      "0.67\n",
      "2.688\n",
      "Games played: 1000, # of wins: 625\n",
      "0.625\n",
      "3.313\n",
      "Games played: 1000, # of wins: 646\n",
      "0.646\n",
      "3.959\n",
      "Games played: 1000, # of wins: 644\n",
      "0.644\n",
      "4.603\n",
      "Games played: 1000, # of wins: 664\n",
      "0.664\n",
      "5.2669999999999995\n",
      "Games played: 1000, # of wins: 682\n",
      "0.682\n",
      "5.949\n",
      "Games played: 1000, # of wins: 660\n",
      "0.66\n",
      "6.609\n",
      "Win percentage: 66.09%\n"
     ]
    }
   ],
   "source": [
    "win_num = 0\n",
    "for i in range(0,10):\n",
    "    max_games = 1000\n",
    "    wins = 0\n",
    "    for i in range(max_games):\n",
    "        win = gridworld_plr_test_model(poly_uniform_bo, 4, 'random', display = False)\n",
    "        if win:\n",
    "            wins += 1\n",
    "    win_perc = float(wins) / float(max_games)\n",
    "    win_num = win_num + win_perc\n",
    "    print(\"Games played: {0}, # of wins: {1}\".format(max_games,wins))\n",
    "    print(win_perc)\n",
    "    print(win_num)\n",
    "win_num = win_num / 10\n",
    "print(\"Win percentage: {}%\".format(win_num*100))"
   ]
  },
  {
   "cell_type": "markdown",
   "id": "2995a746",
   "metadata": {},
   "source": [
    "## 10. Non-Uniform Dataset Polynomial LR Performance <a id = \"plrnonuniform\"> "
   ]
  },
  {
   "cell_type": "markdown",
   "id": "9b9fd705",
   "metadata": {},
   "source": [
    "### Q value approximation"
   ]
  },
  {
   "cell_type": "code",
   "execution_count": 40,
   "id": "e6233ada",
   "metadata": {},
   "outputs": [],
   "source": [
    "X = df_non_uni[['Player','Pit', 'Goal', 'Wall']]\n",
    "y = df_non_uni[['Q_Current']]"
   ]
  },
  {
   "cell_type": "code",
   "execution_count": 41,
   "id": "1603b9c2",
   "metadata": {},
   "outputs": [
    {
     "data": {
      "text/plain": [
       "32.766000000000005"
      ]
     },
     "execution_count": 41,
     "metadata": {},
     "output_type": "execute_result"
    }
   ],
   "source": [
    "poly = PolynomialFeatures(degree=4)\n",
    "X_poly_train = poly.fit_transform(X.values)\n",
    "\n",
    "poly_non_uniform_q = LinearRegression()\n",
    "scores = cross_validate(poly_non_uniform_q, X_poly_train, y.values.ravel(), scoring=score, cv=5, return_train_score=True)\n",
    "SMAPE_poly_non_uniform_q = np.mean(scores['test_score'])\n",
    "SMAPE_poly_non_uniform_q"
   ]
  },
  {
   "cell_type": "code",
   "execution_count": 42,
   "id": "68a9913e",
   "metadata": {},
   "outputs": [
    {
     "data": {
      "text/html": [
       "<style>#sk-container-id-3 {color: black;background-color: white;}#sk-container-id-3 pre{padding: 0;}#sk-container-id-3 div.sk-toggleable {background-color: white;}#sk-container-id-3 label.sk-toggleable__label {cursor: pointer;display: block;width: 100%;margin-bottom: 0;padding: 0.3em;box-sizing: border-box;text-align: center;}#sk-container-id-3 label.sk-toggleable__label-arrow:before {content: \"▸\";float: left;margin-right: 0.25em;color: #696969;}#sk-container-id-3 label.sk-toggleable__label-arrow:hover:before {color: black;}#sk-container-id-3 div.sk-estimator:hover label.sk-toggleable__label-arrow:before {color: black;}#sk-container-id-3 div.sk-toggleable__content {max-height: 0;max-width: 0;overflow: hidden;text-align: left;background-color: #f0f8ff;}#sk-container-id-3 div.sk-toggleable__content pre {margin: 0.2em;color: black;border-radius: 0.25em;background-color: #f0f8ff;}#sk-container-id-3 input.sk-toggleable__control:checked~div.sk-toggleable__content {max-height: 200px;max-width: 100%;overflow: auto;}#sk-container-id-3 input.sk-toggleable__control:checked~label.sk-toggleable__label-arrow:before {content: \"▾\";}#sk-container-id-3 div.sk-estimator input.sk-toggleable__control:checked~label.sk-toggleable__label {background-color: #d4ebff;}#sk-container-id-3 div.sk-label input.sk-toggleable__control:checked~label.sk-toggleable__label {background-color: #d4ebff;}#sk-container-id-3 input.sk-hidden--visually {border: 0;clip: rect(1px 1px 1px 1px);clip: rect(1px, 1px, 1px, 1px);height: 1px;margin: -1px;overflow: hidden;padding: 0;position: absolute;width: 1px;}#sk-container-id-3 div.sk-estimator {font-family: monospace;background-color: #f0f8ff;border: 1px dotted black;border-radius: 0.25em;box-sizing: border-box;margin-bottom: 0.5em;}#sk-container-id-3 div.sk-estimator:hover {background-color: #d4ebff;}#sk-container-id-3 div.sk-parallel-item::after {content: \"\";width: 100%;border-bottom: 1px solid gray;flex-grow: 1;}#sk-container-id-3 div.sk-label:hover label.sk-toggleable__label {background-color: #d4ebff;}#sk-container-id-3 div.sk-serial::before {content: \"\";position: absolute;border-left: 1px solid gray;box-sizing: border-box;top: 0;bottom: 0;left: 50%;z-index: 0;}#sk-container-id-3 div.sk-serial {display: flex;flex-direction: column;align-items: center;background-color: white;padding-right: 0.2em;padding-left: 0.2em;position: relative;}#sk-container-id-3 div.sk-item {position: relative;z-index: 1;}#sk-container-id-3 div.sk-parallel {display: flex;align-items: stretch;justify-content: center;background-color: white;position: relative;}#sk-container-id-3 div.sk-item::before, #sk-container-id-3 div.sk-parallel-item::before {content: \"\";position: absolute;border-left: 1px solid gray;box-sizing: border-box;top: 0;bottom: 0;left: 50%;z-index: -1;}#sk-container-id-3 div.sk-parallel-item {display: flex;flex-direction: column;z-index: 1;position: relative;background-color: white;}#sk-container-id-3 div.sk-parallel-item:first-child::after {align-self: flex-end;width: 50%;}#sk-container-id-3 div.sk-parallel-item:last-child::after {align-self: flex-start;width: 50%;}#sk-container-id-3 div.sk-parallel-item:only-child::after {width: 0;}#sk-container-id-3 div.sk-dashed-wrapped {border: 1px dashed gray;margin: 0 0.4em 0.5em 0.4em;box-sizing: border-box;padding-bottom: 0.4em;background-color: white;}#sk-container-id-3 div.sk-label label {font-family: monospace;font-weight: bold;display: inline-block;line-height: 1.2em;}#sk-container-id-3 div.sk-label-container {text-align: center;}#sk-container-id-3 div.sk-container {/* jupyter's `normalize.less` sets `[hidden] { display: none; }` but bootstrap.min.css set `[hidden] { display: none !important; }` so we also need the `!important` here to be able to override the default hidden behavior on the sphinx rendered scikit-learn.org. See: https://github.com/scikit-learn/scikit-learn/issues/21755 */display: inline-block !important;position: relative;}#sk-container-id-3 div.sk-text-repr-fallback {display: none;}</style><div id=\"sk-container-id-3\" class=\"sk-top-container\"><div class=\"sk-text-repr-fallback\"><pre>LinearRegression()</pre><b>In a Jupyter environment, please rerun this cell to show the HTML representation or trust the notebook. <br />On GitHub, the HTML representation is unable to render, please try loading this page with nbviewer.org.</b></div><div class=\"sk-container\" hidden><div class=\"sk-item\"><div class=\"sk-estimator sk-toggleable\"><input class=\"sk-toggleable__control sk-hidden--visually\" id=\"sk-estimator-id-3\" type=\"checkbox\" checked><label for=\"sk-estimator-id-3\" class=\"sk-toggleable__label sk-toggleable__label-arrow\">LinearRegression</label><div class=\"sk-toggleable__content\"><pre>LinearRegression()</pre></div></div></div></div></div>"
      ],
      "text/plain": [
       "LinearRegression()"
      ]
     },
     "execution_count": 42,
     "metadata": {},
     "output_type": "execute_result"
    }
   ],
   "source": [
    "poly_non_uniform_q.fit(X_poly_train,y.values.ravel())"
   ]
  },
  {
   "cell_type": "code",
   "execution_count": 43,
   "id": "1d8a2dd3",
   "metadata": {},
   "outputs": [
    {
     "name": "stdout",
     "output_type": "stream",
     "text": [
      "Games played: 1000, # of wins: 576\n",
      "0.576\n",
      "0.576\n",
      "Games played: 1000, # of wins: 573\n",
      "0.573\n",
      "1.149\n",
      "Games played: 1000, # of wins: 570\n",
      "0.57\n",
      "1.7189999999999999\n",
      "Games played: 1000, # of wins: 596\n",
      "0.596\n",
      "2.315\n",
      "Games played: 1000, # of wins: 575\n",
      "0.575\n",
      "2.8899999999999997\n",
      "Games played: 1000, # of wins: 601\n",
      "0.601\n",
      "3.4909999999999997\n",
      "Games played: 1000, # of wins: 596\n",
      "0.596\n",
      "4.087\n",
      "Games played: 1000, # of wins: 604\n",
      "0.604\n",
      "4.691\n",
      "Games played: 1000, # of wins: 578\n",
      "0.578\n",
      "5.269\n",
      "Games played: 1000, # of wins: 588\n",
      "0.588\n",
      "5.857\n",
      "Win percentage: 58.57%\n"
     ]
    }
   ],
   "source": [
    "win_num = 0\n",
    "for i in range(0,10):\n",
    "    max_games = 1000\n",
    "    wins = 0\n",
    "    for i in range(max_games):\n",
    "        win = gridworld_plr_test_model(poly_non_uniform_q, 4, 'random', display = False)\n",
    "        if win:\n",
    "            wins += 1\n",
    "    win_perc = float(wins) / float(max_games)\n",
    "    win_num = win_num + win_perc\n",
    "    print(\"Games played: {0}, # of wins: {1}\".format(max_games,wins))\n",
    "    print(win_perc)\n",
    "    print(win_num)\n",
    "win_num = win_num / 10\n",
    "print(\"Win percentage: {}%\".format(win_num*100))"
   ]
  },
  {
   "cell_type": "markdown",
   "id": "940a8207",
   "metadata": {},
   "source": [
    "### Bellman Operator Approximation"
   ]
  },
  {
   "cell_type": "code",
   "execution_count": 44,
   "id": "78f2f659",
   "metadata": {},
   "outputs": [],
   "source": [
    "X = df_non_uni[['Player','Pit', 'Goal', 'Wall']]\n",
    "y = df_non_uni[['Bellman_Operator']]"
   ]
  },
  {
   "cell_type": "code",
   "execution_count": 45,
   "id": "7205054c",
   "metadata": {},
   "outputs": [
    {
     "data": {
      "text/plain": [
       "37.162"
      ]
     },
     "execution_count": 45,
     "metadata": {},
     "output_type": "execute_result"
    }
   ],
   "source": [
    "poly = PolynomialFeatures(degree=4)\n",
    "X_poly_train = poly.fit_transform(X.values)\n",
    "\n",
    "poly_non_uniform_bo = LinearRegression()\n",
    "scores = cross_validate(poly_non_uniform_bo, X_poly_train, y.values.ravel(), scoring=score, cv=5, return_train_score=True)\n",
    "SMAPE_poly_non_uniform_bo = np.mean(scores['test_score'])\n",
    "SMAPE_poly_non_uniform_bo"
   ]
  },
  {
   "cell_type": "code",
   "execution_count": 46,
   "id": "af5e6742",
   "metadata": {},
   "outputs": [
    {
     "data": {
      "text/html": [
       "<style>#sk-container-id-4 {color: black;background-color: white;}#sk-container-id-4 pre{padding: 0;}#sk-container-id-4 div.sk-toggleable {background-color: white;}#sk-container-id-4 label.sk-toggleable__label {cursor: pointer;display: block;width: 100%;margin-bottom: 0;padding: 0.3em;box-sizing: border-box;text-align: center;}#sk-container-id-4 label.sk-toggleable__label-arrow:before {content: \"▸\";float: left;margin-right: 0.25em;color: #696969;}#sk-container-id-4 label.sk-toggleable__label-arrow:hover:before {color: black;}#sk-container-id-4 div.sk-estimator:hover label.sk-toggleable__label-arrow:before {color: black;}#sk-container-id-4 div.sk-toggleable__content {max-height: 0;max-width: 0;overflow: hidden;text-align: left;background-color: #f0f8ff;}#sk-container-id-4 div.sk-toggleable__content pre {margin: 0.2em;color: black;border-radius: 0.25em;background-color: #f0f8ff;}#sk-container-id-4 input.sk-toggleable__control:checked~div.sk-toggleable__content {max-height: 200px;max-width: 100%;overflow: auto;}#sk-container-id-4 input.sk-toggleable__control:checked~label.sk-toggleable__label-arrow:before {content: \"▾\";}#sk-container-id-4 div.sk-estimator input.sk-toggleable__control:checked~label.sk-toggleable__label {background-color: #d4ebff;}#sk-container-id-4 div.sk-label input.sk-toggleable__control:checked~label.sk-toggleable__label {background-color: #d4ebff;}#sk-container-id-4 input.sk-hidden--visually {border: 0;clip: rect(1px 1px 1px 1px);clip: rect(1px, 1px, 1px, 1px);height: 1px;margin: -1px;overflow: hidden;padding: 0;position: absolute;width: 1px;}#sk-container-id-4 div.sk-estimator {font-family: monospace;background-color: #f0f8ff;border: 1px dotted black;border-radius: 0.25em;box-sizing: border-box;margin-bottom: 0.5em;}#sk-container-id-4 div.sk-estimator:hover {background-color: #d4ebff;}#sk-container-id-4 div.sk-parallel-item::after {content: \"\";width: 100%;border-bottom: 1px solid gray;flex-grow: 1;}#sk-container-id-4 div.sk-label:hover label.sk-toggleable__label {background-color: #d4ebff;}#sk-container-id-4 div.sk-serial::before {content: \"\";position: absolute;border-left: 1px solid gray;box-sizing: border-box;top: 0;bottom: 0;left: 50%;z-index: 0;}#sk-container-id-4 div.sk-serial {display: flex;flex-direction: column;align-items: center;background-color: white;padding-right: 0.2em;padding-left: 0.2em;position: relative;}#sk-container-id-4 div.sk-item {position: relative;z-index: 1;}#sk-container-id-4 div.sk-parallel {display: flex;align-items: stretch;justify-content: center;background-color: white;position: relative;}#sk-container-id-4 div.sk-item::before, #sk-container-id-4 div.sk-parallel-item::before {content: \"\";position: absolute;border-left: 1px solid gray;box-sizing: border-box;top: 0;bottom: 0;left: 50%;z-index: -1;}#sk-container-id-4 div.sk-parallel-item {display: flex;flex-direction: column;z-index: 1;position: relative;background-color: white;}#sk-container-id-4 div.sk-parallel-item:first-child::after {align-self: flex-end;width: 50%;}#sk-container-id-4 div.sk-parallel-item:last-child::after {align-self: flex-start;width: 50%;}#sk-container-id-4 div.sk-parallel-item:only-child::after {width: 0;}#sk-container-id-4 div.sk-dashed-wrapped {border: 1px dashed gray;margin: 0 0.4em 0.5em 0.4em;box-sizing: border-box;padding-bottom: 0.4em;background-color: white;}#sk-container-id-4 div.sk-label label {font-family: monospace;font-weight: bold;display: inline-block;line-height: 1.2em;}#sk-container-id-4 div.sk-label-container {text-align: center;}#sk-container-id-4 div.sk-container {/* jupyter's `normalize.less` sets `[hidden] { display: none; }` but bootstrap.min.css set `[hidden] { display: none !important; }` so we also need the `!important` here to be able to override the default hidden behavior on the sphinx rendered scikit-learn.org. See: https://github.com/scikit-learn/scikit-learn/issues/21755 */display: inline-block !important;position: relative;}#sk-container-id-4 div.sk-text-repr-fallback {display: none;}</style><div id=\"sk-container-id-4\" class=\"sk-top-container\"><div class=\"sk-text-repr-fallback\"><pre>LinearRegression()</pre><b>In a Jupyter environment, please rerun this cell to show the HTML representation or trust the notebook. <br />On GitHub, the HTML representation is unable to render, please try loading this page with nbviewer.org.</b></div><div class=\"sk-container\" hidden><div class=\"sk-item\"><div class=\"sk-estimator sk-toggleable\"><input class=\"sk-toggleable__control sk-hidden--visually\" id=\"sk-estimator-id-4\" type=\"checkbox\" checked><label for=\"sk-estimator-id-4\" class=\"sk-toggleable__label sk-toggleable__label-arrow\">LinearRegression</label><div class=\"sk-toggleable__content\"><pre>LinearRegression()</pre></div></div></div></div></div>"
      ],
      "text/plain": [
       "LinearRegression()"
      ]
     },
     "execution_count": 46,
     "metadata": {},
     "output_type": "execute_result"
    }
   ],
   "source": [
    "poly_non_uniform_bo.fit(X_poly_train,y.values.ravel())"
   ]
  },
  {
   "cell_type": "code",
   "execution_count": 47,
   "id": "0c5b9724",
   "metadata": {},
   "outputs": [
    {
     "name": "stdout",
     "output_type": "stream",
     "text": [
      "Games played: 1000, # of wins: 627\n",
      "0.627\n",
      "0.627\n",
      "Games played: 1000, # of wins: 644\n",
      "0.644\n",
      "1.271\n",
      "Games played: 1000, # of wins: 625\n",
      "0.625\n",
      "1.896\n",
      "Games played: 1000, # of wins: 659\n",
      "0.659\n",
      "2.5549999999999997\n",
      "Games played: 1000, # of wins: 659\n",
      "0.659\n",
      "3.2139999999999995\n",
      "Games played: 1000, # of wins: 665\n",
      "0.665\n",
      "3.8789999999999996\n",
      "Games played: 1000, # of wins: 638\n",
      "0.638\n",
      "4.5169999999999995\n",
      "Games played: 1000, # of wins: 654\n",
      "0.654\n",
      "5.170999999999999\n",
      "Games played: 1000, # of wins: 646\n",
      "0.646\n",
      "5.816999999999999\n",
      "Games played: 1000, # of wins: 650\n",
      "0.65\n",
      "6.467\n",
      "Win percentage: 64.66999999999999%\n"
     ]
    }
   ],
   "source": [
    "win_num = 0\n",
    "for i in range(0,10):\n",
    "    max_games = 1000\n",
    "    wins = 0\n",
    "    for i in range(max_games):\n",
    "        win = gridworld_plr_test_model(poly_non_uniform_bo, 4, 'random', display = False)\n",
    "        if win:\n",
    "            wins += 1\n",
    "    win_perc = float(wins) / float(max_games)\n",
    "    win_num = win_num + win_perc\n",
    "    print(\"Games played: {0}, # of wins: {1}\".format(max_games,wins))\n",
    "    print(win_perc)\n",
    "    print(win_num)\n",
    "win_num = win_num / 10\n",
    "print(\"Win percentage: {}%\".format(win_num*100))"
   ]
  },
  {
   "cell_type": "markdown",
   "id": "14e9f741",
   "metadata": {},
   "source": [
    "## 10. Visuals <a id = \"visuals\"> "
   ]
  },
  {
   "cell_type": "code",
   "execution_count": 83,
   "id": "7dd74efb",
   "metadata": {},
   "outputs": [
    {
     "data": {
      "image/png": "[encoded data removed]",
      "text/plain": [
       "<Figure size 640x480 with 1 Axes>"
      ]
     },
     "metadata": {},
     "output_type": "display_data"
    }
   ],
   "source": [
    "X = df_uni[['Player','Pit', 'Goal', 'Wall']]\n",
    "y = df_uni[['Q_Current']]\n",
    "counts =  df_uni[['Unnamed: 0']] \n",
    "\n",
    "poly = PolynomialFeatures(degree=4)\n",
    "poly_features = poly.fit_transform(X.values)\n",
    "y_pred_poly = poly_uniform_q.predict(poly_features)\n",
    "\n",
    "y_pred = mlp_uniform_q.predict(X.values)\n",
    "\n",
    "y_pred_lr = lr_uniform_q.predict(X.values)\n",
    "\n",
    "plt.plot(counts, y, label='Uniform Dataset')\n",
    "plt.plot(counts, y_pred, label='Uniform MLP Model Prediction')\n",
    "plt.plot(counts, y_pred_poly, label= 'Uniform Poly LR Model Prediction')\n",
    "plt.plot(counts, y_pred_lr, label='Uniform LR Model Prediction')\n",
    "plt.xlabel('Number of Counts')\n",
    "plt.ylabel('Q-value')\n",
    "plt.title('Q-value Approximation')\n",
    "plt.legend()\n",
    "\n",
    "plt.ylim(-15, 15)\n",
    "\n",
    "plt.show()"
   ]
  },
  {
   "cell_type": "code",
   "execution_count": 82,
   "id": "05a449f4",
   "metadata": {},
   "outputs": [
    {
     "data": {
      "image/png": "[encoded data removed]",
      "text/plain": [
       "<Figure size 640x480 with 1 Axes>"
      ]
     },
     "metadata": {},
     "output_type": "display_data"
    }
   ],
   "source": [
    "X = df_uni[['Player','Pit', 'Goal', 'Wall']]\n",
    "y = df_uni[['Bellman_Operator']]\n",
    "counts =  df_uni[['Unnamed: 0']] \n",
    "\n",
    "poly = PolynomialFeatures(degree=4)\n",
    "poly_features = poly.fit_transform(X.values)\n",
    "y_pred_poly = poly_uniform_bo.predict(poly_features)\n",
    "\n",
    "y_pred = mlp_uniform_bo.predict(X.values)\n",
    "\n",
    "y_pred_lr = lr_uniform_bo.predict(X.values)\n",
    "\n",
    "plt.plot(counts, y, label='Uniform Dataset')\n",
    "plt.plot(counts, y_pred, label='Uniform MLP Model Prediction')\n",
    "plt.plot(counts, y_pred_poly, label= 'Uniform Poly LR Model Prediction')\n",
    "plt.plot(counts, y_pred_lr, label='Uniform LR Model Prediction')\n",
    "plt.xlabel('Number of Counts')\n",
    "plt.ylabel('Bellman Operator')\n",
    "plt.title('Bellman Operator Approximation')\n",
    "plt.legend()\n",
    "\n",
    "plt.ylim(-15, 15)\n",
    "\n",
    "plt.show()"
   ]
  },
  {
   "cell_type": "code",
   "execution_count": 81,
   "id": "5a991a52",
   "metadata": {},
   "outputs": [
    {
     "data": {
      "image/png": "[encoded data removed]",
      "text/plain": [
       "<Figure size 640x480 with 1 Axes>"
      ]
     },
     "metadata": {},
     "output_type": "display_data"
    }
   ],
   "source": [
    "X = df_non_uni[['Player','Pit', 'Goal', 'Wall']]\n",
    "y = df_non_uni[['Q_Current']]\n",
    "counts =  df_non_uni[['Unnamed: 0']] \n",
    "\n",
    "poly = PolynomialFeatures(degree=4)\n",
    "poly_features = poly.fit_transform(X.values)\n",
    "y_pred_poly = poly_non_uniform_q.predict(poly_features)\n",
    "\n",
    "y_pred = mlp_non_uniform_q.predict(X.values)\n",
    "\n",
    "y_pred_lr = lr_non_uniform_q.predict(X.values)\n",
    "\n",
    "plt.plot(counts, y, label='Non-Uniform Dataset')\n",
    "plt.plot(counts, y_pred, label='Non-Uniform MLP Model Prediction')\n",
    "plt.plot(counts, y_pred_poly, label= 'Non-Uniform Poly LR Model Prediction')\n",
    "plt.plot(counts, y_pred_lr, label='Non-Uniform LR Model Prediction')\n",
    "plt.xlabel('Number of Counts')\n",
    "plt.ylabel('Q-value')\n",
    "plt.title('Q-value Approximation')\n",
    "plt.legend()\n",
    "\n",
    "plt.ylim(-15, 15)\n",
    "\n",
    "plt.show()"
   ]
  },
  {
   "cell_type": "code",
   "execution_count": 80,
   "id": "eab270da",
   "metadata": {},
   "outputs": [
    {
     "data": {
      "image/png": "[encoded data removed]",
      "text/plain": [
       "<Figure size 640x480 with 1 Axes>"
      ]
     },
     "metadata": {},
     "output_type": "display_data"
    }
   ],
   "source": [
    "X = df_non_uni[['Player','Pit', 'Goal', 'Wall']]\n",
    "y = df_non_uni[['Bellman_Operator']]\n",
    "counts =  df_non_uni[['Unnamed: 0']] \n",
    "\n",
    "poly = PolynomialFeatures(degree=4)\n",
    "poly_features = poly.fit_transform(X.values)\n",
    "y_pred_poly = poly_non_uniform_bo.predict(poly_features)\n",
    "\n",
    "y_pred = mlp_non_uniform_bo.predict(X.values)\n",
    "\n",
    "y_pred_lr = lr_non_uniform_bo.predict(X.values)\n",
    "\n",
    "plt.plot(counts, y, label='Non-Uniform Dataset')\n",
    "plt.plot(counts, y_pred, label='Non-Uniform MLP Model Prediction')\n",
    "plt.plot(counts, y_pred_poly, label= 'Non-Uniform Poly LR Model Prediction')\n",
    "plt.plot(counts, y_pred_lr, label='Non-Uniform LR Model Prediction')\n",
    "plt.xlabel('Number of Counts')\n",
    "plt.ylabel('Bellman Operator')\n",
    "plt.title('Bellman Operator Approximation')\n",
    "plt.legend()\n",
    "\n",
    "plt.ylim(-15, 15)\n",
    "\n",
    "plt.show()"
   ]
  },
  {
   "cell_type": "code",
   "execution_count": null,
   "id": "123355d9",
   "metadata": {},
   "outputs": [],
   "source": []
  }
 ],
 "metadata": {
  "kernelspec": {
   "display_name": "Python 3 (ipykernel)",
   "language": "python",
   "name": "python3"
  },
  "language_info": {
   "codemirror_mode": {
    "name": "ipython",
    "version": 3
   },
   "file_extension": ".py",
   "mimetype": "text/x-python",
   "name": "python",
   "nbconvert_exporter": "python",
   "pygments_lexer": "ipython3",
   "version": "3.9.13"
  }
 },
 "nbformat": 4,
 "nbformat_minor": 5
}
