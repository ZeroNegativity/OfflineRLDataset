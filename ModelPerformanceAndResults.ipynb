{
 "cells": [
  {
   "cell_type": "markdown",
   "id": "4cfd622d",
   "metadata": {},
   "source": [
    "# Model Performance And Results\n",
    "\n",
    "**Content**:\n",
    "1. [Libraries](#libraries)\n",
    "2. [Gridworld Creation](#gridworld)\n",
    "3. [Functions](#funct)\n",
    "4. [Unform Dataset Performance](#uniform)\n",
    "5. [MLP code](#mlp)\n",
    "6. [Dataset Manipulation](#manipulation)\n",
    "7. [Bellman Operator](#bellman)"
   ]
  },
  {
   "cell_type": "markdown",
   "id": "40691429",
   "metadata": {},
   "source": [
    "## 1. Libraries <a id = \"libraries\"> "
   ]
  },
  {
   "cell_type": "code",
   "execution_count": 1,
   "id": "366fc565",
   "metadata": {},
   "outputs": [],
   "source": [
    "import numpy as np\n",
    "import random\n",
    "import sys\n",
    "import pandas as pd\n",
    "from sklearn.preprocessing import OneHotEncoder\n",
    "from sklearn.neural_network import MLPRegressor\n",
    "from sklearn.neural_network import MLPClassifier\n",
    "from sklearn.model_selection import train_test_split"
   ]
  },
  {
   "cell_type": "markdown",
   "id": "85c08c40",
   "metadata": {},
   "source": [
    "## 2. Gridworld Creation <a id = \"gridworld\">"
   ]
  },
  {
   "cell_type": "code",
   "execution_count": 2,
   "id": "5043367d",
   "metadata": {},
   "outputs": [],
   "source": [
    "def randPair(s,e):\n",
    "    return np.random.randint(s,e), np.random.randint(s,e)\n",
    "\n",
    "class BoardPiece:\n",
    "\n",
    "    def __init__(self, name, code, pos):\n",
    "        self.name = name #name of the piece\n",
    "        self.code = code #an ASCII character to display on the board\n",
    "        self.pos = pos #2-tuple e.g. (1,4)\n",
    "\n",
    "class BoardMask:\n",
    "\n",
    "    def __init__(self, name, mask, code):\n",
    "        self.name = name\n",
    "        self.mask = mask\n",
    "        self.code = code\n",
    "\n",
    "    def get_positions(self): #returns tuple of arrays\n",
    "        return np.nonzero(self.mask)\n",
    "\n",
    "def zip_positions2d(positions): #positions is tuple of two arrays\n",
    "    x,y = positions\n",
    "    return list(zip(x,y))\n",
    "\n",
    "class GridBoard:\n",
    "\n",
    "    def __init__(self, size=4):\n",
    "        self.size = size #Board dimensions, e.g. 4 x 4\n",
    "        self.components = {} #name : board piece\n",
    "        self.masks = {}\n",
    "\n",
    "    def addPiece(self, name, code, pos=(0,0)):\n",
    "        newPiece = BoardPiece(name, code, pos)\n",
    "        self.components[name] = newPiece\n",
    "\n",
    "    #basically a set of boundary elements\n",
    "    def addMask(self, name, mask, code):\n",
    "        #mask is a 2D-numpy array with 1s where the boundary elements are\n",
    "        newMask = BoardMask(name, mask, code)\n",
    "        self.masks[name] = newMask\n",
    "\n",
    "    def movePiece(self, name, pos):\n",
    "        move = True\n",
    "        for _, mask in self.masks.items():\n",
    "            if pos in zip_positions2d(mask.get_positions()):\n",
    "                move = False\n",
    "        if move:\n",
    "            self.components[name].pos = pos\n",
    "\n",
    "    def delPiece(self, name):\n",
    "        del self.components['name']\n",
    "\n",
    "    def render(self):\n",
    "        dtype = '<U2'\n",
    "        displ_board = np.zeros((self.size, self.size), dtype=dtype)\n",
    "        displ_board[:] = ' '\n",
    "\n",
    "        for name, piece in self.components.items():\n",
    "            displ_board[piece.pos] = piece.code\n",
    "\n",
    "        for name, mask in self.masks.items():\n",
    "            displ_board[mask.get_positions()] = mask.code\n",
    "\n",
    "        return displ_board\n",
    "\n",
    "    def render_np(self):\n",
    "        num_pieces = len(self.components) + len(self.masks)\n",
    "        displ_board = np.zeros((num_pieces, self.size, self.size), dtype=np.uint8)\n",
    "        layer = 0\n",
    "        for name, piece in self.components.items():\n",
    "            pos = (layer,) + piece.pos\n",
    "            displ_board[pos] = 1\n",
    "            layer += 1\n",
    "\n",
    "        for name, mask in self.masks.items():\n",
    "            x,y = self.masks['boundary'].get_positions()\n",
    "            z = np.repeat(layer,len(x))\n",
    "            a = (z,x,y)\n",
    "            displ_board[a] = 1\n",
    "            layer += 1\n",
    "        return displ_board\n",
    "\n",
    "def addTuple(a,b):\n",
    "    return tuple([sum(x) for x in zip(a,b)])"
   ]
  },
  {
   "cell_type": "code",
   "execution_count": 3,
   "id": "b5b73804",
   "metadata": {},
   "outputs": [],
   "source": [
    "class Gridworld:\n",
    "\n",
    "    def __init__(self, size=4, mode='static'):\n",
    "        if size >= 4:\n",
    "            self.board = GridBoard(size=size)\n",
    "        else:\n",
    "            print(\"Minimum board size is 4. Initialized to size 4.\")\n",
    "            self.board = GridBoard(size=4)\n",
    "\n",
    "        #Add pieces, positions will be updated later\n",
    "        self.board.addPiece('Player','P',(0,0))\n",
    "        self.board.addPiece('Goal','+',(0,3))\n",
    "        self.board.addPiece('Pit','-',(0,3))\n",
    "        self.board.addPiece('Wall','W',(2,3))\n",
    "\n",
    "        if mode == 'static':\n",
    "            self.initGridStatic()\n",
    "        elif mode == 'player':\n",
    "            self.initGridPlayer()\n",
    "        else:\n",
    "            self.initGridRand()\n",
    "\n",
    "    #Initialize stationary grid, all items are placed deterministically\n",
    "    def initGridStatic(self):\n",
    "        #Setup static pieces\n",
    "        self.board.components['Player'].pos = randPair(0,self.board.size) #Row, Column\n",
    "        self.board.components['Goal'].pos = (3,0)\n",
    "        self.board.components['Pit'].pos = (3,1)\n",
    "        self.board.components['Wall'].pos = (3,2)\n",
    "        \n",
    "        if (not self.validateBoard()):\n",
    "            #print('Invalid grid. Rebuilding..')\n",
    "            self.initGridStatic()\n",
    "\n",
    "\n",
    "    #Check if board is initialized appropriately (no overlapping pieces)\n",
    "    #also remove impossible-to-win boards\n",
    "    def validateBoard(self):\n",
    "        valid = True\n",
    "\n",
    "        player = self.board.components['Player']\n",
    "        goal = self.board.components['Goal']\n",
    "        wall = self.board.components['Wall']\n",
    "        pit = self.board.components['Pit']\n",
    "\n",
    "        all_positions = [piece for name,piece in self.board.components.items()]\n",
    "        all_positions = [player.pos, goal.pos, wall.pos, pit.pos]\n",
    "        if len(all_positions) > len(set(all_positions)):\n",
    "            return False\n",
    "\n",
    "        corners = [(0,0),(0,self.board.size), (self.board.size,0), (self.board.size,self.board.size)]\n",
    "        #if player is in corner, can it move? if goal is in corner, is it blocked?\n",
    "        if player.pos in corners or goal.pos in corners:\n",
    "            val_move_pl = [self.validateMove('Player', addpos) for addpos in [(0,1),(1,0),(-1,0),(0,-1)]]\n",
    "            val_move_go = [self.validateMove('Goal', addpos) for addpos in [(0,1),(1,0),(-1,0),(0,-1)]]\n",
    "            if 0 not in val_move_pl or 0 not in val_move_go:\n",
    "                #print(self.display())\n",
    "                #print(\"Invalid board. Re-initializing...\")\n",
    "                valid = False\n",
    "\n",
    "        return valid\n",
    "\n",
    "    #Initialize player in random location, but keep wall, goal and pit stationary\n",
    "    def initGridPlayer(self):\n",
    "        #height x width x depth (number of pieces)\n",
    "        self.initGridStatic()\n",
    "        #place player\n",
    "        self.board.components['Player'].pos = randPair(0,self.board.size)\n",
    "\n",
    "        if (not self.validateBoard()):\n",
    "            #print('Invalid grid. Rebuilding..')\n",
    "            self.initGridPlayer()\n",
    "\n",
    "    #Initialize grid so that goal, pit, wall, player are all randomly placed\n",
    "    def initGridRand(self):\n",
    "        #height x width x depth (number of pieces)\n",
    "        self.board.components['Player'].pos = randPair(0,self.board.size)\n",
    "        self.board.components['Goal'].pos = randPair(0,self.board.size)\n",
    "        self.board.components['Pit'].pos = randPair(0,self.board.size)\n",
    "        self.board.components['Wall'].pos = randPair(0,self.board.size)\n",
    "\n",
    "        if (not self.validateBoard()):\n",
    "            #print('Invalid grid. Rebuilding..')\n",
    "            self.initGridRand()\n",
    "\n",
    "    def validateMove(self, piece, addpos=(0,0)):\n",
    "        outcome = 0 #0 is valid, 1 invalid, 2 lost game\n",
    "        pit = self.board.components['Pit'].pos\n",
    "        wall = self.board.components['Wall'].pos\n",
    "        new_pos = addTuple(self.board.components[piece].pos, addpos)\n",
    "        if new_pos == wall:\n",
    "            outcome = 1 #block move, player can't move to wall\n",
    "        elif max(new_pos) > (self.board.size-1):    #if outside bounds of board\n",
    "            outcome = 1\n",
    "        elif min(new_pos) < 0: #if outside bounds\n",
    "            outcome = 1\n",
    "        elif new_pos == pit:\n",
    "            outcome = 2\n",
    "\n",
    "        return outcome\n",
    "\n",
    "    def makeMove(self, action):\n",
    "        #need to determine what object (if any) is in the new grid spot the player is moving to\n",
    "        #actions in {u,d,l,r}\n",
    "        def checkMove(addpos):\n",
    "            if self.validateMove('Player', addpos) in [0,2]:\n",
    "                new_pos = addTuple(self.board.components['Player'].pos, addpos)\n",
    "                self.board.movePiece('Player', new_pos)\n",
    "\n",
    "        if action == 'u': #up\n",
    "            checkMove((-1,0))\n",
    "        elif action == 'd': #down\n",
    "            checkMove((1,0))\n",
    "        elif action == 'l': #left\n",
    "            checkMove((0,-1))\n",
    "        elif action == 'r': #right\n",
    "            checkMove((0,1))\n",
    "        else:\n",
    "            pass\n",
    "\n",
    "    def reward(self):\n",
    "        if (self.board.components['Player'].pos == self.board.components['Pit'].pos):\n",
    "            return -10\n",
    "        elif (self.board.components['Player'].pos == self.board.components['Goal'].pos):\n",
    "            return 10\n",
    "        else:\n",
    "            return -1\n",
    "\n",
    "    def display(self):\n",
    "        return self.board.render()"
   ]
  },
  {
   "cell_type": "code",
   "execution_count": 4,
   "id": "df6ff749",
   "metadata": {},
   "outputs": [],
   "source": [
    "action_set = {\n",
    "    0: 'u',\n",
    "    1: 'd',\n",
    "    2: 'l',\n",
    "    3: 'r',\n",
    "}"
   ]
  },
  {
   "cell_type": "markdown",
   "id": "f34274ff",
   "metadata": {},
   "source": [
    "## 3. Functions <a id = 'funct'> "
   ]
  },
  {
   "cell_type": "code",
   "execution_count": 5,
   "id": "0cbf293a",
   "metadata": {},
   "outputs": [],
   "source": [
    "\"\"\"\n",
    "from2dto1d:\n",
    "    Args: \n",
    "        pos(tuple):2d position of the objects(Player, Wall, Goal, Pit) in the gridworld\n",
    "    Return:\n",
    "        return(integer): 1d position of the objects(Player, Wall, Goal, Pit)in the gridworld\n",
    "\"\"\" \n",
    "def from2dto1d(pos):\n",
    "    if pos == '(0, 0)':\n",
    "        return 0\n",
    "    if pos == '(0, 1)':\n",
    "        return 1\n",
    "    if pos == '(0, 2)':\n",
    "        return 2\n",
    "    if pos == '(0, 3)':\n",
    "        return 3\n",
    "    if pos == '(1, 0)':\n",
    "        return 4\n",
    "    if pos == '(1, 1)':\n",
    "        return 5\n",
    "    if pos == '(1, 2)':\n",
    "        return 6\n",
    "    if pos == '(1, 3)':\n",
    "        return 7\n",
    "    if pos == '(2, 0)':\n",
    "        return 8\n",
    "    if pos == '(2, 1)':\n",
    "        return 9\n",
    "    if pos == '(2, 2)':\n",
    "        return 10\n",
    "    if pos == '(2, 3)':\n",
    "        return 11\n",
    "    if pos == '(3, 0)':\n",
    "        return 12\n",
    "    if pos == '(3, 1)':\n",
    "        return 13\n",
    "    if pos == '(3, 2)':\n",
    "        return 14\n",
    "    if pos == '(3, 3)':\n",
    "        return 15"
   ]
  },
  {
   "cell_type": "code",
   "execution_count": 6,
   "id": "a1fc32c2",
   "metadata": {},
   "outputs": [],
   "source": [
    "def from1dto2d(pos):\n",
    "    if pos == 0:\n",
    "        return (0, 0)\n",
    "    if pos == 1:\n",
    "        return (0, 1)\n",
    "    if pos == 2:\n",
    "        return (0, 2)\n",
    "    if pos == 3:\n",
    "        return (0, 3)\n",
    "    if pos == 4:\n",
    "        return (1, 0)\n",
    "    if pos == 5:\n",
    "        return (1, 1)\n",
    "    if pos == 6:\n",
    "        return (1, 2)\n",
    "    if pos == 7:\n",
    "        return (1, 3)\n",
    "    if pos == 8:\n",
    "        return (2, 0)\n",
    "    if pos == 9:\n",
    "        return (2, 1)\n",
    "    if pos == 10:\n",
    "        return (2, 2)\n",
    "    if pos == 11:\n",
    "        return (2, 3)\n",
    "    if pos == 12:\n",
    "        return (3, 0)\n",
    "    if pos == 13:\n",
    "        return (3, 1)\n",
    "    if pos == 14:\n",
    "        return (3, 2)\n",
    "    if pos == 15:\n",
    "        return (3, 3)"
   ]
  },
  {
   "cell_type": "code",
   "execution_count": 7,
   "id": "2727c679",
   "metadata": {},
   "outputs": [],
   "source": [
    "\"\"\"\n",
    "from_num_to_one_hot_encode:\n",
    "    Args: \n",
    "        num(int): number from 0 to 15 representing the state of the objects(Player, Wall, Goal, Pit) in the gridworld\n",
    "    Return:\n",
    "        return(tuple): encoded binary code with the size of 16-bit \n",
    "\"\"\"\n",
    "def from_num_to_one_hot_encode(num):\n",
    "    en0,en1,en2,en3,en4,en5,en6,en7,en8,en9,en10,en11,en12,en13,en14,en15 = 0,0,0,0,0,0,0,0,0,0,0,0,0,0,0,0\n",
    "    if num == 0:\n",
    "        en0 = 1\n",
    "    if num == 1:\n",
    "        en1 = 1\n",
    "    if num == 2:\n",
    "        en2 = 1\n",
    "    if num == 3:\n",
    "        en3 = 1\n",
    "    if num == 4:\n",
    "        en4 = 1\n",
    "    if num == 5:\n",
    "        en5 = 1\n",
    "    if num == 6:\n",
    "        en6 = 1\n",
    "    if num == 7:\n",
    "        en7 = 1\n",
    "    if num == 8:\n",
    "        en8 = 1\n",
    "    if num == 9:\n",
    "        en9 = 1\n",
    "    if num == 10:\n",
    "        en10 = 1\n",
    "    if num == 11:\n",
    "        en11 = 1\n",
    "    if num == 12:\n",
    "        en12 = 1\n",
    "    if num == 13:\n",
    "        en13 = 1\n",
    "    if num == 14:\n",
    "        en14 = 1\n",
    "    if num == 15:\n",
    "        en15 = 1\n",
    "    return en0,en1,en2,en3,en4,en5,en6,en7,en8,en9,en10,en11,en12,en13,en14,en15"
   ]
  },
  {
   "cell_type": "code",
   "execution_count": 8,
   "id": "78fda04a",
   "metadata": {},
   "outputs": [],
   "source": [
    "def calculate_smape(actual, predicted) -> float:\n",
    "    if not all([isinstance(actual, np.ndarray), \n",
    "                isinstance(predicted, np.ndarray)]):\n",
    "        actual, predicted = np.array(actual),\n",
    "        np.array(predicted)\n",
    "  \n",
    "    return round(\n",
    "        np.mean(\n",
    "            np.abs(predicted - actual) / \n",
    "            ((np.abs(predicted) + np.abs(actual))/2)\n",
    "        )*100, 2\n",
    "    )"
   ]
  },
  {
   "cell_type": "markdown",
   "id": "59d22e2e",
   "metadata": {},
   "source": [
    "## 4. Unform Dataset MLP Performance <a id = \"mlpuniform\"> "
   ]
  },
  {
   "cell_type": "code",
   "execution_count": 53,
   "id": "ebd45aa4",
   "metadata": {},
   "outputs": [
    {
     "data": {
      "text/html": [
       "<div>\n",
       "<style scoped>\n",
       "    .dataframe tbody tr th:only-of-type {\n",
       "        vertical-align: middle;\n",
       "    }\n",
       "\n",
       "    .dataframe tbody tr th {\n",
       "        vertical-align: top;\n",
       "    }\n",
       "\n",
       "    .dataframe thead th {\n",
       "        text-align: right;\n",
       "    }\n",
       "</style>\n",
       "<table border=\"1\" class=\"dataframe\">\n",
       "  <thead>\n",
       "    <tr style=\"text-align: right;\">\n",
       "      <th></th>\n",
       "      <th>Unnamed: 0</th>\n",
       "      <th>Player</th>\n",
       "      <th>Goal</th>\n",
       "      <th>Wall</th>\n",
       "      <th>Pit</th>\n",
       "      <th>Q_Current</th>\n",
       "      <th>Reward_Current</th>\n",
       "      <th>Bellman_Operator</th>\n",
       "    </tr>\n",
       "  </thead>\n",
       "  <tbody>\n",
       "    <tr>\n",
       "      <th>0</th>\n",
       "      <td>0</td>\n",
       "      <td>0</td>\n",
       "      <td>2</td>\n",
       "      <td>1</td>\n",
       "      <td>0</td>\n",
       "      <td>0.305944</td>\n",
       "      <td>-10</td>\n",
       "      <td>1.284265</td>\n",
       "    </tr>\n",
       "    <tr>\n",
       "      <th>1</th>\n",
       "      <td>1</td>\n",
       "      <td>2</td>\n",
       "      <td>2</td>\n",
       "      <td>1</td>\n",
       "      <td>0</td>\n",
       "      <td>9.047926</td>\n",
       "      <td>10</td>\n",
       "      <td>10.000000</td>\n",
       "    </tr>\n",
       "    <tr>\n",
       "      <th>2</th>\n",
       "      <td>2</td>\n",
       "      <td>3</td>\n",
       "      <td>2</td>\n",
       "      <td>1</td>\n",
       "      <td>0</td>\n",
       "      <td>7.594888</td>\n",
       "      <td>-1</td>\n",
       "      <td>10.000000</td>\n",
       "    </tr>\n",
       "    <tr>\n",
       "      <th>3</th>\n",
       "      <td>3</td>\n",
       "      <td>4</td>\n",
       "      <td>2</td>\n",
       "      <td>1</td>\n",
       "      <td>0</td>\n",
       "      <td>2.538072</td>\n",
       "      <td>-1</td>\n",
       "      <td>4.271501</td>\n",
       "    </tr>\n",
       "    <tr>\n",
       "      <th>4</th>\n",
       "      <td>4</td>\n",
       "      <td>5</td>\n",
       "      <td>2</td>\n",
       "      <td>1</td>\n",
       "      <td>0</td>\n",
       "      <td>5.857223</td>\n",
       "      <td>-1</td>\n",
       "      <td>5.000492</td>\n",
       "    </tr>\n",
       "    <tr>\n",
       "      <th>...</th>\n",
       "      <td>...</td>\n",
       "      <td>...</td>\n",
       "      <td>...</td>\n",
       "      <td>...</td>\n",
       "      <td>...</td>\n",
       "      <td>...</td>\n",
       "      <td>...</td>\n",
       "      <td>...</td>\n",
       "    </tr>\n",
       "    <tr>\n",
       "      <th>50395</th>\n",
       "      <td>50395</td>\n",
       "      <td>8</td>\n",
       "      <td>13</td>\n",
       "      <td>14</td>\n",
       "      <td>15</td>\n",
       "      <td>5.306869</td>\n",
       "      <td>-1</td>\n",
       "      <td>5.827087</td>\n",
       "    </tr>\n",
       "    <tr>\n",
       "      <th>50396</th>\n",
       "      <td>50396</td>\n",
       "      <td>13</td>\n",
       "      <td>13</td>\n",
       "      <td>14</td>\n",
       "      <td>15</td>\n",
       "      <td>12.008292</td>\n",
       "      <td>10</td>\n",
       "      <td>10.000000</td>\n",
       "    </tr>\n",
       "    <tr>\n",
       "      <th>50397</th>\n",
       "      <td>50397</td>\n",
       "      <td>9</td>\n",
       "      <td>13</td>\n",
       "      <td>14</td>\n",
       "      <td>15</td>\n",
       "      <td>7.040803</td>\n",
       "      <td>-1</td>\n",
       "      <td>10.000000</td>\n",
       "    </tr>\n",
       "    <tr>\n",
       "      <th>50398</th>\n",
       "      <td>50398</td>\n",
       "      <td>12</td>\n",
       "      <td>13</td>\n",
       "      <td>14</td>\n",
       "      <td>15</td>\n",
       "      <td>7.585652</td>\n",
       "      <td>-1</td>\n",
       "      <td>10.000000</td>\n",
       "    </tr>\n",
       "    <tr>\n",
       "      <th>50399</th>\n",
       "      <td>50399</td>\n",
       "      <td>11</td>\n",
       "      <td>13</td>\n",
       "      <td>14</td>\n",
       "      <td>15</td>\n",
       "      <td>3.081629</td>\n",
       "      <td>-1</td>\n",
       "      <td>3.822802</td>\n",
       "    </tr>\n",
       "  </tbody>\n",
       "</table>\n",
       "<p>50400 rows × 8 columns</p>\n",
       "</div>"
      ],
      "text/plain": [
       "       Unnamed: 0  Player  Goal  Wall  Pit  Q_Current  Reward_Current  \\\n",
       "0               0       0     2     1    0   0.305944             -10   \n",
       "1               1       2     2     1    0   9.047926              10   \n",
       "2               2       3     2     1    0   7.594888              -1   \n",
       "3               3       4     2     1    0   2.538072              -1   \n",
       "4               4       5     2     1    0   5.857223              -1   \n",
       "...           ...     ...   ...   ...  ...        ...             ...   \n",
       "50395       50395       8    13    14   15   5.306869              -1   \n",
       "50396       50396      13    13    14   15  12.008292              10   \n",
       "50397       50397       9    13    14   15   7.040803              -1   \n",
       "50398       50398      12    13    14   15   7.585652              -1   \n",
       "50399       50399      11    13    14   15   3.081629              -1   \n",
       "\n",
       "       Bellman_Operator  \n",
       "0              1.284265  \n",
       "1             10.000000  \n",
       "2             10.000000  \n",
       "3              4.271501  \n",
       "4              5.000492  \n",
       "...                 ...  \n",
       "50395          5.827087  \n",
       "50396         10.000000  \n",
       "50397         10.000000  \n",
       "50398         10.000000  \n",
       "50399          3.822802  \n",
       "\n",
       "[50400 rows x 8 columns]"
      ]
     },
     "execution_count": 53,
     "metadata": {},
     "output_type": "execute_result"
    }
   ],
   "source": [
    "df = pd.read_csv(\"DatasetAfterUniform.csv\")\n",
    "df"
   ]
  },
  {
   "cell_type": "markdown",
   "id": "de54fcb7",
   "metadata": {},
   "source": [
    "### Q value approximation"
   ]
  },
  {
   "cell_type": "code",
   "execution_count": 54,
   "id": "5347d781",
   "metadata": {},
   "outputs": [],
   "source": [
    "from sklearn.model_selection import train_test_split\n",
    "X = df[['Player','Pit', 'Goal', 'Wall']]\n",
    "y = df[['Q_Current']]"
   ]
  },
  {
   "cell_type": "code",
   "execution_count": 55,
   "id": "ab634c19",
   "metadata": {},
   "outputs": [],
   "source": [
    "mlp = MLPRegressor(hidden_layer_sizes=(200,120), max_iter=300, activation = 'relu', solver='adam', random_state=123)"
   ]
  },
  {
   "cell_type": "code",
   "execution_count": 56,
   "id": "476bac4a",
   "metadata": {},
   "outputs": [
    {
     "data": {
      "text/html": [
       "<style>#sk-container-id-7 {color: black;background-color: white;}#sk-container-id-7 pre{padding: 0;}#sk-container-id-7 div.sk-toggleable {background-color: white;}#sk-container-id-7 label.sk-toggleable__label {cursor: pointer;display: block;width: 100%;margin-bottom: 0;padding: 0.3em;box-sizing: border-box;text-align: center;}#sk-container-id-7 label.sk-toggleable__label-arrow:before {content: \"▸\";float: left;margin-right: 0.25em;color: #696969;}#sk-container-id-7 label.sk-toggleable__label-arrow:hover:before {color: black;}#sk-container-id-7 div.sk-estimator:hover label.sk-toggleable__label-arrow:before {color: black;}#sk-container-id-7 div.sk-toggleable__content {max-height: 0;max-width: 0;overflow: hidden;text-align: left;background-color: #f0f8ff;}#sk-container-id-7 div.sk-toggleable__content pre {margin: 0.2em;color: black;border-radius: 0.25em;background-color: #f0f8ff;}#sk-container-id-7 input.sk-toggleable__control:checked~div.sk-toggleable__content {max-height: 200px;max-width: 100%;overflow: auto;}#sk-container-id-7 input.sk-toggleable__control:checked~label.sk-toggleable__label-arrow:before {content: \"▾\";}#sk-container-id-7 div.sk-estimator input.sk-toggleable__control:checked~label.sk-toggleable__label {background-color: #d4ebff;}#sk-container-id-7 div.sk-label input.sk-toggleable__control:checked~label.sk-toggleable__label {background-color: #d4ebff;}#sk-container-id-7 input.sk-hidden--visually {border: 0;clip: rect(1px 1px 1px 1px);clip: rect(1px, 1px, 1px, 1px);height: 1px;margin: -1px;overflow: hidden;padding: 0;position: absolute;width: 1px;}#sk-container-id-7 div.sk-estimator {font-family: monospace;background-color: #f0f8ff;border: 1px dotted black;border-radius: 0.25em;box-sizing: border-box;margin-bottom: 0.5em;}#sk-container-id-7 div.sk-estimator:hover {background-color: #d4ebff;}#sk-container-id-7 div.sk-parallel-item::after {content: \"\";width: 100%;border-bottom: 1px solid gray;flex-grow: 1;}#sk-container-id-7 div.sk-label:hover label.sk-toggleable__label {background-color: #d4ebff;}#sk-container-id-7 div.sk-serial::before {content: \"\";position: absolute;border-left: 1px solid gray;box-sizing: border-box;top: 0;bottom: 0;left: 50%;z-index: 0;}#sk-container-id-7 div.sk-serial {display: flex;flex-direction: column;align-items: center;background-color: white;padding-right: 0.2em;padding-left: 0.2em;position: relative;}#sk-container-id-7 div.sk-item {position: relative;z-index: 1;}#sk-container-id-7 div.sk-parallel {display: flex;align-items: stretch;justify-content: center;background-color: white;position: relative;}#sk-container-id-7 div.sk-item::before, #sk-container-id-7 div.sk-parallel-item::before {content: \"\";position: absolute;border-left: 1px solid gray;box-sizing: border-box;top: 0;bottom: 0;left: 50%;z-index: -1;}#sk-container-id-7 div.sk-parallel-item {display: flex;flex-direction: column;z-index: 1;position: relative;background-color: white;}#sk-container-id-7 div.sk-parallel-item:first-child::after {align-self: flex-end;width: 50%;}#sk-container-id-7 div.sk-parallel-item:last-child::after {align-self: flex-start;width: 50%;}#sk-container-id-7 div.sk-parallel-item:only-child::after {width: 0;}#sk-container-id-7 div.sk-dashed-wrapped {border: 1px dashed gray;margin: 0 0.4em 0.5em 0.4em;box-sizing: border-box;padding-bottom: 0.4em;background-color: white;}#sk-container-id-7 div.sk-label label {font-family: monospace;font-weight: bold;display: inline-block;line-height: 1.2em;}#sk-container-id-7 div.sk-label-container {text-align: center;}#sk-container-id-7 div.sk-container {/* jupyter's `normalize.less` sets `[hidden] { display: none; }` but bootstrap.min.css set `[hidden] { display: none !important; }` so we also need the `!important` here to be able to override the default hidden behavior on the sphinx rendered scikit-learn.org. See: https://github.com/scikit-learn/scikit-learn/issues/21755 */display: inline-block !important;position: relative;}#sk-container-id-7 div.sk-text-repr-fallback {display: none;}</style><div id=\"sk-container-id-7\" class=\"sk-top-container\"><div class=\"sk-text-repr-fallback\"><pre>MLPRegressor(hidden_layer_sizes=(200, 120), max_iter=300, random_state=123)</pre><b>In a Jupyter environment, please rerun this cell to show the HTML representation or trust the notebook. <br />On GitHub, the HTML representation is unable to render, please try loading this page with nbviewer.org.</b></div><div class=\"sk-container\" hidden><div class=\"sk-item\"><div class=\"sk-estimator sk-toggleable\"><input class=\"sk-toggleable__control sk-hidden--visually\" id=\"sk-estimator-id-7\" type=\"checkbox\" checked><label for=\"sk-estimator-id-7\" class=\"sk-toggleable__label sk-toggleable__label-arrow\">MLPRegressor</label><div class=\"sk-toggleable__content\"><pre>MLPRegressor(hidden_layer_sizes=(200, 120), max_iter=300, random_state=123)</pre></div></div></div></div></div>"
      ],
      "text/plain": [
       "MLPRegressor(hidden_layer_sizes=(200, 120), max_iter=300, random_state=123)"
      ]
     },
     "execution_count": 56,
     "metadata": {},
     "output_type": "execute_result"
    }
   ],
   "source": [
    "mlp.fit(X.values,y.values.ravel())"
   ]
  },
  {
   "cell_type": "code",
   "execution_count": 57,
   "id": "aa0dffbf",
   "metadata": {},
   "outputs": [],
   "source": [
    "h = 0\n",
    "w, h = 13, 300000\n",
    "experience_mlp = [[0 for x in range(w)] for y in range(h)] \n",
    "\n",
    "global counter\n",
    "counter = 0"
   ]
  },
  {
   "cell_type": "code",
   "execution_count": 13,
   "id": "c31722cc",
   "metadata": {},
   "outputs": [],
   "source": [
    "def mlp_test_model(model_b, experience, mode='static', display=True):\n",
    "    global counter\n",
    "    i = 0\n",
    "    test_game = Gridworld(mode=mode)\n",
    "    if display:\n",
    "        print(\"Initial State:\")\n",
    "        print(test_game.display())\n",
    "    status = 1\n",
    "    j = 0\n",
    "    while(status == 1): #A\n",
    "        p_curr = from2dto1d((str(test_game.board.components['Player'].pos)))\n",
    "        pi = from2dto1d((str(test_game.board.components['Pit'].pos)))\n",
    "        g = from2dto1d((str(test_game.board.components['Goal'].pos)))\n",
    "        w = from2dto1d((str(test_game.board.components['Wall'].pos)))\n",
    "\n",
    "        q_value_next = []\n",
    "\n",
    "        test_game.makeMove('u')\n",
    "        p = from2dto1d((str(test_game.board.components['Player'].pos)))\n",
    "        \n",
    "        if p_curr != p:\n",
    "            en0,en1,en2,en3,en4,en5,en6,en7,en8,en9,en10,en11,en12,en13,en14,en15 = from_num_to_one_hot_encode(p)\n",
    "            reward = test_game.reward()\n",
    "            q_value_next.append(model_b.predict([[p,pi,g,w]])[0])\n",
    "            test_game.makeMove('d')\n",
    "        else:\n",
    "            q_value_next.append(-10)\n",
    "        \n",
    "        test_game.makeMove('d')\n",
    "        p = from2dto1d((str(test_game.board.components['Player'].pos)))\n",
    "        \n",
    "        if p_curr != p:\n",
    "            en0,en1,en2,en3,en4,en5,en6,en7,en8,en9,en10,en11,en12,en13,en14,en15 = from_num_to_one_hot_encode(p)\n",
    "            reward = test_game.reward()\n",
    "            q_value_next.append(model_b.predict([[p,pi,g,w]])[0])\n",
    "            test_game.makeMove('u')\n",
    "        else:\n",
    "            q_value_next.append(-10)\n",
    "        \n",
    "        test_game.makeMove('l')\n",
    "        p = from2dto1d((str(test_game.board.components['Player'].pos)))\n",
    "        \n",
    "\n",
    "        if p_curr != p:\n",
    "            test_game.makeMove('r')\n",
    "            en0,en1,en2,en3,en4,en5,en6,en7,en8,en9,en10,en11,en12,en13,en14,en15 = from_num_to_one_hot_encode(p)\n",
    "            reward = test_game.reward()\n",
    "            q_value_next.append(model_b.predict([[p,pi,g,w]])[0])\n",
    "        else:\n",
    "            q_value_next.append(-10)\n",
    "        \n",
    "        test_game.makeMove('r')\n",
    "        p = from2dto1d((str(test_game.board.components['Player'].pos)))\n",
    "        \n",
    "\n",
    "        if p_curr != p:\n",
    "            en0,en1,en2,en3,en4,en5,en6,en7,en8,en9,en10,en11,en12,en13,en14,en15 = from_num_to_one_hot_encode(p)\n",
    "            reward = test_game.reward()\n",
    "            q_value_next.append(model_b.predict([[p,pi,g,w]])[0])\n",
    "            test_game.makeMove('l')\n",
    "        else:\n",
    "            q_value_next.append(-10)\n",
    "        \n",
    "#         print(q_value_next)\n",
    "        \n",
    "        \n",
    "        action_ = np.argmax(q_value_next)\n",
    "#         print(action_)\n",
    "        action = action_set[action_]\n",
    "        \n",
    "        experience[counter][0] = p_curr\n",
    "        experience[counter][1] = pi\n",
    "        experience[counter][2] = g\n",
    "        experience[counter][3] = w\n",
    "        experience[counter][4] = action_\n",
    "        \n",
    "    \n",
    "        if display:\n",
    "            print('Move #: %s; Taking action: %s' % (i, action))\n",
    "        test_game.makeMove(action)\n",
    "        p_next = from2dto1d((str(test_game.board.components['Player'].pos)))\n",
    "        experience[counter][5] = p_next\n",
    "        \n",
    "        j += 1\n",
    "        if display:\n",
    "            print(test_game.display())\n",
    "        reward = test_game.reward()\n",
    "        experience[counter][6] = reward\n",
    "        if reward > -1:\n",
    "            experience[counter][7] = True\n",
    "        else:\n",
    "            experience[counter][7] = False\n",
    "        experience[counter][8] =  q_value_next[action_]\n",
    "        experience[counter][9] = q_value_next[0]\n",
    "        experience[counter][10] = q_value_next[1]\n",
    "        experience[counter][11] = q_value_next[2]\n",
    "        experience[counter][12] = q_value_next[3]\n",
    "        if reward != -1:\n",
    "            if reward > 0:\n",
    "                status = 2\n",
    "                if display:\n",
    "                    print(\"Game won! Reward: %s\" % (reward,))\n",
    "            else:\n",
    "                status = 0\n",
    "                if display:\n",
    "                    print(\"Game LOST. Reward: %s\" % (reward,))\n",
    "        counter += 1\n",
    "        i += 1\n",
    "        if (i > 15):\n",
    "            if display:\n",
    "                print(\"Game lost; too many moves.\")\n",
    "            break\n",
    "    \n",
    "    win = True if status == 2 else False\n",
    "    return win"
   ]
  },
  {
   "cell_type": "code",
   "execution_count": 59,
   "id": "f178d5c4",
   "metadata": {},
   "outputs": [
    {
     "name": "stdout",
     "output_type": "stream",
     "text": [
      "Games played: 1000, # of wins: 927\n",
      "0.927\n",
      "0.927\n",
      "Games played: 1000, # of wins: 936\n",
      "0.936\n",
      "1.863\n",
      "Games played: 1000, # of wins: 917\n",
      "0.917\n",
      "2.7800000000000002\n",
      "Games played: 1000, # of wins: 937\n",
      "0.937\n",
      "3.7170000000000005\n",
      "Games played: 1000, # of wins: 928\n",
      "0.928\n",
      "4.6450000000000005\n",
      "Games played: 1000, # of wins: 922\n",
      "0.922\n",
      "5.567\n",
      "Games played: 1000, # of wins: 937\n",
      "0.937\n",
      "6.5040000000000004\n",
      "Games played: 1000, # of wins: 915\n",
      "0.915\n",
      "7.4190000000000005\n",
      "Games played: 1000, # of wins: 935\n",
      "0.935\n",
      "8.354000000000001\n",
      "Games played: 1000, # of wins: 915\n",
      "0.915\n",
      "9.269000000000002\n",
      "Win percentage: 92.69000000000001%\n"
     ]
    }
   ],
   "source": [
    "win_num = 0\n",
    "for i in range(0,10):\n",
    "    max_games = 1000\n",
    "    wins = 0\n",
    "    for i in range(max_games):\n",
    "        win = mlp_test_model(mlp, experience_mlp, 'random', display = False)\n",
    "        if win:\n",
    "            wins += 1\n",
    "    win_perc = float(wins) / float(max_games)\n",
    "    win_num = win_num + win_perc\n",
    "    print(\"Games played: {0}, # of wins: {1}\".format(max_games,wins))\n",
    "    print(win_perc)\n",
    "    print(win_num)\n",
    "win_num = win_num / 10\n",
    "print(\"Win percentage: {}%\".format(win_num*100))"
   ]
  },
  {
   "cell_type": "code",
   "execution_count": 60,
   "id": "893f9005",
   "metadata": {},
   "outputs": [
    {
     "data": {
      "text/plain": [
       "33.6"
      ]
     },
     "execution_count": 60,
     "metadata": {},
     "output_type": "execute_result"
    }
   ],
   "source": [
    "y_pred = mlp.predict(X.values)\n",
    "calculate_smape(y.values.ravel(),y_pred)"
   ]
  },
  {
   "cell_type": "markdown",
   "id": "ee2a73a1",
   "metadata": {},
   "source": [
    "### Bellman Operator Approximation"
   ]
  },
  {
   "cell_type": "code",
   "execution_count": 61,
   "id": "b36e9d7d",
   "metadata": {},
   "outputs": [],
   "source": [
    "from sklearn.model_selection import train_test_split\n",
    "X = df[['Player','Pit', 'Goal', 'Wall']]\n",
    "y = df[['Bellman_Operator']]"
   ]
  },
  {
   "cell_type": "code",
   "execution_count": 62,
   "id": "0b9905b7",
   "metadata": {},
   "outputs": [],
   "source": [
    "mlp = MLPRegressor(hidden_layer_sizes=(200,120), max_iter=300, activation = 'relu', solver='adam', random_state=123)"
   ]
  },
  {
   "cell_type": "code",
   "execution_count": 63,
   "id": "9c10fe9c",
   "metadata": {},
   "outputs": [
    {
     "data": {
      "text/html": [
       "<style>#sk-container-id-8 {color: black;background-color: white;}#sk-container-id-8 pre{padding: 0;}#sk-container-id-8 div.sk-toggleable {background-color: white;}#sk-container-id-8 label.sk-toggleable__label {cursor: pointer;display: block;width: 100%;margin-bottom: 0;padding: 0.3em;box-sizing: border-box;text-align: center;}#sk-container-id-8 label.sk-toggleable__label-arrow:before {content: \"▸\";float: left;margin-right: 0.25em;color: #696969;}#sk-container-id-8 label.sk-toggleable__label-arrow:hover:before {color: black;}#sk-container-id-8 div.sk-estimator:hover label.sk-toggleable__label-arrow:before {color: black;}#sk-container-id-8 div.sk-toggleable__content {max-height: 0;max-width: 0;overflow: hidden;text-align: left;background-color: #f0f8ff;}#sk-container-id-8 div.sk-toggleable__content pre {margin: 0.2em;color: black;border-radius: 0.25em;background-color: #f0f8ff;}#sk-container-id-8 input.sk-toggleable__control:checked~div.sk-toggleable__content {max-height: 200px;max-width: 100%;overflow: auto;}#sk-container-id-8 input.sk-toggleable__control:checked~label.sk-toggleable__label-arrow:before {content: \"▾\";}#sk-container-id-8 div.sk-estimator input.sk-toggleable__control:checked~label.sk-toggleable__label {background-color: #d4ebff;}#sk-container-id-8 div.sk-label input.sk-toggleable__control:checked~label.sk-toggleable__label {background-color: #d4ebff;}#sk-container-id-8 input.sk-hidden--visually {border: 0;clip: rect(1px 1px 1px 1px);clip: rect(1px, 1px, 1px, 1px);height: 1px;margin: -1px;overflow: hidden;padding: 0;position: absolute;width: 1px;}#sk-container-id-8 div.sk-estimator {font-family: monospace;background-color: #f0f8ff;border: 1px dotted black;border-radius: 0.25em;box-sizing: border-box;margin-bottom: 0.5em;}#sk-container-id-8 div.sk-estimator:hover {background-color: #d4ebff;}#sk-container-id-8 div.sk-parallel-item::after {content: \"\";width: 100%;border-bottom: 1px solid gray;flex-grow: 1;}#sk-container-id-8 div.sk-label:hover label.sk-toggleable__label {background-color: #d4ebff;}#sk-container-id-8 div.sk-serial::before {content: \"\";position: absolute;border-left: 1px solid gray;box-sizing: border-box;top: 0;bottom: 0;left: 50%;z-index: 0;}#sk-container-id-8 div.sk-serial {display: flex;flex-direction: column;align-items: center;background-color: white;padding-right: 0.2em;padding-left: 0.2em;position: relative;}#sk-container-id-8 div.sk-item {position: relative;z-index: 1;}#sk-container-id-8 div.sk-parallel {display: flex;align-items: stretch;justify-content: center;background-color: white;position: relative;}#sk-container-id-8 div.sk-item::before, #sk-container-id-8 div.sk-parallel-item::before {content: \"\";position: absolute;border-left: 1px solid gray;box-sizing: border-box;top: 0;bottom: 0;left: 50%;z-index: -1;}#sk-container-id-8 div.sk-parallel-item {display: flex;flex-direction: column;z-index: 1;position: relative;background-color: white;}#sk-container-id-8 div.sk-parallel-item:first-child::after {align-self: flex-end;width: 50%;}#sk-container-id-8 div.sk-parallel-item:last-child::after {align-self: flex-start;width: 50%;}#sk-container-id-8 div.sk-parallel-item:only-child::after {width: 0;}#sk-container-id-8 div.sk-dashed-wrapped {border: 1px dashed gray;margin: 0 0.4em 0.5em 0.4em;box-sizing: border-box;padding-bottom: 0.4em;background-color: white;}#sk-container-id-8 div.sk-label label {font-family: monospace;font-weight: bold;display: inline-block;line-height: 1.2em;}#sk-container-id-8 div.sk-label-container {text-align: center;}#sk-container-id-8 div.sk-container {/* jupyter's `normalize.less` sets `[hidden] { display: none; }` but bootstrap.min.css set `[hidden] { display: none !important; }` so we also need the `!important` here to be able to override the default hidden behavior on the sphinx rendered scikit-learn.org. See: https://github.com/scikit-learn/scikit-learn/issues/21755 */display: inline-block !important;position: relative;}#sk-container-id-8 div.sk-text-repr-fallback {display: none;}</style><div id=\"sk-container-id-8\" class=\"sk-top-container\"><div class=\"sk-text-repr-fallback\"><pre>MLPRegressor(hidden_layer_sizes=(200, 120), max_iter=300, random_state=123)</pre><b>In a Jupyter environment, please rerun this cell to show the HTML representation or trust the notebook. <br />On GitHub, the HTML representation is unable to render, please try loading this page with nbviewer.org.</b></div><div class=\"sk-container\" hidden><div class=\"sk-item\"><div class=\"sk-estimator sk-toggleable\"><input class=\"sk-toggleable__control sk-hidden--visually\" id=\"sk-estimator-id-8\" type=\"checkbox\" checked><label for=\"sk-estimator-id-8\" class=\"sk-toggleable__label sk-toggleable__label-arrow\">MLPRegressor</label><div class=\"sk-toggleable__content\"><pre>MLPRegressor(hidden_layer_sizes=(200, 120), max_iter=300, random_state=123)</pre></div></div></div></div></div>"
      ],
      "text/plain": [
       "MLPRegressor(hidden_layer_sizes=(200, 120), max_iter=300, random_state=123)"
      ]
     },
     "execution_count": 63,
     "metadata": {},
     "output_type": "execute_result"
    }
   ],
   "source": [
    "mlp.fit(X.values,y.values.ravel())"
   ]
  },
  {
   "cell_type": "code",
   "execution_count": 64,
   "id": "c9f42c70",
   "metadata": {},
   "outputs": [],
   "source": [
    "h = 0\n",
    "w, h = 13, 300000\n",
    "experience_mlp = [[0 for x in range(w)] for y in range(h)] \n",
    "\n",
    "global counter\n",
    "counter = 0"
   ]
  },
  {
   "cell_type": "code",
   "execution_count": 65,
   "id": "27f72390",
   "metadata": {},
   "outputs": [
    {
     "name": "stdout",
     "output_type": "stream",
     "text": [
      "Games played: 1000, # of wins: 863\n",
      "0.863\n",
      "0.863\n",
      "Games played: 1000, # of wins: 872\n",
      "0.872\n",
      "1.7349999999999999\n",
      "Games played: 1000, # of wins: 889\n",
      "0.889\n",
      "2.6239999999999997\n",
      "Games played: 1000, # of wins: 891\n",
      "0.891\n",
      "3.5149999999999997\n",
      "Games played: 1000, # of wins: 895\n",
      "0.895\n",
      "4.41\n",
      "Games played: 1000, # of wins: 880\n",
      "0.88\n",
      "5.29\n",
      "Games played: 1000, # of wins: 885\n",
      "0.885\n",
      "6.175\n",
      "Games played: 1000, # of wins: 897\n",
      "0.897\n",
      "7.072\n",
      "Games played: 1000, # of wins: 888\n",
      "0.888\n",
      "7.96\n",
      "Games played: 1000, # of wins: 885\n",
      "0.885\n",
      "8.845\n",
      "Win percentage: 88.45%\n"
     ]
    }
   ],
   "source": [
    "win_num = 0\n",
    "for i in range(0,10):\n",
    "    max_games = 1000\n",
    "    wins = 0\n",
    "    for i in range(max_games):\n",
    "        win = mlp_test_model(mlp, experience_mlp, 'random', display = False)\n",
    "        if win:\n",
    "            wins += 1\n",
    "    win_perc = float(wins) / float(max_games)\n",
    "    win_num = win_num + win_perc\n",
    "    print(\"Games played: {0}, # of wins: {1}\".format(max_games,wins))\n",
    "    print(win_perc)\n",
    "    print(win_num)\n",
    "win_num = win_num / 10\n",
    "print(\"Win percentage: {}%\".format(win_num*100))"
   ]
  },
  {
   "cell_type": "code",
   "execution_count": 66,
   "id": "7e8db554",
   "metadata": {},
   "outputs": [
    {
     "data": {
      "text/plain": [
       "25.14"
      ]
     },
     "execution_count": 66,
     "metadata": {},
     "output_type": "execute_result"
    }
   ],
   "source": [
    "y_pred = mlp.predict(X.values)\n",
    "calculate_smape(y.values.ravel(),y_pred)"
   ]
  },
  {
   "cell_type": "markdown",
   "id": "5c5b8f1a",
   "metadata": {},
   "source": [
    "## 5. Non-Unform Dataset MLP Performance <a id = \"mlpnonuniform\"> "
   ]
  },
  {
   "cell_type": "code",
   "execution_count": 80,
   "id": "42978779",
   "metadata": {},
   "outputs": [
    {
     "data": {
      "text/html": [
       "<div>\n",
       "<style scoped>\n",
       "    .dataframe tbody tr th:only-of-type {\n",
       "        vertical-align: middle;\n",
       "    }\n",
       "\n",
       "    .dataframe tbody tr th {\n",
       "        vertical-align: top;\n",
       "    }\n",
       "\n",
       "    .dataframe thead th {\n",
       "        text-align: right;\n",
       "    }\n",
       "</style>\n",
       "<table border=\"1\" class=\"dataframe\">\n",
       "  <thead>\n",
       "    <tr style=\"text-align: right;\">\n",
       "      <th></th>\n",
       "      <th>Unnamed: 0</th>\n",
       "      <th>Player</th>\n",
       "      <th>Goal</th>\n",
       "      <th>Wall</th>\n",
       "      <th>Pit</th>\n",
       "      <th>Q_Current</th>\n",
       "      <th>Reward_Current</th>\n",
       "      <th>Bellman_Operator</th>\n",
       "    </tr>\n",
       "  </thead>\n",
       "  <tbody>\n",
       "    <tr>\n",
       "      <th>0</th>\n",
       "      <td>0</td>\n",
       "      <td>2</td>\n",
       "      <td>11</td>\n",
       "      <td>15</td>\n",
       "      <td>8</td>\n",
       "      <td>4.941091</td>\n",
       "      <td>-1.0</td>\n",
       "      <td>4.318901</td>\n",
       "    </tr>\n",
       "    <tr>\n",
       "      <th>1</th>\n",
       "      <td>1</td>\n",
       "      <td>6</td>\n",
       "      <td>11</td>\n",
       "      <td>15</td>\n",
       "      <td>8</td>\n",
       "      <td>7.417938</td>\n",
       "      <td>-1.0</td>\n",
       "      <td>7.252085</td>\n",
       "    </tr>\n",
       "    <tr>\n",
       "      <th>2</th>\n",
       "      <td>2</td>\n",
       "      <td>7</td>\n",
       "      <td>11</td>\n",
       "      <td>15</td>\n",
       "      <td>8</td>\n",
       "      <td>9.168983</td>\n",
       "      <td>-1.0</td>\n",
       "      <td>10.000000</td>\n",
       "    </tr>\n",
       "    <tr>\n",
       "      <th>3</th>\n",
       "      <td>3</td>\n",
       "      <td>6</td>\n",
       "      <td>12</td>\n",
       "      <td>5</td>\n",
       "      <td>13</td>\n",
       "      <td>3.616126</td>\n",
       "      <td>-1.0</td>\n",
       "      <td>1.673050</td>\n",
       "    </tr>\n",
       "    <tr>\n",
       "      <th>4</th>\n",
       "      <td>4</td>\n",
       "      <td>10</td>\n",
       "      <td>12</td>\n",
       "      <td>5</td>\n",
       "      <td>13</td>\n",
       "      <td>3.241566</td>\n",
       "      <td>-1.0</td>\n",
       "      <td>5.395397</td>\n",
       "    </tr>\n",
       "    <tr>\n",
       "      <th>...</th>\n",
       "      <td>...</td>\n",
       "      <td>...</td>\n",
       "      <td>...</td>\n",
       "      <td>...</td>\n",
       "      <td>...</td>\n",
       "      <td>...</td>\n",
       "      <td>...</td>\n",
       "      <td>...</td>\n",
       "    </tr>\n",
       "    <tr>\n",
       "      <th>8758</th>\n",
       "      <td>8758</td>\n",
       "      <td>5</td>\n",
       "      <td>13</td>\n",
       "      <td>8</td>\n",
       "      <td>4</td>\n",
       "      <td>7.248434</td>\n",
       "      <td>-1.0</td>\n",
       "      <td>6.309692</td>\n",
       "    </tr>\n",
       "    <tr>\n",
       "      <th>8759</th>\n",
       "      <td>8759</td>\n",
       "      <td>9</td>\n",
       "      <td>13</td>\n",
       "      <td>8</td>\n",
       "      <td>4</td>\n",
       "      <td>8.121880</td>\n",
       "      <td>-1.0</td>\n",
       "      <td>10.000000</td>\n",
       "    </tr>\n",
       "    <tr>\n",
       "      <th>8760</th>\n",
       "      <td>8760</td>\n",
       "      <td>6</td>\n",
       "      <td>10</td>\n",
       "      <td>7</td>\n",
       "      <td>1</td>\n",
       "      <td>8.211661</td>\n",
       "      <td>-1.0</td>\n",
       "      <td>10.000000</td>\n",
       "    </tr>\n",
       "    <tr>\n",
       "      <th>8761</th>\n",
       "      <td>8761</td>\n",
       "      <td>8</td>\n",
       "      <td>13</td>\n",
       "      <td>1</td>\n",
       "      <td>12</td>\n",
       "      <td>7.724490</td>\n",
       "      <td>-1.0</td>\n",
       "      <td>5.556013</td>\n",
       "    </tr>\n",
       "    <tr>\n",
       "      <th>8762</th>\n",
       "      <td>8762</td>\n",
       "      <td>9</td>\n",
       "      <td>13</td>\n",
       "      <td>1</td>\n",
       "      <td>12</td>\n",
       "      <td>7.284459</td>\n",
       "      <td>-1.0</td>\n",
       "      <td>10.000000</td>\n",
       "    </tr>\n",
       "  </tbody>\n",
       "</table>\n",
       "<p>8763 rows × 8 columns</p>\n",
       "</div>"
      ],
      "text/plain": [
       "      Unnamed: 0  Player  Goal  Wall  Pit  Q_Current  Reward_Current  \\\n",
       "0              0       2    11    15    8   4.941091            -1.0   \n",
       "1              1       6    11    15    8   7.417938            -1.0   \n",
       "2              2       7    11    15    8   9.168983            -1.0   \n",
       "3              3       6    12     5   13   3.616126            -1.0   \n",
       "4              4      10    12     5   13   3.241566            -1.0   \n",
       "...          ...     ...   ...   ...  ...        ...             ...   \n",
       "8758        8758       5    13     8    4   7.248434            -1.0   \n",
       "8759        8759       9    13     8    4   8.121880            -1.0   \n",
       "8760        8760       6    10     7    1   8.211661            -1.0   \n",
       "8761        8761       8    13     1   12   7.724490            -1.0   \n",
       "8762        8762       9    13     1   12   7.284459            -1.0   \n",
       "\n",
       "      Bellman_Operator  \n",
       "0             4.318901  \n",
       "1             7.252085  \n",
       "2            10.000000  \n",
       "3             1.673050  \n",
       "4             5.395397  \n",
       "...                ...  \n",
       "8758          6.309692  \n",
       "8759         10.000000  \n",
       "8760         10.000000  \n",
       "8761          5.556013  \n",
       "8762         10.000000  \n",
       "\n",
       "[8763 rows x 8 columns]"
      ]
     },
     "execution_count": 80,
     "metadata": {},
     "output_type": "execute_result"
    }
   ],
   "source": [
    "df = pd.read_csv(\"DatasetAfterNonUniform.csv\")\n",
    "df"
   ]
  },
  {
   "cell_type": "markdown",
   "id": "18ae6f26",
   "metadata": {},
   "source": [
    "### Q value approximation"
   ]
  },
  {
   "cell_type": "code",
   "execution_count": 81,
   "id": "1854abdb",
   "metadata": {},
   "outputs": [],
   "source": [
    "from sklearn.model_selection import train_test_split\n",
    "X = df[['Player','Pit', 'Goal', 'Wall']]\n",
    "y = df[['Q_Current']]"
   ]
  },
  {
   "cell_type": "code",
   "execution_count": 82,
   "id": "29dc78f6",
   "metadata": {},
   "outputs": [],
   "source": [
    "mlp = MLPRegressor(hidden_layer_sizes=(200,120), max_iter=300, activation = 'relu', solver='adam', random_state=123)"
   ]
  },
  {
   "cell_type": "code",
   "execution_count": 83,
   "id": "89ad68ad",
   "metadata": {},
   "outputs": [
    {
     "data": {
      "text/html": [
       "<style>#sk-container-id-11 {color: black;background-color: white;}#sk-container-id-11 pre{padding: 0;}#sk-container-id-11 div.sk-toggleable {background-color: white;}#sk-container-id-11 label.sk-toggleable__label {cursor: pointer;display: block;width: 100%;margin-bottom: 0;padding: 0.3em;box-sizing: border-box;text-align: center;}#sk-container-id-11 label.sk-toggleable__label-arrow:before {content: \"▸\";float: left;margin-right: 0.25em;color: #696969;}#sk-container-id-11 label.sk-toggleable__label-arrow:hover:before {color: black;}#sk-container-id-11 div.sk-estimator:hover label.sk-toggleable__label-arrow:before {color: black;}#sk-container-id-11 div.sk-toggleable__content {max-height: 0;max-width: 0;overflow: hidden;text-align: left;background-color: #f0f8ff;}#sk-container-id-11 div.sk-toggleable__content pre {margin: 0.2em;color: black;border-radius: 0.25em;background-color: #f0f8ff;}#sk-container-id-11 input.sk-toggleable__control:checked~div.sk-toggleable__content {max-height: 200px;max-width: 100%;overflow: auto;}#sk-container-id-11 input.sk-toggleable__control:checked~label.sk-toggleable__label-arrow:before {content: \"▾\";}#sk-container-id-11 div.sk-estimator input.sk-toggleable__control:checked~label.sk-toggleable__label {background-color: #d4ebff;}#sk-container-id-11 div.sk-label input.sk-toggleable__control:checked~label.sk-toggleable__label {background-color: #d4ebff;}#sk-container-id-11 input.sk-hidden--visually {border: 0;clip: rect(1px 1px 1px 1px);clip: rect(1px, 1px, 1px, 1px);height: 1px;margin: -1px;overflow: hidden;padding: 0;position: absolute;width: 1px;}#sk-container-id-11 div.sk-estimator {font-family: monospace;background-color: #f0f8ff;border: 1px dotted black;border-radius: 0.25em;box-sizing: border-box;margin-bottom: 0.5em;}#sk-container-id-11 div.sk-estimator:hover {background-color: #d4ebff;}#sk-container-id-11 div.sk-parallel-item::after {content: \"\";width: 100%;border-bottom: 1px solid gray;flex-grow: 1;}#sk-container-id-11 div.sk-label:hover label.sk-toggleable__label {background-color: #d4ebff;}#sk-container-id-11 div.sk-serial::before {content: \"\";position: absolute;border-left: 1px solid gray;box-sizing: border-box;top: 0;bottom: 0;left: 50%;z-index: 0;}#sk-container-id-11 div.sk-serial {display: flex;flex-direction: column;align-items: center;background-color: white;padding-right: 0.2em;padding-left: 0.2em;position: relative;}#sk-container-id-11 div.sk-item {position: relative;z-index: 1;}#sk-container-id-11 div.sk-parallel {display: flex;align-items: stretch;justify-content: center;background-color: white;position: relative;}#sk-container-id-11 div.sk-item::before, #sk-container-id-11 div.sk-parallel-item::before {content: \"\";position: absolute;border-left: 1px solid gray;box-sizing: border-box;top: 0;bottom: 0;left: 50%;z-index: -1;}#sk-container-id-11 div.sk-parallel-item {display: flex;flex-direction: column;z-index: 1;position: relative;background-color: white;}#sk-container-id-11 div.sk-parallel-item:first-child::after {align-self: flex-end;width: 50%;}#sk-container-id-11 div.sk-parallel-item:last-child::after {align-self: flex-start;width: 50%;}#sk-container-id-11 div.sk-parallel-item:only-child::after {width: 0;}#sk-container-id-11 div.sk-dashed-wrapped {border: 1px dashed gray;margin: 0 0.4em 0.5em 0.4em;box-sizing: border-box;padding-bottom: 0.4em;background-color: white;}#sk-container-id-11 div.sk-label label {font-family: monospace;font-weight: bold;display: inline-block;line-height: 1.2em;}#sk-container-id-11 div.sk-label-container {text-align: center;}#sk-container-id-11 div.sk-container {/* jupyter's `normalize.less` sets `[hidden] { display: none; }` but bootstrap.min.css set `[hidden] { display: none !important; }` so we also need the `!important` here to be able to override the default hidden behavior on the sphinx rendered scikit-learn.org. See: https://github.com/scikit-learn/scikit-learn/issues/21755 */display: inline-block !important;position: relative;}#sk-container-id-11 div.sk-text-repr-fallback {display: none;}</style><div id=\"sk-container-id-11\" class=\"sk-top-container\"><div class=\"sk-text-repr-fallback\"><pre>MLPRegressor(hidden_layer_sizes=(200, 120), max_iter=300, random_state=123)</pre><b>In a Jupyter environment, please rerun this cell to show the HTML representation or trust the notebook. <br />On GitHub, the HTML representation is unable to render, please try loading this page with nbviewer.org.</b></div><div class=\"sk-container\" hidden><div class=\"sk-item\"><div class=\"sk-estimator sk-toggleable\"><input class=\"sk-toggleable__control sk-hidden--visually\" id=\"sk-estimator-id-11\" type=\"checkbox\" checked><label for=\"sk-estimator-id-11\" class=\"sk-toggleable__label sk-toggleable__label-arrow\">MLPRegressor</label><div class=\"sk-toggleable__content\"><pre>MLPRegressor(hidden_layer_sizes=(200, 120), max_iter=300, random_state=123)</pre></div></div></div></div></div>"
      ],
      "text/plain": [
       "MLPRegressor(hidden_layer_sizes=(200, 120), max_iter=300, random_state=123)"
      ]
     },
     "execution_count": 83,
     "metadata": {},
     "output_type": "execute_result"
    }
   ],
   "source": [
    "mlp.fit(X.values,y.values.ravel())"
   ]
  },
  {
   "cell_type": "code",
   "execution_count": 84,
   "id": "3daa82da",
   "metadata": {},
   "outputs": [],
   "source": [
    "h = 0\n",
    "w, h = 13, 300000\n",
    "experience_mlp = [[0 for x in range(w)] for y in range(h)] \n",
    "\n",
    "global counter\n",
    "counter = 0"
   ]
  },
  {
   "cell_type": "code",
   "execution_count": 85,
   "id": "49a78812",
   "metadata": {},
   "outputs": [
    {
     "name": "stdout",
     "output_type": "stream",
     "text": [
      "Games played: 1000, # of wins: 460\n",
      "0.46\n",
      "0.46\n",
      "Games played: 1000, # of wins: 437\n",
      "0.437\n",
      "0.897\n",
      "Games played: 1000, # of wins: 465\n",
      "0.465\n",
      "1.362\n",
      "Games played: 1000, # of wins: 482\n",
      "0.482\n",
      "1.844\n",
      "Games played: 1000, # of wins: 438\n",
      "0.438\n",
      "2.282\n",
      "Games played: 1000, # of wins: 492\n",
      "0.492\n",
      "2.774\n",
      "Games played: 1000, # of wins: 458\n",
      "0.458\n",
      "3.232\n",
      "Games played: 1000, # of wins: 438\n",
      "0.438\n",
      "3.6700000000000004\n",
      "Games played: 1000, # of wins: 455\n",
      "0.455\n",
      "4.125\n",
      "Games played: 1000, # of wins: 454\n",
      "0.454\n",
      "4.579\n",
      "Win percentage: 45.79%\n"
     ]
    }
   ],
   "source": [
    "win_num = 0\n",
    "for i in range(0,10):\n",
    "    max_games = 1000\n",
    "    wins = 0\n",
    "    for i in range(max_games):\n",
    "        win = mlp_test_model(mlp, experience_mlp, 'random', display = False)\n",
    "        if win:\n",
    "            wins += 1\n",
    "    win_perc = float(wins) / float(max_games)\n",
    "    win_num = win_num + win_perc\n",
    "    print(\"Games played: {0}, # of wins: {1}\".format(max_games,wins))\n",
    "    print(win_perc)\n",
    "    print(win_num)\n",
    "win_num = win_num / 10\n",
    "print(\"Win percentage: {}%\".format(win_num*100))"
   ]
  },
  {
   "cell_type": "code",
   "execution_count": 86,
   "id": "d745de8e",
   "metadata": {},
   "outputs": [
    {
     "data": {
      "text/plain": [
       "31.66"
      ]
     },
     "execution_count": 86,
     "metadata": {},
     "output_type": "execute_result"
    }
   ],
   "source": [
    "y_pred = mlp.predict(X.values)\n",
    "calculate_smape(y.values.ravel(),y_pred)"
   ]
  },
  {
   "cell_type": "markdown",
   "id": "43daf40b",
   "metadata": {},
   "source": [
    "### Bellman Operator Approximation"
   ]
  },
  {
   "cell_type": "code",
   "execution_count": 87,
   "id": "29c29086",
   "metadata": {},
   "outputs": [],
   "source": [
    "from sklearn.model_selection import train_test_split\n",
    "X = df[['Player','Pit', 'Goal', 'Wall']]\n",
    "y = df[['Bellman_Operator']]"
   ]
  },
  {
   "cell_type": "code",
   "execution_count": 88,
   "id": "1dfca7eb",
   "metadata": {},
   "outputs": [],
   "source": [
    "mlp = MLPRegressor(hidden_layer_sizes=(200,120), max_iter=300, activation = 'relu', solver='adam', random_state=123)"
   ]
  },
  {
   "cell_type": "code",
   "execution_count": 89,
   "id": "69ca03f8",
   "metadata": {},
   "outputs": [
    {
     "data": {
      "text/html": [
       "<style>#sk-container-id-12 {color: black;background-color: white;}#sk-container-id-12 pre{padding: 0;}#sk-container-id-12 div.sk-toggleable {background-color: white;}#sk-container-id-12 label.sk-toggleable__label {cursor: pointer;display: block;width: 100%;margin-bottom: 0;padding: 0.3em;box-sizing: border-box;text-align: center;}#sk-container-id-12 label.sk-toggleable__label-arrow:before {content: \"▸\";float: left;margin-right: 0.25em;color: #696969;}#sk-container-id-12 label.sk-toggleable__label-arrow:hover:before {color: black;}#sk-container-id-12 div.sk-estimator:hover label.sk-toggleable__label-arrow:before {color: black;}#sk-container-id-12 div.sk-toggleable__content {max-height: 0;max-width: 0;overflow: hidden;text-align: left;background-color: #f0f8ff;}#sk-container-id-12 div.sk-toggleable__content pre {margin: 0.2em;color: black;border-radius: 0.25em;background-color: #f0f8ff;}#sk-container-id-12 input.sk-toggleable__control:checked~div.sk-toggleable__content {max-height: 200px;max-width: 100%;overflow: auto;}#sk-container-id-12 input.sk-toggleable__control:checked~label.sk-toggleable__label-arrow:before {content: \"▾\";}#sk-container-id-12 div.sk-estimator input.sk-toggleable__control:checked~label.sk-toggleable__label {background-color: #d4ebff;}#sk-container-id-12 div.sk-label input.sk-toggleable__control:checked~label.sk-toggleable__label {background-color: #d4ebff;}#sk-container-id-12 input.sk-hidden--visually {border: 0;clip: rect(1px 1px 1px 1px);clip: rect(1px, 1px, 1px, 1px);height: 1px;margin: -1px;overflow: hidden;padding: 0;position: absolute;width: 1px;}#sk-container-id-12 div.sk-estimator {font-family: monospace;background-color: #f0f8ff;border: 1px dotted black;border-radius: 0.25em;box-sizing: border-box;margin-bottom: 0.5em;}#sk-container-id-12 div.sk-estimator:hover {background-color: #d4ebff;}#sk-container-id-12 div.sk-parallel-item::after {content: \"\";width: 100%;border-bottom: 1px solid gray;flex-grow: 1;}#sk-container-id-12 div.sk-label:hover label.sk-toggleable__label {background-color: #d4ebff;}#sk-container-id-12 div.sk-serial::before {content: \"\";position: absolute;border-left: 1px solid gray;box-sizing: border-box;top: 0;bottom: 0;left: 50%;z-index: 0;}#sk-container-id-12 div.sk-serial {display: flex;flex-direction: column;align-items: center;background-color: white;padding-right: 0.2em;padding-left: 0.2em;position: relative;}#sk-container-id-12 div.sk-item {position: relative;z-index: 1;}#sk-container-id-12 div.sk-parallel {display: flex;align-items: stretch;justify-content: center;background-color: white;position: relative;}#sk-container-id-12 div.sk-item::before, #sk-container-id-12 div.sk-parallel-item::before {content: \"\";position: absolute;border-left: 1px solid gray;box-sizing: border-box;top: 0;bottom: 0;left: 50%;z-index: -1;}#sk-container-id-12 div.sk-parallel-item {display: flex;flex-direction: column;z-index: 1;position: relative;background-color: white;}#sk-container-id-12 div.sk-parallel-item:first-child::after {align-self: flex-end;width: 50%;}#sk-container-id-12 div.sk-parallel-item:last-child::after {align-self: flex-start;width: 50%;}#sk-container-id-12 div.sk-parallel-item:only-child::after {width: 0;}#sk-container-id-12 div.sk-dashed-wrapped {border: 1px dashed gray;margin: 0 0.4em 0.5em 0.4em;box-sizing: border-box;padding-bottom: 0.4em;background-color: white;}#sk-container-id-12 div.sk-label label {font-family: monospace;font-weight: bold;display: inline-block;line-height: 1.2em;}#sk-container-id-12 div.sk-label-container {text-align: center;}#sk-container-id-12 div.sk-container {/* jupyter's `normalize.less` sets `[hidden] { display: none; }` but bootstrap.min.css set `[hidden] { display: none !important; }` so we also need the `!important` here to be able to override the default hidden behavior on the sphinx rendered scikit-learn.org. See: https://github.com/scikit-learn/scikit-learn/issues/21755 */display: inline-block !important;position: relative;}#sk-container-id-12 div.sk-text-repr-fallback {display: none;}</style><div id=\"sk-container-id-12\" class=\"sk-top-container\"><div class=\"sk-text-repr-fallback\"><pre>MLPRegressor(hidden_layer_sizes=(200, 120), max_iter=300, random_state=123)</pre><b>In a Jupyter environment, please rerun this cell to show the HTML representation or trust the notebook. <br />On GitHub, the HTML representation is unable to render, please try loading this page with nbviewer.org.</b></div><div class=\"sk-container\" hidden><div class=\"sk-item\"><div class=\"sk-estimator sk-toggleable\"><input class=\"sk-toggleable__control sk-hidden--visually\" id=\"sk-estimator-id-12\" type=\"checkbox\" checked><label for=\"sk-estimator-id-12\" class=\"sk-toggleable__label sk-toggleable__label-arrow\">MLPRegressor</label><div class=\"sk-toggleable__content\"><pre>MLPRegressor(hidden_layer_sizes=(200, 120), max_iter=300, random_state=123)</pre></div></div></div></div></div>"
      ],
      "text/plain": [
       "MLPRegressor(hidden_layer_sizes=(200, 120), max_iter=300, random_state=123)"
      ]
     },
     "execution_count": 89,
     "metadata": {},
     "output_type": "execute_result"
    }
   ],
   "source": [
    "mlp.fit(X.values,y.values.ravel())"
   ]
  },
  {
   "cell_type": "code",
   "execution_count": 90,
   "id": "41fc76f2",
   "metadata": {},
   "outputs": [],
   "source": [
    "h = 0\n",
    "w, h = 13, 300000\n",
    "experience_mlp = [[0 for x in range(w)] for y in range(h)] \n",
    "\n",
    "global counter\n",
    "counter = 0"
   ]
  },
  {
   "cell_type": "code",
   "execution_count": 91,
   "id": "5ada897a",
   "metadata": {},
   "outputs": [
    {
     "name": "stdout",
     "output_type": "stream",
     "text": [
      "Games played: 1000, # of wins: 756\n",
      "0.756\n",
      "0.756\n",
      "Games played: 1000, # of wins: 752\n",
      "0.752\n",
      "1.508\n",
      "Games played: 1000, # of wins: 750\n",
      "0.75\n",
      "2.258\n",
      "Games played: 1000, # of wins: 761\n",
      "0.761\n",
      "3.019\n",
      "Games played: 1000, # of wins: 757\n",
      "0.757\n",
      "3.7760000000000002\n",
      "Games played: 1000, # of wins: 758\n",
      "0.758\n",
      "4.534000000000001\n",
      "Games played: 1000, # of wins: 767\n",
      "0.767\n",
      "5.301000000000001\n",
      "Games played: 1000, # of wins: 755\n",
      "0.755\n",
      "6.056000000000001\n",
      "Games played: 1000, # of wins: 765\n",
      "0.765\n",
      "6.821000000000001\n",
      "Games played: 1000, # of wins: 741\n",
      "0.741\n",
      "7.562\n",
      "Win percentage: 75.62%\n"
     ]
    }
   ],
   "source": [
    "win_num = 0\n",
    "for i in range(0,10):\n",
    "    max_games = 1000\n",
    "    wins = 0\n",
    "    for i in range(max_games):\n",
    "        win = mlp_test_model(mlp, experience_mlp, 'random', display = False)\n",
    "        if win:\n",
    "            wins += 1\n",
    "    win_perc = float(wins) / float(max_games)\n",
    "    win_num = win_num + win_perc\n",
    "    print(\"Games played: {0}, # of wins: {1}\".format(max_games,wins))\n",
    "    print(win_perc)\n",
    "    print(win_num)\n",
    "win_num = win_num / 10\n",
    "print(\"Win percentage: {}%\".format(win_num*100))"
   ]
  },
  {
   "cell_type": "code",
   "execution_count": 92,
   "id": "28984d1e",
   "metadata": {},
   "outputs": [
    {
     "data": {
      "text/plain": [
       "26.59"
      ]
     },
     "execution_count": 92,
     "metadata": {},
     "output_type": "execute_result"
    }
   ],
   "source": [
    "y_pred = mlp.predict(X.values)\n",
    "calculate_smape(y.values.ravel(),y_pred)"
   ]
  },
  {
   "cell_type": "markdown",
   "id": "34091c2a",
   "metadata": {},
   "source": [
    "## 6. Unform Dataset LR Performance <a id = \"lruniform\"> "
   ]
  },
  {
   "cell_type": "code",
   "execution_count": 9,
   "id": "9c905301",
   "metadata": {},
   "outputs": [
    {
     "data": {
      "text/html": [
       "<div>\n",
       "<style scoped>\n",
       "    .dataframe tbody tr th:only-of-type {\n",
       "        vertical-align: middle;\n",
       "    }\n",
       "\n",
       "    .dataframe tbody tr th {\n",
       "        vertical-align: top;\n",
       "    }\n",
       "\n",
       "    .dataframe thead th {\n",
       "        text-align: right;\n",
       "    }\n",
       "</style>\n",
       "<table border=\"1\" class=\"dataframe\">\n",
       "  <thead>\n",
       "    <tr style=\"text-align: right;\">\n",
       "      <th></th>\n",
       "      <th>Unnamed: 0</th>\n",
       "      <th>Player</th>\n",
       "      <th>Goal</th>\n",
       "      <th>Wall</th>\n",
       "      <th>Pit</th>\n",
       "      <th>Q_Current</th>\n",
       "      <th>Reward_Current</th>\n",
       "      <th>Bellman_Operator</th>\n",
       "    </tr>\n",
       "  </thead>\n",
       "  <tbody>\n",
       "    <tr>\n",
       "      <th>0</th>\n",
       "      <td>0</td>\n",
       "      <td>0</td>\n",
       "      <td>2</td>\n",
       "      <td>1</td>\n",
       "      <td>0</td>\n",
       "      <td>0.305944</td>\n",
       "      <td>-10</td>\n",
       "      <td>1.284265</td>\n",
       "    </tr>\n",
       "    <tr>\n",
       "      <th>1</th>\n",
       "      <td>1</td>\n",
       "      <td>2</td>\n",
       "      <td>2</td>\n",
       "      <td>1</td>\n",
       "      <td>0</td>\n",
       "      <td>9.047926</td>\n",
       "      <td>10</td>\n",
       "      <td>10.000000</td>\n",
       "    </tr>\n",
       "    <tr>\n",
       "      <th>2</th>\n",
       "      <td>2</td>\n",
       "      <td>3</td>\n",
       "      <td>2</td>\n",
       "      <td>1</td>\n",
       "      <td>0</td>\n",
       "      <td>7.594888</td>\n",
       "      <td>-1</td>\n",
       "      <td>10.000000</td>\n",
       "    </tr>\n",
       "    <tr>\n",
       "      <th>3</th>\n",
       "      <td>3</td>\n",
       "      <td>4</td>\n",
       "      <td>2</td>\n",
       "      <td>1</td>\n",
       "      <td>0</td>\n",
       "      <td>2.538072</td>\n",
       "      <td>-1</td>\n",
       "      <td>4.271501</td>\n",
       "    </tr>\n",
       "    <tr>\n",
       "      <th>4</th>\n",
       "      <td>4</td>\n",
       "      <td>5</td>\n",
       "      <td>2</td>\n",
       "      <td>1</td>\n",
       "      <td>0</td>\n",
       "      <td>5.857223</td>\n",
       "      <td>-1</td>\n",
       "      <td>5.000492</td>\n",
       "    </tr>\n",
       "    <tr>\n",
       "      <th>...</th>\n",
       "      <td>...</td>\n",
       "      <td>...</td>\n",
       "      <td>...</td>\n",
       "      <td>...</td>\n",
       "      <td>...</td>\n",
       "      <td>...</td>\n",
       "      <td>...</td>\n",
       "      <td>...</td>\n",
       "    </tr>\n",
       "    <tr>\n",
       "      <th>50395</th>\n",
       "      <td>50395</td>\n",
       "      <td>8</td>\n",
       "      <td>13</td>\n",
       "      <td>14</td>\n",
       "      <td>15</td>\n",
       "      <td>5.306869</td>\n",
       "      <td>-1</td>\n",
       "      <td>5.827087</td>\n",
       "    </tr>\n",
       "    <tr>\n",
       "      <th>50396</th>\n",
       "      <td>50396</td>\n",
       "      <td>13</td>\n",
       "      <td>13</td>\n",
       "      <td>14</td>\n",
       "      <td>15</td>\n",
       "      <td>12.008292</td>\n",
       "      <td>10</td>\n",
       "      <td>10.000000</td>\n",
       "    </tr>\n",
       "    <tr>\n",
       "      <th>50397</th>\n",
       "      <td>50397</td>\n",
       "      <td>9</td>\n",
       "      <td>13</td>\n",
       "      <td>14</td>\n",
       "      <td>15</td>\n",
       "      <td>7.040803</td>\n",
       "      <td>-1</td>\n",
       "      <td>10.000000</td>\n",
       "    </tr>\n",
       "    <tr>\n",
       "      <th>50398</th>\n",
       "      <td>50398</td>\n",
       "      <td>12</td>\n",
       "      <td>13</td>\n",
       "      <td>14</td>\n",
       "      <td>15</td>\n",
       "      <td>7.585652</td>\n",
       "      <td>-1</td>\n",
       "      <td>10.000000</td>\n",
       "    </tr>\n",
       "    <tr>\n",
       "      <th>50399</th>\n",
       "      <td>50399</td>\n",
       "      <td>11</td>\n",
       "      <td>13</td>\n",
       "      <td>14</td>\n",
       "      <td>15</td>\n",
       "      <td>3.081629</td>\n",
       "      <td>-1</td>\n",
       "      <td>3.822802</td>\n",
       "    </tr>\n",
       "  </tbody>\n",
       "</table>\n",
       "<p>50400 rows × 8 columns</p>\n",
       "</div>"
      ],
      "text/plain": [
       "       Unnamed: 0  Player  Goal  Wall  Pit  Q_Current  Reward_Current  \\\n",
       "0               0       0     2     1    0   0.305944             -10   \n",
       "1               1       2     2     1    0   9.047926              10   \n",
       "2               2       3     2     1    0   7.594888              -1   \n",
       "3               3       4     2     1    0   2.538072              -1   \n",
       "4               4       5     2     1    0   5.857223              -1   \n",
       "...           ...     ...   ...   ...  ...        ...             ...   \n",
       "50395       50395       8    13    14   15   5.306869              -1   \n",
       "50396       50396      13    13    14   15  12.008292              10   \n",
       "50397       50397       9    13    14   15   7.040803              -1   \n",
       "50398       50398      12    13    14   15   7.585652              -1   \n",
       "50399       50399      11    13    14   15   3.081629              -1   \n",
       "\n",
       "       Bellman_Operator  \n",
       "0              1.284265  \n",
       "1             10.000000  \n",
       "2             10.000000  \n",
       "3              4.271501  \n",
       "4              5.000492  \n",
       "...                 ...  \n",
       "50395          5.827087  \n",
       "50396         10.000000  \n",
       "50397         10.000000  \n",
       "50398         10.000000  \n",
       "50399          3.822802  \n",
       "\n",
       "[50400 rows x 8 columns]"
      ]
     },
     "execution_count": 9,
     "metadata": {},
     "output_type": "execute_result"
    }
   ],
   "source": [
    "df = pd.read_csv(\"DatasetAfterUniform.csv\")\n",
    "df"
   ]
  },
  {
   "cell_type": "markdown",
   "id": "9ff670b3",
   "metadata": {},
   "source": [
    "### Q value approximation"
   ]
  },
  {
   "cell_type": "code",
   "execution_count": 55,
   "id": "5dbb7f90",
   "metadata": {},
   "outputs": [],
   "source": [
    "X = df[['Player', 'Pit', 'Goal', 'Wall']]\n",
    "y = df[['Q_Current']]"
   ]
  },
  {
   "cell_type": "code",
   "execution_count": 57,
   "id": "bcba4694",
   "metadata": {},
   "outputs": [
    {
     "data": {
      "text/html": [
       "<style>#sk-container-id-10 {color: black;background-color: white;}#sk-container-id-10 pre{padding: 0;}#sk-container-id-10 div.sk-toggleable {background-color: white;}#sk-container-id-10 label.sk-toggleable__label {cursor: pointer;display: block;width: 100%;margin-bottom: 0;padding: 0.3em;box-sizing: border-box;text-align: center;}#sk-container-id-10 label.sk-toggleable__label-arrow:before {content: \"▸\";float: left;margin-right: 0.25em;color: #696969;}#sk-container-id-10 label.sk-toggleable__label-arrow:hover:before {color: black;}#sk-container-id-10 div.sk-estimator:hover label.sk-toggleable__label-arrow:before {color: black;}#sk-container-id-10 div.sk-toggleable__content {max-height: 0;max-width: 0;overflow: hidden;text-align: left;background-color: #f0f8ff;}#sk-container-id-10 div.sk-toggleable__content pre {margin: 0.2em;color: black;border-radius: 0.25em;background-color: #f0f8ff;}#sk-container-id-10 input.sk-toggleable__control:checked~div.sk-toggleable__content {max-height: 200px;max-width: 100%;overflow: auto;}#sk-container-id-10 input.sk-toggleable__control:checked~label.sk-toggleable__label-arrow:before {content: \"▾\";}#sk-container-id-10 div.sk-estimator input.sk-toggleable__control:checked~label.sk-toggleable__label {background-color: #d4ebff;}#sk-container-id-10 div.sk-label input.sk-toggleable__control:checked~label.sk-toggleable__label {background-color: #d4ebff;}#sk-container-id-10 input.sk-hidden--visually {border: 0;clip: rect(1px 1px 1px 1px);clip: rect(1px, 1px, 1px, 1px);height: 1px;margin: -1px;overflow: hidden;padding: 0;position: absolute;width: 1px;}#sk-container-id-10 div.sk-estimator {font-family: monospace;background-color: #f0f8ff;border: 1px dotted black;border-radius: 0.25em;box-sizing: border-box;margin-bottom: 0.5em;}#sk-container-id-10 div.sk-estimator:hover {background-color: #d4ebff;}#sk-container-id-10 div.sk-parallel-item::after {content: \"\";width: 100%;border-bottom: 1px solid gray;flex-grow: 1;}#sk-container-id-10 div.sk-label:hover label.sk-toggleable__label {background-color: #d4ebff;}#sk-container-id-10 div.sk-serial::before {content: \"\";position: absolute;border-left: 1px solid gray;box-sizing: border-box;top: 0;bottom: 0;left: 50%;z-index: 0;}#sk-container-id-10 div.sk-serial {display: flex;flex-direction: column;align-items: center;background-color: white;padding-right: 0.2em;padding-left: 0.2em;position: relative;}#sk-container-id-10 div.sk-item {position: relative;z-index: 1;}#sk-container-id-10 div.sk-parallel {display: flex;align-items: stretch;justify-content: center;background-color: white;position: relative;}#sk-container-id-10 div.sk-item::before, #sk-container-id-10 div.sk-parallel-item::before {content: \"\";position: absolute;border-left: 1px solid gray;box-sizing: border-box;top: 0;bottom: 0;left: 50%;z-index: -1;}#sk-container-id-10 div.sk-parallel-item {display: flex;flex-direction: column;z-index: 1;position: relative;background-color: white;}#sk-container-id-10 div.sk-parallel-item:first-child::after {align-self: flex-end;width: 50%;}#sk-container-id-10 div.sk-parallel-item:last-child::after {align-self: flex-start;width: 50%;}#sk-container-id-10 div.sk-parallel-item:only-child::after {width: 0;}#sk-container-id-10 div.sk-dashed-wrapped {border: 1px dashed gray;margin: 0 0.4em 0.5em 0.4em;box-sizing: border-box;padding-bottom: 0.4em;background-color: white;}#sk-container-id-10 div.sk-label label {font-family: monospace;font-weight: bold;display: inline-block;line-height: 1.2em;}#sk-container-id-10 div.sk-label-container {text-align: center;}#sk-container-id-10 div.sk-container {/* jupyter's `normalize.less` sets `[hidden] { display: none; }` but bootstrap.min.css set `[hidden] { display: none !important; }` so we also need the `!important` here to be able to override the default hidden behavior on the sphinx rendered scikit-learn.org. See: https://github.com/scikit-learn/scikit-learn/issues/21755 */display: inline-block !important;position: relative;}#sk-container-id-10 div.sk-text-repr-fallback {display: none;}</style><div id=\"sk-container-id-10\" class=\"sk-top-container\"><div class=\"sk-text-repr-fallback\"><pre>LinearRegression()</pre><b>In a Jupyter environment, please rerun this cell to show the HTML representation or trust the notebook. <br />On GitHub, the HTML representation is unable to render, please try loading this page with nbviewer.org.</b></div><div class=\"sk-container\" hidden><div class=\"sk-item\"><div class=\"sk-estimator sk-toggleable\"><input class=\"sk-toggleable__control sk-hidden--visually\" id=\"sk-estimator-id-10\" type=\"checkbox\" checked><label for=\"sk-estimator-id-10\" class=\"sk-toggleable__label sk-toggleable__label-arrow\">LinearRegression</label><div class=\"sk-toggleable__content\"><pre>LinearRegression()</pre></div></div></div></div></div>"
      ],
      "text/plain": [
       "LinearRegression()"
      ]
     },
     "execution_count": 57,
     "metadata": {},
     "output_type": "execute_result"
    }
   ],
   "source": [
    "from sklearn.linear_model import LinearRegression\n",
    "regressor1 = LinearRegression()\n",
    "regressor1.fit(X.values,y.values.ravel())"
   ]
  },
  {
   "cell_type": "code",
   "execution_count": 59,
   "id": "0a13f2f1",
   "metadata": {},
   "outputs": [
    {
     "data": {
      "text/plain": [
       "55.63"
      ]
     },
     "execution_count": 59,
     "metadata": {},
     "output_type": "execute_result"
    }
   ],
   "source": [
    "y_pred = regressor1.predict(X.values)\n",
    "calculate_smape(y.values.ravel(),y_pred)"
   ]
  },
  {
   "cell_type": "code",
   "execution_count": 60,
   "id": "b2d1e023",
   "metadata": {},
   "outputs": [],
   "source": [
    "h = 0\n",
    "w, h = 13, 300000\n",
    "experience_mlp = [[0 for x in range(w)] for y in range(h)] \n",
    "\n",
    "global counter\n",
    "counter = 0"
   ]
  },
  {
   "cell_type": "code",
   "execution_count": 61,
   "id": "e5324095",
   "metadata": {},
   "outputs": [
    {
     "name": "stdout",
     "output_type": "stream",
     "text": [
      "Games played: 1000, # of wins: 200\n",
      "0.2\n",
      "0.2\n",
      "Games played: 1000, # of wins: 219\n",
      "0.219\n",
      "0.41900000000000004\n",
      "Games played: 1000, # of wins: 204\n",
      "0.204\n",
      "0.623\n",
      "Games played: 1000, # of wins: 210\n",
      "0.21\n",
      "0.833\n",
      "Games played: 1000, # of wins: 198\n",
      "0.198\n",
      "1.031\n",
      "Games played: 1000, # of wins: 199\n",
      "0.199\n",
      "1.23\n",
      "Games played: 1000, # of wins: 204\n",
      "0.204\n",
      "1.434\n",
      "Games played: 1000, # of wins: 199\n",
      "0.199\n",
      "1.633\n",
      "Games played: 1000, # of wins: 183\n",
      "0.183\n",
      "1.816\n",
      "Games played: 1000, # of wins: 217\n",
      "0.217\n",
      "2.033\n",
      "Win percentage: 20.33%\n"
     ]
    }
   ],
   "source": [
    "win_num = 0\n",
    "for i in range(0,10):\n",
    "    max_games = 1000\n",
    "    wins = 0\n",
    "    for i in range(max_games):\n",
    "        win = mlp_test_model(regressor1, experience_mlp, 'random', display = False)\n",
    "        if win:\n",
    "            wins += 1\n",
    "    win_perc = float(wins) / float(max_games)\n",
    "    win_num = win_num + win_perc\n",
    "    print(\"Games played: {0}, # of wins: {1}\".format(max_games,wins))\n",
    "    print(win_perc)\n",
    "    print(win_num)\n",
    "win_num = win_num / 10\n",
    "print(\"Win percentage: {}%\".format(win_num*100))"
   ]
  },
  {
   "cell_type": "markdown",
   "id": "02c50fb9",
   "metadata": {},
   "source": [
    "### Bellman Operator Approximation"
   ]
  },
  {
   "cell_type": "code",
   "execution_count": 62,
   "id": "2aa3b55f",
   "metadata": {},
   "outputs": [],
   "source": [
    "X = df[['Player', 'Pit', 'Goal', 'Wall']]\n",
    "y = df[['Bellman_Operator']]"
   ]
  },
  {
   "cell_type": "code",
   "execution_count": 63,
   "id": "bde3b7d5",
   "metadata": {},
   "outputs": [
    {
     "data": {
      "text/html": [
       "<style>#sk-container-id-11 {color: black;background-color: white;}#sk-container-id-11 pre{padding: 0;}#sk-container-id-11 div.sk-toggleable {background-color: white;}#sk-container-id-11 label.sk-toggleable__label {cursor: pointer;display: block;width: 100%;margin-bottom: 0;padding: 0.3em;box-sizing: border-box;text-align: center;}#sk-container-id-11 label.sk-toggleable__label-arrow:before {content: \"▸\";float: left;margin-right: 0.25em;color: #696969;}#sk-container-id-11 label.sk-toggleable__label-arrow:hover:before {color: black;}#sk-container-id-11 div.sk-estimator:hover label.sk-toggleable__label-arrow:before {color: black;}#sk-container-id-11 div.sk-toggleable__content {max-height: 0;max-width: 0;overflow: hidden;text-align: left;background-color: #f0f8ff;}#sk-container-id-11 div.sk-toggleable__content pre {margin: 0.2em;color: black;border-radius: 0.25em;background-color: #f0f8ff;}#sk-container-id-11 input.sk-toggleable__control:checked~div.sk-toggleable__content {max-height: 200px;max-width: 100%;overflow: auto;}#sk-container-id-11 input.sk-toggleable__control:checked~label.sk-toggleable__label-arrow:before {content: \"▾\";}#sk-container-id-11 div.sk-estimator input.sk-toggleable__control:checked~label.sk-toggleable__label {background-color: #d4ebff;}#sk-container-id-11 div.sk-label input.sk-toggleable__control:checked~label.sk-toggleable__label {background-color: #d4ebff;}#sk-container-id-11 input.sk-hidden--visually {border: 0;clip: rect(1px 1px 1px 1px);clip: rect(1px, 1px, 1px, 1px);height: 1px;margin: -1px;overflow: hidden;padding: 0;position: absolute;width: 1px;}#sk-container-id-11 div.sk-estimator {font-family: monospace;background-color: #f0f8ff;border: 1px dotted black;border-radius: 0.25em;box-sizing: border-box;margin-bottom: 0.5em;}#sk-container-id-11 div.sk-estimator:hover {background-color: #d4ebff;}#sk-container-id-11 div.sk-parallel-item::after {content: \"\";width: 100%;border-bottom: 1px solid gray;flex-grow: 1;}#sk-container-id-11 div.sk-label:hover label.sk-toggleable__label {background-color: #d4ebff;}#sk-container-id-11 div.sk-serial::before {content: \"\";position: absolute;border-left: 1px solid gray;box-sizing: border-box;top: 0;bottom: 0;left: 50%;z-index: 0;}#sk-container-id-11 div.sk-serial {display: flex;flex-direction: column;align-items: center;background-color: white;padding-right: 0.2em;padding-left: 0.2em;position: relative;}#sk-container-id-11 div.sk-item {position: relative;z-index: 1;}#sk-container-id-11 div.sk-parallel {display: flex;align-items: stretch;justify-content: center;background-color: white;position: relative;}#sk-container-id-11 div.sk-item::before, #sk-container-id-11 div.sk-parallel-item::before {content: \"\";position: absolute;border-left: 1px solid gray;box-sizing: border-box;top: 0;bottom: 0;left: 50%;z-index: -1;}#sk-container-id-11 div.sk-parallel-item {display: flex;flex-direction: column;z-index: 1;position: relative;background-color: white;}#sk-container-id-11 div.sk-parallel-item:first-child::after {align-self: flex-end;width: 50%;}#sk-container-id-11 div.sk-parallel-item:last-child::after {align-self: flex-start;width: 50%;}#sk-container-id-11 div.sk-parallel-item:only-child::after {width: 0;}#sk-container-id-11 div.sk-dashed-wrapped {border: 1px dashed gray;margin: 0 0.4em 0.5em 0.4em;box-sizing: border-box;padding-bottom: 0.4em;background-color: white;}#sk-container-id-11 div.sk-label label {font-family: monospace;font-weight: bold;display: inline-block;line-height: 1.2em;}#sk-container-id-11 div.sk-label-container {text-align: center;}#sk-container-id-11 div.sk-container {/* jupyter's `normalize.less` sets `[hidden] { display: none; }` but bootstrap.min.css set `[hidden] { display: none !important; }` so we also need the `!important` here to be able to override the default hidden behavior on the sphinx rendered scikit-learn.org. See: https://github.com/scikit-learn/scikit-learn/issues/21755 */display: inline-block !important;position: relative;}#sk-container-id-11 div.sk-text-repr-fallback {display: none;}</style><div id=\"sk-container-id-11\" class=\"sk-top-container\"><div class=\"sk-text-repr-fallback\"><pre>LinearRegression()</pre><b>In a Jupyter environment, please rerun this cell to show the HTML representation or trust the notebook. <br />On GitHub, the HTML representation is unable to render, please try loading this page with nbviewer.org.</b></div><div class=\"sk-container\" hidden><div class=\"sk-item\"><div class=\"sk-estimator sk-toggleable\"><input class=\"sk-toggleable__control sk-hidden--visually\" id=\"sk-estimator-id-11\" type=\"checkbox\" checked><label for=\"sk-estimator-id-11\" class=\"sk-toggleable__label sk-toggleable__label-arrow\">LinearRegression</label><div class=\"sk-toggleable__content\"><pre>LinearRegression()</pre></div></div></div></div></div>"
      ],
      "text/plain": [
       "LinearRegression()"
      ]
     },
     "execution_count": 63,
     "metadata": {},
     "output_type": "execute_result"
    }
   ],
   "source": [
    "from sklearn.linear_model import LinearRegression\n",
    "regressor1 = LinearRegression()\n",
    "regressor1.fit(X.values,y.values.ravel())"
   ]
  },
  {
   "cell_type": "code",
   "execution_count": 64,
   "id": "7b483b8d",
   "metadata": {},
   "outputs": [
    {
     "data": {
      "text/plain": [
       "50.16"
      ]
     },
     "execution_count": 64,
     "metadata": {},
     "output_type": "execute_result"
    }
   ],
   "source": [
    "y_pred = regressor1.predict(X.values)\n",
    "calculate_smape(y.values.ravel(),y_pred)"
   ]
  },
  {
   "cell_type": "code",
   "execution_count": 65,
   "id": "35b79c69",
   "metadata": {},
   "outputs": [],
   "source": [
    "h = 0\n",
    "w, h = 13, 300000\n",
    "experience_mlp = [[0 for x in range(w)] for y in range(h)] \n",
    "\n",
    "global counter\n",
    "counter = 0"
   ]
  },
  {
   "cell_type": "code",
   "execution_count": 66,
   "id": "4bba5c21",
   "metadata": {},
   "outputs": [
    {
     "name": "stdout",
     "output_type": "stream",
     "text": [
      "Games played: 1000, # of wins: 202\n",
      "0.202\n",
      "0.202\n",
      "Games played: 1000, # of wins: 211\n",
      "0.211\n",
      "0.41300000000000003\n",
      "Games played: 1000, # of wins: 214\n",
      "0.214\n",
      "0.627\n",
      "Games played: 1000, # of wins: 218\n",
      "0.218\n",
      "0.845\n",
      "Games played: 1000, # of wins: 201\n",
      "0.201\n",
      "1.046\n",
      "Games played: 1000, # of wins: 190\n",
      "0.19\n",
      "1.236\n",
      "Games played: 1000, # of wins: 191\n",
      "0.191\n",
      "1.427\n",
      "Games played: 1000, # of wins: 197\n",
      "0.197\n",
      "1.624\n",
      "Games played: 1000, # of wins: 189\n",
      "0.189\n",
      "1.8130000000000002\n",
      "Games played: 1000, # of wins: 162\n",
      "0.162\n",
      "1.975\n",
      "Win percentage: 19.75%\n"
     ]
    }
   ],
   "source": [
    "win_num = 0\n",
    "for i in range(0,10):\n",
    "    max_games = 1000\n",
    "    wins = 0\n",
    "    for i in range(max_games):\n",
    "        win = mlp_test_model(regressor1, experience_mlp, 'random', display = False)\n",
    "        if win:\n",
    "            wins += 1\n",
    "    win_perc = float(wins) / float(max_games)\n",
    "    win_num = win_num + win_perc\n",
    "    print(\"Games played: {0}, # of wins: {1}\".format(max_games,wins))\n",
    "    print(win_perc)\n",
    "    print(win_num)\n",
    "win_num = win_num / 10\n",
    "print(\"Win percentage: {}%\".format(win_num*100))"
   ]
  },
  {
   "cell_type": "markdown",
   "id": "cd2641c3",
   "metadata": {},
   "source": [
    "## 7. Non Unform Dataset LR Performance <a id = \"lrnonuniform\"> "
   ]
  },
  {
   "cell_type": "code",
   "execution_count": 67,
   "id": "6556aa79",
   "metadata": {},
   "outputs": [
    {
     "data": {
      "text/html": [
       "<div>\n",
       "<style scoped>\n",
       "    .dataframe tbody tr th:only-of-type {\n",
       "        vertical-align: middle;\n",
       "    }\n",
       "\n",
       "    .dataframe tbody tr th {\n",
       "        vertical-align: top;\n",
       "    }\n",
       "\n",
       "    .dataframe thead th {\n",
       "        text-align: right;\n",
       "    }\n",
       "</style>\n",
       "<table border=\"1\" class=\"dataframe\">\n",
       "  <thead>\n",
       "    <tr style=\"text-align: right;\">\n",
       "      <th></th>\n",
       "      <th>Unnamed: 0</th>\n",
       "      <th>Player</th>\n",
       "      <th>Goal</th>\n",
       "      <th>Wall</th>\n",
       "      <th>Pit</th>\n",
       "      <th>Q_Current</th>\n",
       "      <th>Reward_Current</th>\n",
       "      <th>Bellman_Operator</th>\n",
       "    </tr>\n",
       "  </thead>\n",
       "  <tbody>\n",
       "    <tr>\n",
       "      <th>0</th>\n",
       "      <td>0</td>\n",
       "      <td>2</td>\n",
       "      <td>11</td>\n",
       "      <td>15</td>\n",
       "      <td>8</td>\n",
       "      <td>4.941091</td>\n",
       "      <td>-1.0</td>\n",
       "      <td>4.318901</td>\n",
       "    </tr>\n",
       "    <tr>\n",
       "      <th>1</th>\n",
       "      <td>1</td>\n",
       "      <td>6</td>\n",
       "      <td>11</td>\n",
       "      <td>15</td>\n",
       "      <td>8</td>\n",
       "      <td>7.417938</td>\n",
       "      <td>-1.0</td>\n",
       "      <td>7.252085</td>\n",
       "    </tr>\n",
       "    <tr>\n",
       "      <th>2</th>\n",
       "      <td>2</td>\n",
       "      <td>7</td>\n",
       "      <td>11</td>\n",
       "      <td>15</td>\n",
       "      <td>8</td>\n",
       "      <td>9.168983</td>\n",
       "      <td>-1.0</td>\n",
       "      <td>10.000000</td>\n",
       "    </tr>\n",
       "    <tr>\n",
       "      <th>3</th>\n",
       "      <td>3</td>\n",
       "      <td>6</td>\n",
       "      <td>12</td>\n",
       "      <td>5</td>\n",
       "      <td>13</td>\n",
       "      <td>3.616126</td>\n",
       "      <td>-1.0</td>\n",
       "      <td>1.673050</td>\n",
       "    </tr>\n",
       "    <tr>\n",
       "      <th>4</th>\n",
       "      <td>4</td>\n",
       "      <td>10</td>\n",
       "      <td>12</td>\n",
       "      <td>5</td>\n",
       "      <td>13</td>\n",
       "      <td>3.241566</td>\n",
       "      <td>-1.0</td>\n",
       "      <td>5.395397</td>\n",
       "    </tr>\n",
       "    <tr>\n",
       "      <th>...</th>\n",
       "      <td>...</td>\n",
       "      <td>...</td>\n",
       "      <td>...</td>\n",
       "      <td>...</td>\n",
       "      <td>...</td>\n",
       "      <td>...</td>\n",
       "      <td>...</td>\n",
       "      <td>...</td>\n",
       "    </tr>\n",
       "    <tr>\n",
       "      <th>8758</th>\n",
       "      <td>8758</td>\n",
       "      <td>5</td>\n",
       "      <td>13</td>\n",
       "      <td>8</td>\n",
       "      <td>4</td>\n",
       "      <td>7.248434</td>\n",
       "      <td>-1.0</td>\n",
       "      <td>6.309692</td>\n",
       "    </tr>\n",
       "    <tr>\n",
       "      <th>8759</th>\n",
       "      <td>8759</td>\n",
       "      <td>9</td>\n",
       "      <td>13</td>\n",
       "      <td>8</td>\n",
       "      <td>4</td>\n",
       "      <td>8.121880</td>\n",
       "      <td>-1.0</td>\n",
       "      <td>10.000000</td>\n",
       "    </tr>\n",
       "    <tr>\n",
       "      <th>8760</th>\n",
       "      <td>8760</td>\n",
       "      <td>6</td>\n",
       "      <td>10</td>\n",
       "      <td>7</td>\n",
       "      <td>1</td>\n",
       "      <td>8.211661</td>\n",
       "      <td>-1.0</td>\n",
       "      <td>10.000000</td>\n",
       "    </tr>\n",
       "    <tr>\n",
       "      <th>8761</th>\n",
       "      <td>8761</td>\n",
       "      <td>8</td>\n",
       "      <td>13</td>\n",
       "      <td>1</td>\n",
       "      <td>12</td>\n",
       "      <td>7.724490</td>\n",
       "      <td>-1.0</td>\n",
       "      <td>5.556013</td>\n",
       "    </tr>\n",
       "    <tr>\n",
       "      <th>8762</th>\n",
       "      <td>8762</td>\n",
       "      <td>9</td>\n",
       "      <td>13</td>\n",
       "      <td>1</td>\n",
       "      <td>12</td>\n",
       "      <td>7.284459</td>\n",
       "      <td>-1.0</td>\n",
       "      <td>10.000000</td>\n",
       "    </tr>\n",
       "  </tbody>\n",
       "</table>\n",
       "<p>8763 rows × 8 columns</p>\n",
       "</div>"
      ],
      "text/plain": [
       "      Unnamed: 0  Player  Goal  Wall  Pit  Q_Current  Reward_Current  \\\n",
       "0              0       2    11    15    8   4.941091            -1.0   \n",
       "1              1       6    11    15    8   7.417938            -1.0   \n",
       "2              2       7    11    15    8   9.168983            -1.0   \n",
       "3              3       6    12     5   13   3.616126            -1.0   \n",
       "4              4      10    12     5   13   3.241566            -1.0   \n",
       "...          ...     ...   ...   ...  ...        ...             ...   \n",
       "8758        8758       5    13     8    4   7.248434            -1.0   \n",
       "8759        8759       9    13     8    4   8.121880            -1.0   \n",
       "8760        8760       6    10     7    1   8.211661            -1.0   \n",
       "8761        8761       8    13     1   12   7.724490            -1.0   \n",
       "8762        8762       9    13     1   12   7.284459            -1.0   \n",
       "\n",
       "      Bellman_Operator  \n",
       "0             4.318901  \n",
       "1             7.252085  \n",
       "2            10.000000  \n",
       "3             1.673050  \n",
       "4             5.395397  \n",
       "...                ...  \n",
       "8758          6.309692  \n",
       "8759         10.000000  \n",
       "8760         10.000000  \n",
       "8761          5.556013  \n",
       "8762         10.000000  \n",
       "\n",
       "[8763 rows x 8 columns]"
      ]
     },
     "execution_count": 67,
     "metadata": {},
     "output_type": "execute_result"
    }
   ],
   "source": [
    "df = pd.read_csv(\"DatasetAfterNonUniform.csv\")\n",
    "df"
   ]
  },
  {
   "cell_type": "code",
   "execution_count": 68,
   "id": "a04af975",
   "metadata": {},
   "outputs": [],
   "source": [
    "X = df[['Player', 'Pit', 'Goal', 'Wall']]\n",
    "y = df[['Q_Current']]"
   ]
  },
  {
   "cell_type": "code",
   "execution_count": 69,
   "id": "c58636d9",
   "metadata": {},
   "outputs": [
    {
     "data": {
      "text/html": [
       "<style>#sk-container-id-12 {color: black;background-color: white;}#sk-container-id-12 pre{padding: 0;}#sk-container-id-12 div.sk-toggleable {background-color: white;}#sk-container-id-12 label.sk-toggleable__label {cursor: pointer;display: block;width: 100%;margin-bottom: 0;padding: 0.3em;box-sizing: border-box;text-align: center;}#sk-container-id-12 label.sk-toggleable__label-arrow:before {content: \"▸\";float: left;margin-right: 0.25em;color: #696969;}#sk-container-id-12 label.sk-toggleable__label-arrow:hover:before {color: black;}#sk-container-id-12 div.sk-estimator:hover label.sk-toggleable__label-arrow:before {color: black;}#sk-container-id-12 div.sk-toggleable__content {max-height: 0;max-width: 0;overflow: hidden;text-align: left;background-color: #f0f8ff;}#sk-container-id-12 div.sk-toggleable__content pre {margin: 0.2em;color: black;border-radius: 0.25em;background-color: #f0f8ff;}#sk-container-id-12 input.sk-toggleable__control:checked~div.sk-toggleable__content {max-height: 200px;max-width: 100%;overflow: auto;}#sk-container-id-12 input.sk-toggleable__control:checked~label.sk-toggleable__label-arrow:before {content: \"▾\";}#sk-container-id-12 div.sk-estimator input.sk-toggleable__control:checked~label.sk-toggleable__label {background-color: #d4ebff;}#sk-container-id-12 div.sk-label input.sk-toggleable__control:checked~label.sk-toggleable__label {background-color: #d4ebff;}#sk-container-id-12 input.sk-hidden--visually {border: 0;clip: rect(1px 1px 1px 1px);clip: rect(1px, 1px, 1px, 1px);height: 1px;margin: -1px;overflow: hidden;padding: 0;position: absolute;width: 1px;}#sk-container-id-12 div.sk-estimator {font-family: monospace;background-color: #f0f8ff;border: 1px dotted black;border-radius: 0.25em;box-sizing: border-box;margin-bottom: 0.5em;}#sk-container-id-12 div.sk-estimator:hover {background-color: #d4ebff;}#sk-container-id-12 div.sk-parallel-item::after {content: \"\";width: 100%;border-bottom: 1px solid gray;flex-grow: 1;}#sk-container-id-12 div.sk-label:hover label.sk-toggleable__label {background-color: #d4ebff;}#sk-container-id-12 div.sk-serial::before {content: \"\";position: absolute;border-left: 1px solid gray;box-sizing: border-box;top: 0;bottom: 0;left: 50%;z-index: 0;}#sk-container-id-12 div.sk-serial {display: flex;flex-direction: column;align-items: center;background-color: white;padding-right: 0.2em;padding-left: 0.2em;position: relative;}#sk-container-id-12 div.sk-item {position: relative;z-index: 1;}#sk-container-id-12 div.sk-parallel {display: flex;align-items: stretch;justify-content: center;background-color: white;position: relative;}#sk-container-id-12 div.sk-item::before, #sk-container-id-12 div.sk-parallel-item::before {content: \"\";position: absolute;border-left: 1px solid gray;box-sizing: border-box;top: 0;bottom: 0;left: 50%;z-index: -1;}#sk-container-id-12 div.sk-parallel-item {display: flex;flex-direction: column;z-index: 1;position: relative;background-color: white;}#sk-container-id-12 div.sk-parallel-item:first-child::after {align-self: flex-end;width: 50%;}#sk-container-id-12 div.sk-parallel-item:last-child::after {align-self: flex-start;width: 50%;}#sk-container-id-12 div.sk-parallel-item:only-child::after {width: 0;}#sk-container-id-12 div.sk-dashed-wrapped {border: 1px dashed gray;margin: 0 0.4em 0.5em 0.4em;box-sizing: border-box;padding-bottom: 0.4em;background-color: white;}#sk-container-id-12 div.sk-label label {font-family: monospace;font-weight: bold;display: inline-block;line-height: 1.2em;}#sk-container-id-12 div.sk-label-container {text-align: center;}#sk-container-id-12 div.sk-container {/* jupyter's `normalize.less` sets `[hidden] { display: none; }` but bootstrap.min.css set `[hidden] { display: none !important; }` so we also need the `!important` here to be able to override the default hidden behavior on the sphinx rendered scikit-learn.org. See: https://github.com/scikit-learn/scikit-learn/issues/21755 */display: inline-block !important;position: relative;}#sk-container-id-12 div.sk-text-repr-fallback {display: none;}</style><div id=\"sk-container-id-12\" class=\"sk-top-container\"><div class=\"sk-text-repr-fallback\"><pre>LinearRegression()</pre><b>In a Jupyter environment, please rerun this cell to show the HTML representation or trust the notebook. <br />On GitHub, the HTML representation is unable to render, please try loading this page with nbviewer.org.</b></div><div class=\"sk-container\" hidden><div class=\"sk-item\"><div class=\"sk-estimator sk-toggleable\"><input class=\"sk-toggleable__control sk-hidden--visually\" id=\"sk-estimator-id-12\" type=\"checkbox\" checked><label for=\"sk-estimator-id-12\" class=\"sk-toggleable__label sk-toggleable__label-arrow\">LinearRegression</label><div class=\"sk-toggleable__content\"><pre>LinearRegression()</pre></div></div></div></div></div>"
      ],
      "text/plain": [
       "LinearRegression()"
      ]
     },
     "execution_count": 69,
     "metadata": {},
     "output_type": "execute_result"
    }
   ],
   "source": [
    "from sklearn.linear_model import LinearRegression\n",
    "regressor1 = LinearRegression()\n",
    "regressor1.fit(X.values,y.values.ravel())"
   ]
  },
  {
   "cell_type": "code",
   "execution_count": 70,
   "id": "ff5b17c3",
   "metadata": {},
   "outputs": [
    {
     "data": {
      "text/plain": [
       "37.81"
      ]
     },
     "execution_count": 70,
     "metadata": {},
     "output_type": "execute_result"
    }
   ],
   "source": [
    "y_pred = regressor1.predict(X.values)\n",
    "calculate_smape(y.values.ravel(),y_pred)"
   ]
  },
  {
   "cell_type": "code",
   "execution_count": 71,
   "id": "eb86bd92",
   "metadata": {},
   "outputs": [],
   "source": [
    "h = 0\n",
    "w, h = 13, 300000\n",
    "experience_mlp = [[0 for x in range(w)] for y in range(h)] \n",
    "\n",
    "global counter\n",
    "counter = 0"
   ]
  },
  {
   "cell_type": "code",
   "execution_count": 72,
   "id": "34561fd5",
   "metadata": {},
   "outputs": [
    {
     "name": "stdout",
     "output_type": "stream",
     "text": [
      "Games played: 1000, # of wins: 203\n",
      "0.203\n",
      "0.203\n",
      "Games played: 1000, # of wins: 184\n",
      "0.184\n",
      "0.387\n",
      "Games played: 1000, # of wins: 199\n",
      "0.199\n",
      "0.5860000000000001\n",
      "Games played: 1000, # of wins: 202\n",
      "0.202\n",
      "0.788\n",
      "Games played: 1000, # of wins: 210\n",
      "0.21\n",
      "0.998\n",
      "Games played: 1000, # of wins: 213\n",
      "0.213\n",
      "1.211\n",
      "Games played: 1000, # of wins: 198\n",
      "0.198\n",
      "1.409\n",
      "Games played: 1000, # of wins: 200\n",
      "0.2\n",
      "1.609\n",
      "Games played: 1000, # of wins: 220\n",
      "0.22\n",
      "1.829\n",
      "Games played: 1000, # of wins: 192\n",
      "0.192\n",
      "2.021\n",
      "Win percentage: 20.21%\n"
     ]
    }
   ],
   "source": [
    "win_num = 0\n",
    "for i in range(0,10):\n",
    "    max_games = 1000\n",
    "    wins = 0\n",
    "    for i in range(max_games):\n",
    "        win = mlp_test_model(regressor1, experience_mlp, 'random', display = False)\n",
    "        if win:\n",
    "            wins += 1\n",
    "    win_perc = float(wins) / float(max_games)\n",
    "    win_num = win_num + win_perc\n",
    "    print(\"Games played: {0}, # of wins: {1}\".format(max_games,wins))\n",
    "    print(win_perc)\n",
    "    print(win_num)\n",
    "win_num = win_num / 10\n",
    "print(\"Win percentage: {}%\".format(win_num*100))"
   ]
  },
  {
   "cell_type": "code",
   "execution_count": 73,
   "id": "5e7dc59d",
   "metadata": {},
   "outputs": [],
   "source": [
    "X = df[['Player', 'Pit', 'Goal', 'Wall']]\n",
    "y = df[['Bellman_Operator']]"
   ]
  },
  {
   "cell_type": "code",
   "execution_count": 74,
   "id": "19b95cd5",
   "metadata": {},
   "outputs": [
    {
     "data": {
      "text/html": [
       "<style>#sk-container-id-13 {color: black;background-color: white;}#sk-container-id-13 pre{padding: 0;}#sk-container-id-13 div.sk-toggleable {background-color: white;}#sk-container-id-13 label.sk-toggleable__label {cursor: pointer;display: block;width: 100%;margin-bottom: 0;padding: 0.3em;box-sizing: border-box;text-align: center;}#sk-container-id-13 label.sk-toggleable__label-arrow:before {content: \"▸\";float: left;margin-right: 0.25em;color: #696969;}#sk-container-id-13 label.sk-toggleable__label-arrow:hover:before {color: black;}#sk-container-id-13 div.sk-estimator:hover label.sk-toggleable__label-arrow:before {color: black;}#sk-container-id-13 div.sk-toggleable__content {max-height: 0;max-width: 0;overflow: hidden;text-align: left;background-color: #f0f8ff;}#sk-container-id-13 div.sk-toggleable__content pre {margin: 0.2em;color: black;border-radius: 0.25em;background-color: #f0f8ff;}#sk-container-id-13 input.sk-toggleable__control:checked~div.sk-toggleable__content {max-height: 200px;max-width: 100%;overflow: auto;}#sk-container-id-13 input.sk-toggleable__control:checked~label.sk-toggleable__label-arrow:before {content: \"▾\";}#sk-container-id-13 div.sk-estimator input.sk-toggleable__control:checked~label.sk-toggleable__label {background-color: #d4ebff;}#sk-container-id-13 div.sk-label input.sk-toggleable__control:checked~label.sk-toggleable__label {background-color: #d4ebff;}#sk-container-id-13 input.sk-hidden--visually {border: 0;clip: rect(1px 1px 1px 1px);clip: rect(1px, 1px, 1px, 1px);height: 1px;margin: -1px;overflow: hidden;padding: 0;position: absolute;width: 1px;}#sk-container-id-13 div.sk-estimator {font-family: monospace;background-color: #f0f8ff;border: 1px dotted black;border-radius: 0.25em;box-sizing: border-box;margin-bottom: 0.5em;}#sk-container-id-13 div.sk-estimator:hover {background-color: #d4ebff;}#sk-container-id-13 div.sk-parallel-item::after {content: \"\";width: 100%;border-bottom: 1px solid gray;flex-grow: 1;}#sk-container-id-13 div.sk-label:hover label.sk-toggleable__label {background-color: #d4ebff;}#sk-container-id-13 div.sk-serial::before {content: \"\";position: absolute;border-left: 1px solid gray;box-sizing: border-box;top: 0;bottom: 0;left: 50%;z-index: 0;}#sk-container-id-13 div.sk-serial {display: flex;flex-direction: column;align-items: center;background-color: white;padding-right: 0.2em;padding-left: 0.2em;position: relative;}#sk-container-id-13 div.sk-item {position: relative;z-index: 1;}#sk-container-id-13 div.sk-parallel {display: flex;align-items: stretch;justify-content: center;background-color: white;position: relative;}#sk-container-id-13 div.sk-item::before, #sk-container-id-13 div.sk-parallel-item::before {content: \"\";position: absolute;border-left: 1px solid gray;box-sizing: border-box;top: 0;bottom: 0;left: 50%;z-index: -1;}#sk-container-id-13 div.sk-parallel-item {display: flex;flex-direction: column;z-index: 1;position: relative;background-color: white;}#sk-container-id-13 div.sk-parallel-item:first-child::after {align-self: flex-end;width: 50%;}#sk-container-id-13 div.sk-parallel-item:last-child::after {align-self: flex-start;width: 50%;}#sk-container-id-13 div.sk-parallel-item:only-child::after {width: 0;}#sk-container-id-13 div.sk-dashed-wrapped {border: 1px dashed gray;margin: 0 0.4em 0.5em 0.4em;box-sizing: border-box;padding-bottom: 0.4em;background-color: white;}#sk-container-id-13 div.sk-label label {font-family: monospace;font-weight: bold;display: inline-block;line-height: 1.2em;}#sk-container-id-13 div.sk-label-container {text-align: center;}#sk-container-id-13 div.sk-container {/* jupyter's `normalize.less` sets `[hidden] { display: none; }` but bootstrap.min.css set `[hidden] { display: none !important; }` so we also need the `!important` here to be able to override the default hidden behavior on the sphinx rendered scikit-learn.org. See: https://github.com/scikit-learn/scikit-learn/issues/21755 */display: inline-block !important;position: relative;}#sk-container-id-13 div.sk-text-repr-fallback {display: none;}</style><div id=\"sk-container-id-13\" class=\"sk-top-container\"><div class=\"sk-text-repr-fallback\"><pre>LinearRegression()</pre><b>In a Jupyter environment, please rerun this cell to show the HTML representation or trust the notebook. <br />On GitHub, the HTML representation is unable to render, please try loading this page with nbviewer.org.</b></div><div class=\"sk-container\" hidden><div class=\"sk-item\"><div class=\"sk-estimator sk-toggleable\"><input class=\"sk-toggleable__control sk-hidden--visually\" id=\"sk-estimator-id-13\" type=\"checkbox\" checked><label for=\"sk-estimator-id-13\" class=\"sk-toggleable__label sk-toggleable__label-arrow\">LinearRegression</label><div class=\"sk-toggleable__content\"><pre>LinearRegression()</pre></div></div></div></div></div>"
      ],
      "text/plain": [
       "LinearRegression()"
      ]
     },
     "execution_count": 74,
     "metadata": {},
     "output_type": "execute_result"
    }
   ],
   "source": [
    "from sklearn.linear_model import LinearRegression\n",
    "regressor1 = LinearRegression()\n",
    "regressor1.fit(X.values,y.values.ravel())"
   ]
  },
  {
   "cell_type": "code",
   "execution_count": 75,
   "id": "23440b77",
   "metadata": {},
   "outputs": [
    {
     "data": {
      "text/plain": [
       "41.75"
      ]
     },
     "execution_count": 75,
     "metadata": {},
     "output_type": "execute_result"
    }
   ],
   "source": [
    "y_pred = regressor1.predict(X.values)\n",
    "calculate_smape(y.values.ravel(),y_pred)"
   ]
  },
  {
   "cell_type": "code",
   "execution_count": 76,
   "id": "5e9df089",
   "metadata": {},
   "outputs": [],
   "source": [
    "h = 0\n",
    "w, h = 13, 300000\n",
    "experience_mlp = [[0 for x in range(w)] for y in range(h)] \n",
    "\n",
    "global counter\n",
    "counter = 0"
   ]
  },
  {
   "cell_type": "code",
   "execution_count": 77,
   "id": "e5038df9",
   "metadata": {},
   "outputs": [
    {
     "name": "stdout",
     "output_type": "stream",
     "text": [
      "Games played: 1000, # of wins: 199\n",
      "0.199\n",
      "0.199\n",
      "Games played: 1000, # of wins: 195\n",
      "0.195\n",
      "0.394\n",
      "Games played: 1000, # of wins: 214\n",
      "0.214\n",
      "0.608\n",
      "Games played: 1000, # of wins: 202\n",
      "0.202\n",
      "0.81\n",
      "Games played: 1000, # of wins: 212\n",
      "0.212\n",
      "1.022\n",
      "Games played: 1000, # of wins: 222\n",
      "0.222\n",
      "1.244\n",
      "Games played: 1000, # of wins: 201\n",
      "0.201\n",
      "1.445\n",
      "Games played: 1000, # of wins: 204\n",
      "0.204\n",
      "1.649\n",
      "Games played: 1000, # of wins: 211\n",
      "0.211\n",
      "1.86\n",
      "Games played: 1000, # of wins: 165\n",
      "0.165\n",
      "2.025\n",
      "Win percentage: 20.25%\n"
     ]
    }
   ],
   "source": [
    "win_num = 0\n",
    "for i in range(0,10):\n",
    "    max_games = 1000\n",
    "    wins = 0\n",
    "    for i in range(max_games):\n",
    "        win = mlp_test_model(regressor1, experience_mlp, 'random', display = False)\n",
    "        if win:\n",
    "            wins += 1\n",
    "    win_perc = float(wins) / float(max_games)\n",
    "    win_num = win_num + win_perc\n",
    "    print(\"Games played: {0}, # of wins: {1}\".format(max_games,wins))\n",
    "    print(win_perc)\n",
    "    print(win_num)\n",
    "win_num = win_num / 10\n",
    "print(\"Win percentage: {}%\".format(win_num*100))"
   ]
  }
 ],
 "metadata": {
  "kernelspec": {
   "display_name": "Python 3 (ipykernel)",
   "language": "python",
   "name": "python3"
  },
  "language_info": {
   "codemirror_mode": {
    "name": "ipython",
    "version": 3
   },
   "file_extension": ".py",
   "mimetype": "text/x-python",
   "name": "python",
   "nbconvert_exporter": "python",
   "pygments_lexer": "ipython3",
   "version": "3.9.13"
  }
 },
 "nbformat": 4,
 "nbformat_minor": 5
}
