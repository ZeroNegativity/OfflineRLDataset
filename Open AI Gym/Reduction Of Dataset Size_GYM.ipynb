{
 "cells": [
  {
   "cell_type": "markdown",
   "id": "2900d33e",
   "metadata": {},
   "source": [
    "# Reduction Of Dataset Size\n",
    "\n",
    "**Content**:\n",
    "1. [Libraries](#libraries)\n",
    "2. [Gridworld Creation](#gridworld)\n",
    "3. [Functions](#funct)\n",
    "4. [Uniform Dataset MLP Performance](#mlpuniform)\n",
    "5. [MLP performance on 90% of the dataset](#mlpuniform_90)\n",
    "6. [MLP performance on 80% of the dataset](#mlpuniform_80)\n",
    "7. [MLP performance on 70% of the dataset](#mlpuniform_70)\n",
    "8. [MLP performance on 60% of the dataset](#mlpuniform_60)\n",
    "9. [MLP performance on 50% of the dataset](#mlpuniform_50)\n",
    "10. [MLP performance on 40% of the dataset](#mlpuniform_40)\n",
    "11. [MLP performance on 30% of the dataset](#mlpuniform_30)\n",
    "12. [MLP performance on 20% of the dataset](#mlpuniform_20)"
   ]
  },
  {
   "cell_type": "markdown",
   "id": "fac391c3",
   "metadata": {},
   "source": [
    "## 1. Libraries <a id = \"libraries\"> "
   ]
  },
  {
   "cell_type": "code",
   "execution_count": 1,
   "id": "ffcd610d-369a-4d80-83f3-78263a60fba6",
   "metadata": {},
   "outputs": [],
   "source": [
    "import numpy as np\n",
    "import random\n",
    "import sys\n",
    "import pandas as pd\n",
    "from sklearn.neural_network import MLPRegressor\n",
    "from sklearn.model_selection import train_test_split, cross_validate, GridSearchCV, validation_curve\n",
    "from sklearn.model_selection import train_test_split\n",
    "from sklearn.metrics import make_scorer"
   ]
  },
  {
   "cell_type": "markdown",
   "id": "fb142a52",
   "metadata": {},
   "source": [
    "## 2. Gridworld Creation <a id = \"gridworld\">"
   ]
  },
  {
   "cell_type": "code",
   "execution_count": 2,
   "id": "65334346-181d-463a-9c73-03312935b709",
   "metadata": {},
   "outputs": [],
   "source": [
    "def randPair(s,e):\n",
    "    return np.random.randint(s,e), np.random.randint(s,e)\n",
    "\n",
    "class BoardPiece:\n",
    "\n",
    "    def __init__(self, name, code, pos):\n",
    "        self.name = name #name of the piece\n",
    "        self.code = code #an ASCII character to display on the board\n",
    "        self.pos = pos #2-tuple e.g. (1,4)\n",
    "\n",
    "class BoardMask:\n",
    "\n",
    "    def __init__(self, name, mask, code):\n",
    "        self.name = name\n",
    "        self.mask = mask\n",
    "        self.code = code\n",
    "\n",
    "    def get_positions(self): #returns tuple of arrays\n",
    "        return np.nonzero(self.mask)\n",
    "\n",
    "def zip_positions2d(positions): #positions is tuple of two arrays\n",
    "    x,y = positions\n",
    "    return list(zip(x,y))\n",
    "\n",
    "class GridBoard:\n",
    "\n",
    "    def __init__(self, size=4):\n",
    "        self.size = size #Board dimensions, e.g. 4 x 4\n",
    "        self.components = {} #name : board piece\n",
    "        self.masks = {}\n",
    "\n",
    "    def addPiece(self, name, code, pos=(0,0)):\n",
    "        newPiece = BoardPiece(name, code, pos)\n",
    "        self.components[name] = newPiece\n",
    "\n",
    "    #basically a set of boundary elements\n",
    "    def addMask(self, name, mask, code):\n",
    "        #mask is a 2D-numpy array with 1s where the boundary elements are\n",
    "        newMask = BoardMask(name, mask, code)\n",
    "        self.masks[name] = newMask\n",
    "\n",
    "    def movePiece(self, name, pos):\n",
    "        move = True\n",
    "        for _, mask in self.masks.items():\n",
    "            if pos in zip_positions2d(mask.get_positions()):\n",
    "                move = False\n",
    "        if move:\n",
    "            self.components[name].pos = pos\n",
    "\n",
    "    def delPiece(self, name):\n",
    "        del self.components['name']\n",
    "\n",
    "    def render(self):\n",
    "        dtype = '<U2'\n",
    "        displ_board = np.zeros((self.size, self.size), dtype=dtype)\n",
    "        displ_board[:] = ' '\n",
    "\n",
    "        for name, piece in self.components.items():\n",
    "            displ_board[piece.pos] = piece.code\n",
    "\n",
    "        for name, mask in self.masks.items():\n",
    "            displ_board[mask.get_positions()] = mask.code\n",
    "\n",
    "        return displ_board\n",
    "\n",
    "    def render_np(self):\n",
    "        num_pieces = len(self.components) + len(self.masks)\n",
    "        displ_board = np.zeros((num_pieces, self.size, self.size), dtype=np.uint8)\n",
    "        layer = 0\n",
    "        for name, piece in self.components.items():\n",
    "            pos = (layer,) + piece.pos\n",
    "            displ_board[pos] = 1\n",
    "            layer += 1\n",
    "\n",
    "        for name, mask in self.masks.items():\n",
    "            x,y = self.masks['boundary'].get_positions()\n",
    "            z = np.repeat(layer,len(x))\n",
    "            a = (z,x,y)\n",
    "            displ_board[a] = 1\n",
    "            layer += 1\n",
    "        return displ_board\n",
    "\n",
    "def addTuple(a,b):\n",
    "    return tuple([sum(x) for x in zip(a,b)])"
   ]
  },
  {
   "cell_type": "code",
   "execution_count": 3,
   "id": "d5bd3c95-fa58-4bcb-b010-32e8cb74f130",
   "metadata": {},
   "outputs": [],
   "source": [
    "class Gridworld:\n",
    "\n",
    "    def __init__(self, size=4, mode='static'):\n",
    "        if size >= 4:\n",
    "            self.board = GridBoard(size=size)\n",
    "        else:\n",
    "            print(\"Minimum board size is 4. Initialized to size 4.\")\n",
    "            self.board = GridBoard(size=4)\n",
    "\n",
    "        #Add pieces, positions will be updated later\n",
    "        self.board.addPiece('Player','P',(0,0))\n",
    "        self.board.addPiece('Goal','+',(0,3))\n",
    "        self.board.addPiece('Pit','-',(0,3))\n",
    "        self.board.addPiece('Wall','W',(2,3))\n",
    "\n",
    "        if mode == 'static':\n",
    "            self.initGridStatic()\n",
    "        elif mode == 'player':\n",
    "            self.initGridPlayer()\n",
    "        else:\n",
    "            self.initGridRand()\n",
    "\n",
    "    #Initialize stationary grid, all items are placed deterministically\n",
    "    def initGridStatic(self):\n",
    "        #Setup static pieces\n",
    "        self.board.components['Player'].pos = randPair(0,self.board.size) #Row, Column\n",
    "        self.board.components['Goal'].pos = (3,0)\n",
    "        self.board.components['Pit'].pos = (3,1)\n",
    "        self.board.components['Wall'].pos = (3,2)\n",
    "        \n",
    "        if (not self.validateBoard()):\n",
    "            #print('Invalid grid. Rebuilding..')\n",
    "            self.initGridStatic()\n",
    "\n",
    "\n",
    "    #Check if board is initialized appropriately (no overlapping pieces)\n",
    "    #also remove impossible-to-win boards\n",
    "    def validateBoard(self):\n",
    "        valid = True\n",
    "\n",
    "        player = self.board.components['Player']\n",
    "        goal = self.board.components['Goal']\n",
    "        wall = self.board.components['Wall']\n",
    "        pit = self.board.components['Pit']\n",
    "\n",
    "        all_positions = [piece for name,piece in self.board.components.items()]\n",
    "        all_positions = [player.pos, goal.pos, wall.pos, pit.pos]\n",
    "        if len(all_positions) > len(set(all_positions)):\n",
    "            return False\n",
    "\n",
    "        corners = [(0,0),(0,self.board.size), (self.board.size,0), (self.board.size,self.board.size)]\n",
    "        #if player is in corner, can it move? if goal is in corner, is it blocked?\n",
    "        if player.pos in corners or goal.pos in corners:\n",
    "            val_move_pl = [self.validateMove('Player', addpos) for addpos in [(0,1),(1,0),(-1,0),(0,-1)]]\n",
    "            val_move_go = [self.validateMove('Goal', addpos) for addpos in [(0,1),(1,0),(-1,0),(0,-1)]]\n",
    "            if 0 not in val_move_pl or 0 not in val_move_go:\n",
    "                #print(self.display())\n",
    "                #print(\"Invalid board. Re-initializing...\")\n",
    "                valid = False\n",
    "\n",
    "        return valid\n",
    "\n",
    "    #Initialize player in random location, but keep wall, goal and pit stationary\n",
    "    def initGridPlayer(self):\n",
    "        #height x width x depth (number of pieces)\n",
    "        self.initGridStatic()\n",
    "        #place player\n",
    "        self.board.components['Player'].pos = randPair(0,self.board.size)\n",
    "\n",
    "        if (not self.validateBoard()):\n",
    "            #print('Invalid grid. Rebuilding..')\n",
    "            self.initGridPlayer()\n",
    "\n",
    "    #Initialize grid so that goal, pit, wall, player are all randomly placed\n",
    "    def initGridRand(self):\n",
    "        #height x width x depth (number of pieces)\n",
    "        self.board.components['Player'].pos = randPair(0,self.board.size)\n",
    "        self.board.components['Goal'].pos = randPair(0,self.board.size)\n",
    "        self.board.components['Pit'].pos = randPair(0,self.board.size)\n",
    "        self.board.components['Wall'].pos = randPair(0,self.board.size)\n",
    "\n",
    "        if (not self.validateBoard()):\n",
    "            #print('Invalid grid. Rebuilding..')\n",
    "            self.initGridRand()\n",
    "\n",
    "    def validateMove(self, piece, addpos=(0,0)):\n",
    "        outcome = 0 #0 is valid, 1 invalid, 2 lost game\n",
    "        pit = self.board.components['Pit'].pos\n",
    "        wall = self.board.components['Wall'].pos\n",
    "        new_pos = addTuple(self.board.components[piece].pos, addpos)\n",
    "        if new_pos == wall:\n",
    "            outcome = 1 #block move, player can't move to wall\n",
    "        elif max(new_pos) > (self.board.size-1):    #if outside bounds of board\n",
    "            outcome = 1\n",
    "        elif min(new_pos) < 0: #if outside bounds\n",
    "            outcome = 1\n",
    "        elif new_pos == pit:\n",
    "            outcome = 2\n",
    "\n",
    "        return outcome\n",
    "\n",
    "    def makeMove(self, action):\n",
    "        #need to determine what object (if any) is in the new grid spot the player is moving to\n",
    "        #actions in {u,d,l,r}\n",
    "        def checkMove(addpos):\n",
    "            if self.validateMove('Player', addpos) in [0,2]:\n",
    "                new_pos = addTuple(self.board.components['Player'].pos, addpos)\n",
    "                self.board.movePiece('Player', new_pos)\n",
    "\n",
    "        if action == 'u': #up\n",
    "            checkMove((-1,0))\n",
    "        elif action == 'd': #down\n",
    "            checkMove((1,0))\n",
    "        elif action == 'l': #left\n",
    "            checkMove((0,-1))\n",
    "        elif action == 'r': #right\n",
    "            checkMove((0,1))\n",
    "        else:\n",
    "            pass\n",
    "\n",
    "    def reward(self):\n",
    "        if (self.board.components['Player'].pos == self.board.components['Pit'].pos):\n",
    "            return -10\n",
    "        elif (self.board.components['Player'].pos == self.board.components['Goal'].pos):\n",
    "            return 10\n",
    "        else:\n",
    "            return -1\n",
    "\n",
    "    def display(self):\n",
    "        return self.board.render()"
   ]
  },
  {
   "cell_type": "code",
   "execution_count": 4,
   "id": "4997431e-08f0-415a-af39-bbdcf434eab9",
   "metadata": {},
   "outputs": [],
   "source": [
    "action_set = {\n",
    "    0: 'u',\n",
    "    1: 'd',\n",
    "    2: 'l',\n",
    "    3: 'r',\n",
    "}"
   ]
  },
  {
   "cell_type": "markdown",
   "id": "fa063466",
   "metadata": {},
   "source": [
    "## 3. Functions <a id = 'funct'> "
   ]
  },
  {
   "cell_type": "code",
   "execution_count": 5,
   "id": "030d1737-cacb-41e7-9037-fe9b0db88eb6",
   "metadata": {},
   "outputs": [],
   "source": [
    "\"\"\"\n",
    "from2dto1d:\n",
    "    Args: \n",
    "        pos(tuple):2d position of the objects(Player, Wall, Goal, Pit) in the gridworld\n",
    "    Return:\n",
    "        return(integer): 1d position of the objects(Player, Wall, Goal, Pit)in the gridworld\n",
    "\"\"\" \n",
    "def from2dto1d(pos):\n",
    "    if pos == '(0, 0)':\n",
    "        return 0\n",
    "    if pos == '(0, 1)':\n",
    "        return 1\n",
    "    if pos == '(0, 2)':\n",
    "        return 2\n",
    "    if pos == '(0, 3)':\n",
    "        return 3\n",
    "    if pos == '(1, 0)':\n",
    "        return 4\n",
    "    if pos == '(1, 1)':\n",
    "        return 5\n",
    "    if pos == '(1, 2)':\n",
    "        return 6\n",
    "    if pos == '(1, 3)':\n",
    "        return 7\n",
    "    if pos == '(2, 0)':\n",
    "        return 8\n",
    "    if pos == '(2, 1)':\n",
    "        return 9\n",
    "    if pos == '(2, 2)':\n",
    "        return 10\n",
    "    if pos == '(2, 3)':\n",
    "        return 11\n",
    "    if pos == '(3, 0)':\n",
    "        return 12\n",
    "    if pos == '(3, 1)':\n",
    "        return 13\n",
    "    if pos == '(3, 2)':\n",
    "        return 14\n",
    "    if pos == '(3, 3)':\n",
    "        return 15"
   ]
  },
  {
   "cell_type": "code",
   "execution_count": 6,
   "id": "8d239c76-ac12-44ba-b36d-522bd601dae5",
   "metadata": {},
   "outputs": [],
   "source": [
    "def from1dto2d(pos):\n",
    "    if pos == 0:\n",
    "        return (0, 0)\n",
    "    if pos == 1:\n",
    "        return (0, 1)\n",
    "    if pos == 2:\n",
    "        return (0, 2)\n",
    "    if pos == 3:\n",
    "        return (0, 3)\n",
    "    if pos == 4:\n",
    "        return (1, 0)\n",
    "    if pos == 5:\n",
    "        return (1, 1)\n",
    "    if pos == 6:\n",
    "        return (1, 2)\n",
    "    if pos == 7:\n",
    "        return (1, 3)\n",
    "    if pos == 8:\n",
    "        return (2, 0)\n",
    "    if pos == 9:\n",
    "        return (2, 1)\n",
    "    if pos == 10:\n",
    "        return (2, 2)\n",
    "    if pos == 11:\n",
    "        return (2, 3)\n",
    "    if pos == 12:\n",
    "        return (3, 0)\n",
    "    if pos == 13:\n",
    "        return (3, 1)\n",
    "    if pos == 14:\n",
    "        return (3, 2)\n",
    "    if pos == 15:\n",
    "        return (3, 3)"
   ]
  },
  {
   "cell_type": "code",
   "execution_count": 7,
   "id": "84848635-1cba-4297-a84f-0cb7fe80ce1c",
   "metadata": {},
   "outputs": [],
   "source": [
    "\"\"\"\n",
    "from_num_to_one_hot_encode:\n",
    "    Args: \n",
    "        num(int): number from 0 to 15 representing the state of the objects(Player, Wall, Goal, Pit) in the gridworld\n",
    "    Return:\n",
    "        return(tuple): encoded binary code with the size of 16-bit \n",
    "\"\"\"\n",
    "def from_num_to_one_hot_encode(num):\n",
    "    en0,en1,en2,en3,en4,en5,en6,en7,en8,en9,en10,en11,en12,en13,en14,en15 = 0,0,0,0,0,0,0,0,0,0,0,0,0,0,0,0\n",
    "    if num == 0:\n",
    "        en0 = 1\n",
    "    if num == 1:\n",
    "        en1 = 1\n",
    "    if num == 2:\n",
    "        en2 = 1\n",
    "    if num == 3:\n",
    "        en3 = 1\n",
    "    if num == 4:\n",
    "        en4 = 1\n",
    "    if num == 5:\n",
    "        en5 = 1\n",
    "    if num == 6:\n",
    "        en6 = 1\n",
    "    if num == 7:\n",
    "        en7 = 1\n",
    "    if num == 8:\n",
    "        en8 = 1\n",
    "    if num == 9:\n",
    "        en9 = 1\n",
    "    if num == 10:\n",
    "        en10 = 1\n",
    "    if num == 11:\n",
    "        en11 = 1\n",
    "    if num == 12:\n",
    "        en12 = 1\n",
    "    if num == 13:\n",
    "        en13 = 1\n",
    "    if num == 14:\n",
    "        en14 = 1\n",
    "    if num == 15:\n",
    "        en15 = 1\n",
    "    return en0,en1,en2,en3,en4,en5,en6,en7,en8,en9,en10,en11,en12,en13,en14,en15"
   ]
  },
  {
   "cell_type": "code",
   "execution_count": 8,
   "id": "b7c58d42",
   "metadata": {},
   "outputs": [],
   "source": [
    "def calculate_smape(actual, predicted) -> float:\n",
    "    if not all([isinstance(actual, np.ndarray), \n",
    "                isinstance(predicted, np.ndarray)]):\n",
    "        actual, predicted = np.array(actual),\n",
    "        np.array(predicted)\n",
    "  \n",
    "    return round(\n",
    "        np.mean(\n",
    "            np.abs(predicted - actual) / \n",
    "            ((np.abs(predicted) + np.abs(actual))/2)\n",
    "        )*100, 2\n",
    "    )"
   ]
  },
  {
   "cell_type": "code",
   "execution_count": 9,
   "id": "723e8003",
   "metadata": {},
   "outputs": [],
   "source": [
    "score = make_scorer(calculate_smape)"
   ]
  },
  {
   "cell_type": "code",
   "execution_count": 10,
   "id": "4c75e3c9",
   "metadata": {},
   "outputs": [],
   "source": [
    "def gridworld_test_model(model_b, mode='static', display=True):\n",
    "    i = 0\n",
    "    test_game = Gridworld(mode=mode)\n",
    "    if display:\n",
    "        print(\"Initial State:\")\n",
    "        print(test_game.display())\n",
    "    status = 1\n",
    "    j = 0\n",
    "    while(status == 1): #A\n",
    "        p_curr = from2dto1d((str(test_game.board.components['Player'].pos)))\n",
    "        pi = from2dto1d((str(test_game.board.components['Pit'].pos)))\n",
    "        g = from2dto1d((str(test_game.board.components['Goal'].pos)))\n",
    "        w = from2dto1d((str(test_game.board.components['Wall'].pos)))\n",
    "\n",
    "        q_value_next = []\n",
    "\n",
    "        test_game.makeMove('u')\n",
    "        p = from2dto1d((str(test_game.board.components['Player'].pos)))\n",
    "        \n",
    "        if p_curr != p:\n",
    "            en0,en1,en2,en3,en4,en5,en6,en7,en8,en9,en10,en11,en12,en13,en14,en15 = from_num_to_one_hot_encode(p)\n",
    "            reward = test_game.reward()\n",
    "            q_value_next.append(model_b.predict([[p,pi,g,w]])[0])\n",
    "            test_game.makeMove('d')\n",
    "        else:\n",
    "            q_value_next.append(-10)\n",
    "        \n",
    "        test_game.makeMove('d')\n",
    "        p = from2dto1d((str(test_game.board.components['Player'].pos)))\n",
    "        \n",
    "        if p_curr != p:\n",
    "            en0,en1,en2,en3,en4,en5,en6,en7,en8,en9,en10,en11,en12,en13,en14,en15 = from_num_to_one_hot_encode(p)\n",
    "            reward = test_game.reward()\n",
    "            q_value_next.append(model_b.predict([[p,pi,g,w]])[0])\n",
    "            test_game.makeMove('u')\n",
    "        else:\n",
    "            q_value_next.append(-10)\n",
    "        \n",
    "        test_game.makeMove('l')\n",
    "        p = from2dto1d((str(test_game.board.components['Player'].pos)))\n",
    "        \n",
    "\n",
    "        if p_curr != p:\n",
    "            test_game.makeMove('r')\n",
    "            en0,en1,en2,en3,en4,en5,en6,en7,en8,en9,en10,en11,en12,en13,en14,en15 = from_num_to_one_hot_encode(p)\n",
    "            reward = test_game.reward()\n",
    "            q_value_next.append(model_b.predict([[p,pi,g,w]])[0])\n",
    "        else:\n",
    "            q_value_next.append(-10)\n",
    "        \n",
    "        test_game.makeMove('r')\n",
    "        p = from2dto1d((str(test_game.board.components['Player'].pos)))\n",
    "        \n",
    "\n",
    "        if p_curr != p:\n",
    "            en0,en1,en2,en3,en4,en5,en6,en7,en8,en9,en10,en11,en12,en13,en14,en15 = from_num_to_one_hot_encode(p)\n",
    "            reward = test_game.reward()\n",
    "            q_value_next.append(model_b.predict([[p,pi,g,w]])[0])\n",
    "            test_game.makeMove('l')\n",
    "        else:\n",
    "            q_value_next.append(-10)\n",
    "        \n",
    "#         print(q_value_next)\n",
    "        \n",
    "        \n",
    "        action_ = np.argmax(q_value_next)\n",
    "#         print(action_)\n",
    "        action = action_set[action_]\n",
    "        \n",
    "        \n",
    "    \n",
    "        if display:\n",
    "            print('Move #: %s; Taking action: %s' % (i, action))\n",
    "        test_game.makeMove(action)\n",
    "        p_next = from2dto1d((str(test_game.board.components['Player'].pos)))\n",
    "\n",
    "        j += 1\n",
    "        if display:\n",
    "            print(test_game.display())\n",
    "        reward = test_game.reward()\n",
    "        if reward != -1:\n",
    "            if reward > 0:\n",
    "                status = 2\n",
    "                if display:\n",
    "                    print(\"Game won! Reward: %s\" % (reward,))\n",
    "            else:\n",
    "                status = 0\n",
    "                if display:\n",
    "                    print(\"Game LOST. Reward: %s\" % (reward,))\n",
    "        i += 1\n",
    "        if (i > 15):\n",
    "            if display:\n",
    "                print(\"Game lost; too many moves.\")\n",
    "            break\n",
    "    \n",
    "    win = True if status == 2 else False\n",
    "    return win"
   ]
  },
  {
   "cell_type": "markdown",
   "id": "b58ba152",
   "metadata": {},
   "source": [
    "### Dataset"
   ]
  },
  {
   "cell_type": "code",
   "execution_count": 18,
   "id": "83402fa7-d2ab-45aa-8fc5-e82cabdb49c2",
   "metadata": {},
   "outputs": [
    {
     "data": {
      "text/html": [
       "<div>\n",
       "<style scoped>\n",
       "    .dataframe tbody tr th:only-of-type {\n",
       "        vertical-align: middle;\n",
       "    }\n",
       "\n",
       "    .dataframe tbody tr th {\n",
       "        vertical-align: top;\n",
       "    }\n",
       "\n",
       "    .dataframe thead th {\n",
       "        text-align: right;\n",
       "    }\n",
       "</style>\n",
       "<table border=\"1\" class=\"dataframe\">\n",
       "  <thead>\n",
       "    <tr style=\"text-align: right;\">\n",
       "      <th></th>\n",
       "      <th>Unnamed: 0</th>\n",
       "      <th>Player</th>\n",
       "      <th>Goal</th>\n",
       "      <th>Wall</th>\n",
       "      <th>Pit</th>\n",
       "      <th>Q_Current</th>\n",
       "      <th>Reward_Current</th>\n",
       "      <th>Bellman_Operator</th>\n",
       "    </tr>\n",
       "  </thead>\n",
       "  <tbody>\n",
       "    <tr>\n",
       "      <th>0</th>\n",
       "      <td>0</td>\n",
       "      <td>0</td>\n",
       "      <td>2</td>\n",
       "      <td>1</td>\n",
       "      <td>0</td>\n",
       "      <td>3.076944</td>\n",
       "      <td>-10</td>\n",
       "      <td>2.500878</td>\n",
       "    </tr>\n",
       "    <tr>\n",
       "      <th>1</th>\n",
       "      <td>1</td>\n",
       "      <td>2</td>\n",
       "      <td>2</td>\n",
       "      <td>1</td>\n",
       "      <td>0</td>\n",
       "      <td>9.783095</td>\n",
       "      <td>10</td>\n",
       "      <td>10.000000</td>\n",
       "    </tr>\n",
       "    <tr>\n",
       "      <th>2</th>\n",
       "      <td>2</td>\n",
       "      <td>3</td>\n",
       "      <td>2</td>\n",
       "      <td>1</td>\n",
       "      <td>0</td>\n",
       "      <td>8.355206</td>\n",
       "      <td>-1</td>\n",
       "      <td>10.000000</td>\n",
       "    </tr>\n",
       "    <tr>\n",
       "      <th>3</th>\n",
       "      <td>3</td>\n",
       "      <td>4</td>\n",
       "      <td>2</td>\n",
       "      <td>1</td>\n",
       "      <td>0</td>\n",
       "      <td>3.889865</td>\n",
       "      <td>-1</td>\n",
       "      <td>5.049356</td>\n",
       "    </tr>\n",
       "    <tr>\n",
       "      <th>4</th>\n",
       "      <td>4</td>\n",
       "      <td>5</td>\n",
       "      <td>2</td>\n",
       "      <td>1</td>\n",
       "      <td>0</td>\n",
       "      <td>6.721507</td>\n",
       "      <td>-1</td>\n",
       "      <td>5.925810</td>\n",
       "    </tr>\n",
       "    <tr>\n",
       "      <th>...</th>\n",
       "      <td>...</td>\n",
       "      <td>...</td>\n",
       "      <td>...</td>\n",
       "      <td>...</td>\n",
       "      <td>...</td>\n",
       "      <td>...</td>\n",
       "      <td>...</td>\n",
       "      <td>...</td>\n",
       "    </tr>\n",
       "    <tr>\n",
       "      <th>50395</th>\n",
       "      <td>50395</td>\n",
       "      <td>8</td>\n",
       "      <td>13</td>\n",
       "      <td>14</td>\n",
       "      <td>15</td>\n",
       "      <td>4.916274</td>\n",
       "      <td>-1</td>\n",
       "      <td>6.444922</td>\n",
       "    </tr>\n",
       "    <tr>\n",
       "      <th>50396</th>\n",
       "      <td>50396</td>\n",
       "      <td>13</td>\n",
       "      <td>13</td>\n",
       "      <td>14</td>\n",
       "      <td>15</td>\n",
       "      <td>6.726671</td>\n",
       "      <td>10</td>\n",
       "      <td>10.000000</td>\n",
       "    </tr>\n",
       "    <tr>\n",
       "      <th>50397</th>\n",
       "      <td>50397</td>\n",
       "      <td>9</td>\n",
       "      <td>13</td>\n",
       "      <td>14</td>\n",
       "      <td>15</td>\n",
       "      <td>8.272136</td>\n",
       "      <td>-1</td>\n",
       "      <td>5.490914</td>\n",
       "    </tr>\n",
       "    <tr>\n",
       "      <th>50398</th>\n",
       "      <td>50398</td>\n",
       "      <td>12</td>\n",
       "      <td>13</td>\n",
       "      <td>14</td>\n",
       "      <td>15</td>\n",
       "      <td>4.600275</td>\n",
       "      <td>-1</td>\n",
       "      <td>10.000000</td>\n",
       "    </tr>\n",
       "    <tr>\n",
       "      <th>50399</th>\n",
       "      <td>50399</td>\n",
       "      <td>11</td>\n",
       "      <td>13</td>\n",
       "      <td>14</td>\n",
       "      <td>15</td>\n",
       "      <td>1.282954</td>\n",
       "      <td>-1</td>\n",
       "      <td>3.581289</td>\n",
       "    </tr>\n",
       "  </tbody>\n",
       "</table>\n",
       "<p>50400 rows × 8 columns</p>\n",
       "</div>"
      ],
      "text/plain": [
       "       Unnamed: 0  Player  Goal  Wall  Pit  Q_Current  Reward_Current  \\\n",
       "0               0       0     2     1    0   3.076944             -10   \n",
       "1               1       2     2     1    0   9.783095              10   \n",
       "2               2       3     2     1    0   8.355206              -1   \n",
       "3               3       4     2     1    0   3.889865              -1   \n",
       "4               4       5     2     1    0   6.721507              -1   \n",
       "...           ...     ...   ...   ...  ...        ...             ...   \n",
       "50395       50395       8    13    14   15   4.916274              -1   \n",
       "50396       50396      13    13    14   15   6.726671              10   \n",
       "50397       50397       9    13    14   15   8.272136              -1   \n",
       "50398       50398      12    13    14   15   4.600275              -1   \n",
       "50399       50399      11    13    14   15   1.282954              -1   \n",
       "\n",
       "       Bellman_Operator  \n",
       "0              2.500878  \n",
       "1             10.000000  \n",
       "2             10.000000  \n",
       "3              5.049356  \n",
       "4              5.925810  \n",
       "...                 ...  \n",
       "50395          6.444922  \n",
       "50396         10.000000  \n",
       "50397          5.490914  \n",
       "50398         10.000000  \n",
       "50399          3.581289  \n",
       "\n",
       "[50400 rows x 8 columns]"
      ]
     },
     "execution_count": 18,
     "metadata": {},
     "output_type": "execute_result"
    }
   ],
   "source": [
    "df_uni = pd.read_csv(\"DatasetAfterUniform_GYM.csv\")\n",
    "df_uni"
   ]
  },
  {
   "cell_type": "markdown",
   "id": "bd8d6b74",
   "metadata": {},
   "source": [
    "## 4. Unform Dataset MLP Performance <a id = \"mlpuniform\"> "
   ]
  },
  {
   "cell_type": "markdown",
   "id": "2be45399-c6a8-4bce-b440-39b2bb10917e",
   "metadata": {},
   "source": [
    "### Bellman Opeartor 100%"
   ]
  },
  {
   "cell_type": "code",
   "execution_count": 19,
   "id": "e1c7e3de-9866-48e5-b2d7-bd0a5ade6b9d",
   "metadata": {},
   "outputs": [],
   "source": [
    "from sklearn.model_selection import train_test_split\n",
    "X = df_uni[['Player','Pit', 'Goal', 'Wall']]\n",
    "y = df_uni[['Bellman_Operator']]"
   ]
  },
  {
   "cell_type": "code",
   "execution_count": 20,
   "id": "8c2a1ee1-656d-4679-8887-d224126f6223",
   "metadata": {},
   "outputs": [],
   "source": [
    "mlp_uniform_bo = MLPRegressor(hidden_layer_sizes=(200,120), max_iter=300, activation = 'relu', solver='adam', random_state=123)"
   ]
  },
  {
   "cell_type": "code",
   "execution_count": null,
   "id": "426005d5",
   "metadata": {},
   "outputs": [
    {
     "name": "stderr",
     "output_type": "stream",
     "text": [
      "D:\\Conda\\lib\\site-packages\\sklearn\\neural_network\\_multilayer_perceptron.py:709: UserWarning: Training interrupted by user.\n",
      "  warnings.warn(\"Training interrupted by user.\")\n",
      "D:\\Conda\\lib\\site-packages\\sklearn\\neural_network\\_multilayer_perceptron.py:702: ConvergenceWarning: Stochastic Optimizer: Maximum iterations (300) reached and the optimization hasn't converged yet.\n",
      "  warnings.warn(\n",
      "D:\\Conda\\lib\\site-packages\\sklearn\\neural_network\\_multilayer_perceptron.py:702: ConvergenceWarning: Stochastic Optimizer: Maximum iterations (300) reached and the optimization hasn't converged yet.\n",
      "  warnings.warn(\n"
     ]
    }
   ],
   "source": [
    "scores = cross_validate(mlp_uniform_bo, X.values,y.values.ravel(), scoring=score, cv=5, return_train_score=True)\n",
    "SMAPE_mlp_uniform_bo = np.mean(scores['test_score'])\n",
    "SMAPE_mlp_uniform_bo"
   ]
  },
  {
   "cell_type": "code",
   "execution_count": null,
   "id": "1f2ddb17-6ff2-4997-9821-112dd566b11e",
   "metadata": {},
   "outputs": [],
   "source": [
    "mlp_uniform_bo.fit(X.values,y.values.ravel())"
   ]
  },
  {
   "cell_type": "code",
   "execution_count": null,
   "id": "31d808f2-26f0-42ec-a91c-33ac39f0ed0a",
   "metadata": {},
   "outputs": [],
   "source": [
    "win_num = 0\n",
    "for i in range(0,10):\n",
    "    max_games = 1000\n",
    "    wins = 0\n",
    "    for i in range(max_games):\n",
    "        win = gridworld_test_model(mlp_uniform_bo, 'random', display = False)\n",
    "        if win:\n",
    "            wins += 1\n",
    "    win_perc = float(wins) / float(max_games)\n",
    "    win_num = win_num + win_perc\n",
    "    print(\"Games played: {0}, # of wins: {1}\".format(max_games,wins))\n",
    "    print(win_perc)\n",
    "    print(win_num)\n",
    "win_num = win_num / 10\n",
    "print(\"Win percentage: {}%\".format(win_num*100))"
   ]
  },
  {
   "cell_type": "markdown",
   "id": "a5e29ce4-80ce-44f9-b2f3-7af4a8936e85",
   "metadata": {},
   "source": [
    "### Q-Value 100%"
   ]
  },
  {
   "cell_type": "code",
   "execution_count": null,
   "id": "20054cbd-23f8-448c-aecc-a9f0c7abf8be",
   "metadata": {},
   "outputs": [],
   "source": [
    "from sklearn.model_selection import train_test_split\n",
    "X = df_uni[['Player','Pit', 'Goal', 'Wall']]\n",
    "y = df_uni[['Q_Current']]\n",
    "mlp_uniform_q = MLPRegressor(hidden_layer_sizes=(200,120), max_iter=300, activation = 'relu', solver='adam', random_state=123)\n",
    "scores = cross_validate(mlp_uniform_q, X.values,y.values.ravel(), scoring=score, cv=5, return_train_score=True)\n",
    "SMAPE_mlp_uniform_q = np.mean(scores['test_score'])\n",
    "SMAPE_mlp_uniform_q"
   ]
  },
  {
   "cell_type": "code",
   "execution_count": null,
   "id": "089e7dd5",
   "metadata": {},
   "outputs": [],
   "source": [
    "mlp_uniform_q.fit(X.values,y.values.ravel())"
   ]
  },
  {
   "cell_type": "code",
   "execution_count": null,
   "id": "aaeb220c-3223-4a3c-b143-60c39f726de0",
   "metadata": {},
   "outputs": [],
   "source": [
    "win_num = 0\n",
    "for i in range(0,10):\n",
    "    max_games = 1000\n",
    "    wins = 0\n",
    "    for i in range(max_games):\n",
    "        win = gridworld_test_model(mlp_uniform_q, 'random', display = False)\n",
    "        if win:\n",
    "            wins += 1\n",
    "    win_perc = float(wins) / float(max_games)\n",
    "    win_num = win_num + win_perc\n",
    "    print(\"Games played: {0}, # of wins: {1}\".format(max_games,wins))\n",
    "    print(win_perc)\n",
    "    print(win_num)\n",
    "win_num = win_num / 10\n",
    "print(\"Win percentage: {}%\".format(win_num*100))"
   ]
  },
  {
   "cell_type": "markdown",
   "id": "658832b0",
   "metadata": {},
   "source": [
    "## 5. MLP performance on 90% of the dataset <a id = \"mlpuniform_90\"> "
   ]
  },
  {
   "cell_type": "markdown",
   "id": "632fe248-c478-46c6-b75d-d2bede5a702e",
   "metadata": {},
   "source": [
    "### Bellman Operator 90%"
   ]
  },
  {
   "cell_type": "code",
   "execution_count": null,
   "id": "251508c4-6fc1-4b59-b763-c43eee2973c2",
   "metadata": {},
   "outputs": [],
   "source": [
    "X = df_uni[['Player','Pit', 'Goal', 'Wall']]\n",
    "y = df_uni[['Bellman_Operator']]\n",
    "X_train, X_test, y_train, y_test = train_test_split(X, y, test_size = 1/10, random_state = 0)\n",
    "mlp_uniform_bo_90 = MLPRegressor(hidden_layer_sizes=(200,120), max_iter=300, activation = 'relu', solver='adam', random_state=123)\n",
    "scores = cross_validate(mlp_uniform_bo_90, X_train.values,y_train.values.ravel(), scoring=score, cv=5, return_train_score=True)\n",
    "SMAPE_mlp_uniform_bo_90 = np.mean(scores['test_score'])\n",
    "SMAPE_mlp_uniform_bo_90"
   ]
  },
  {
   "cell_type": "code",
   "execution_count": null,
   "id": "1193b0fd-47bf-40a0-808e-ccefb612e175",
   "metadata": {},
   "outputs": [],
   "source": [
    "mlp_uniform_bo_90.fit(X_train.values,y_train.values.ravel())"
   ]
  },
  {
   "cell_type": "code",
   "execution_count": null,
   "id": "fa87833f-3059-45fe-945f-61ae6182aad4",
   "metadata": {},
   "outputs": [],
   "source": [
    "win_num = 0\n",
    "for i in range(0,10):\n",
    "    max_games = 1000\n",
    "    wins = 0\n",
    "    for i in range(max_games):\n",
    "        win = gridworld_test_model(mlp_uniform_bo_90, 'random', display = False)\n",
    "        if win:\n",
    "            wins += 1\n",
    "    win_perc = float(wins) / float(max_games)\n",
    "    win_num = win_num + win_perc\n",
    "    print(\"Games played: {0}, # of wins: {1}\".format(max_games,wins))\n",
    "    print(win_perc)\n",
    "    print(win_num)\n",
    "win_num = win_num / 10\n",
    "print(\"Win percentage: {}%\".format(win_num*100))"
   ]
  },
  {
   "cell_type": "markdown",
   "id": "516f321a-b527-4e3b-af11-da1531309fbb",
   "metadata": {},
   "source": [
    "### Q-Value 90%"
   ]
  },
  {
   "cell_type": "code",
   "execution_count": null,
   "id": "3ab105a4",
   "metadata": {},
   "outputs": [],
   "source": [
    "X = df_uni[['Player','Pit', 'Goal', 'Wall']]\n",
    "y = df_uni[['Q_Current']]\n",
    "X_train, X_test, y_train, y_test = train_test_split(X, y, test_size = 1/10, random_state = 0)\n",
    "mlp_uniform_q_90 = MLPRegressor(hidden_layer_sizes=(200,120), max_iter=300, activation = 'relu', solver='adam', random_state=123)\n",
    "scores = cross_validate(mlp_uniform_q_90, X_train.values,y_train.values.ravel(), scoring=score, cv=5, return_train_score=True)\n",
    "SMAPE_mlp_uniform_q_90 = np.mean(scores['test_score'])\n",
    "SMAPE_mlp_uniform_q_90"
   ]
  },
  {
   "cell_type": "code",
   "execution_count": null,
   "id": "44b91bf5",
   "metadata": {},
   "outputs": [],
   "source": [
    "mlp_uniform_q_90.fit(X_train.values,y_train.values.ravel())"
   ]
  },
  {
   "cell_type": "code",
   "execution_count": null,
   "id": "c28b6181",
   "metadata": {},
   "outputs": [],
   "source": [
    "win_num = 0\n",
    "for i in range(0,10):\n",
    "    max_games = 1000\n",
    "    wins = 0\n",
    "    for i in range(max_games):\n",
    "        win = gridworld_test_model(mlp_uniform_q_90, 'random', display = False)\n",
    "        if win:\n",
    "            wins += 1\n",
    "    win_perc = float(wins) / float(max_games)\n",
    "    win_num = win_num + win_perc\n",
    "    print(\"Games played: {0}, # of wins: {1}\".format(max_games,wins))\n",
    "    print(win_perc)\n",
    "    print(win_num)\n",
    "win_num = win_num / 10\n",
    "print(\"Win percentage: {}%\".format(win_num*100))"
   ]
  },
  {
   "cell_type": "markdown",
   "id": "771a1238",
   "metadata": {},
   "source": [
    "## 6. MLP performance on 80% of the dataset <a id = \"mlpuniform_80\"> "
   ]
  },
  {
   "cell_type": "markdown",
   "id": "7dfa74ef-c453-40d7-b665-39e90063f085",
   "metadata": {},
   "source": [
    "### Bellman Operator 80%"
   ]
  },
  {
   "cell_type": "code",
   "execution_count": null,
   "id": "80084105-b183-4764-8622-a9c2ff3b845f",
   "metadata": {},
   "outputs": [],
   "source": [
    "X = df_uni[['Player','Pit', 'Goal', 'Wall']]\n",
    "y = df_uni[['Bellman_Operator']]\n",
    "X_train, X_test, y_train, y_test = train_test_split(X, y, test_size = 2/10, random_state = 0)\n",
    "mlp_uniform_bo_80 = MLPRegressor(hidden_layer_sizes=(200,120), max_iter=300, activation = 'relu', solver='adam', random_state=123)\n",
    "scores = cross_validate(mlp_uniform_bo_80, X_train.values,y_train.values.ravel(), scoring=score, cv=5, return_train_score=True)\n",
    "SMAPE_mlp_uniform_bo_80 = np.mean(scores['test_score'])\n",
    "SMAPE_mlp_uniform_bo_80"
   ]
  },
  {
   "cell_type": "code",
   "execution_count": null,
   "id": "3ae412df",
   "metadata": {},
   "outputs": [],
   "source": [
    "mlp_uniform_bo_80.fit(X_train.values,y_train.values.ravel())"
   ]
  },
  {
   "cell_type": "code",
   "execution_count": null,
   "id": "2d777a2e-b061-4d9e-8f40-acf63bfda67a",
   "metadata": {},
   "outputs": [],
   "source": [
    "win_num = 0\n",
    "for i in range(0,10):\n",
    "    max_games = 1000\n",
    "    wins = 0\n",
    "    for i in range(max_games):\n",
    "        win = gridworld_test_model(mlp_uniform_bo_80, 'random', display = False)\n",
    "        if win:\n",
    "            wins += 1\n",
    "    win_perc = float(wins) / float(max_games)\n",
    "    win_num = win_num + win_perc\n",
    "    print(\"Games played: {0}, # of wins: {1}\".format(max_games,wins))\n",
    "    print(win_perc)\n",
    "    print(win_num)\n",
    "win_num = win_num / 10\n",
    "print(\"Win percentage: {}%\".format(win_num*100))"
   ]
  },
  {
   "cell_type": "markdown",
   "id": "45fd372d-fb6e-40da-85a6-81feaa0879b7",
   "metadata": {},
   "source": [
    "### Q-Value 80%"
   ]
  },
  {
   "cell_type": "code",
   "execution_count": null,
   "id": "7133a0ac",
   "metadata": {},
   "outputs": [],
   "source": [
    "X = df_uni[['Player','Pit', 'Goal', 'Wall']]\n",
    "y = df_uni[['Q_Current']]\n",
    "X_train, X_test, y_train, y_test = train_test_split(X, y, test_size = 2/10, random_state = 0)\n",
    "mlp_uniform_q_80 = MLPRegressor(hidden_layer_sizes=(200,120), max_iter=300, activation = 'relu', solver='adam', random_state=123)\n",
    "scores = cross_validate(mlp_uniform_q_80, X_train.values,y_train.values.ravel(), scoring=score, cv=5, return_train_score=True)\n",
    "SMAPE_mlp_uniform_q_80 = np.mean(scores['test_score'])\n",
    "SMAPE_mlp_uniform_q_80"
   ]
  },
  {
   "cell_type": "code",
   "execution_count": null,
   "id": "a5ef5c22",
   "metadata": {},
   "outputs": [],
   "source": [
    "mlp_uniform_q_80.fit(X_train.values,y_train.values.ravel())"
   ]
  },
  {
   "cell_type": "code",
   "execution_count": null,
   "id": "7f00d359-2036-4b94-89f0-5fb69c172d81",
   "metadata": {},
   "outputs": [],
   "source": [
    "win_num = 0\n",
    "for i in range(0,10):\n",
    "    max_games = 1000\n",
    "    wins = 0\n",
    "    for i in range(max_games):\n",
    "        win = gridworld_test_model(mlp_uniform_q_80, 'random', display = False)\n",
    "        if win:\n",
    "            wins += 1\n",
    "    win_perc = float(wins) / float(max_games)\n",
    "    win_num = win_num + win_perc\n",
    "    print(\"Games played: {0}, # of wins: {1}\".format(max_games,wins))\n",
    "    print(win_perc)\n",
    "    print(win_num)\n",
    "win_num = win_num / 10\n",
    "print(\"Win percentage: {}%\".format(win_num*100))"
   ]
  },
  {
   "cell_type": "markdown",
   "id": "47dd1ef4",
   "metadata": {},
   "source": [
    "## 7. MLP performance on 70% of the dataset <a id = \"mlpuniform_70\"> "
   ]
  },
  {
   "cell_type": "markdown",
   "id": "7113545d-bef7-43c5-85b8-07e118083b97",
   "metadata": {},
   "source": [
    "### Bellman Operator 70%"
   ]
  },
  {
   "cell_type": "code",
   "execution_count": null,
   "id": "e758a862-af4a-4d12-a794-404ba92ae7e5",
   "metadata": {},
   "outputs": [],
   "source": [
    "X = df_uni[['Player','Pit', 'Goal', 'Wall']]\n",
    "y = df_uni[['Bellman_Operator']]\n",
    "X_train, X_test, y_train, y_test = train_test_split(X, y, test_size = 3/10, random_state = 0)\n",
    "mlp_uniform_bo_70 = MLPRegressor(hidden_layer_sizes=(200,120), max_iter=300, activation = 'relu', solver='adam', random_state=123)\n",
    "scores = cross_validate(mlp_uniform_bo_70, X_train.values,y_train.values.ravel(), scoring=score, cv=5, return_train_score=True)\n",
    "SMAPE_mlp_uniform_bo_70 = np.mean(scores['test_score'])\n",
    "SMAPE_mlp_uniform_bo_70"
   ]
  },
  {
   "cell_type": "code",
   "execution_count": null,
   "id": "8abe952a",
   "metadata": {},
   "outputs": [],
   "source": [
    "mlp_uniform_bo_70.fit(X_train.values,y_train.values.ravel())"
   ]
  },
  {
   "cell_type": "code",
   "execution_count": null,
   "id": "e79e5065",
   "metadata": {},
   "outputs": [],
   "source": [
    "win_num = 0\n",
    "for i in range(0,10):\n",
    "    max_games = 1000\n",
    "    wins = 0\n",
    "    for i in range(max_games):\n",
    "        win = gridworld_test_model(mlp_uniform_bo_70, 'random', display = False)\n",
    "        if win:\n",
    "            wins += 1\n",
    "    win_perc = float(wins) / float(max_games)\n",
    "    win_num = win_num + win_perc\n",
    "    print(\"Games played: {0}, # of wins: {1}\".format(max_games,wins))\n",
    "    print(win_perc)\n",
    "    print(win_num)\n",
    "win_num = win_num / 10\n",
    "print(\"Win percentage: {}%\".format(win_num*100))"
   ]
  },
  {
   "cell_type": "markdown",
   "id": "64bca351-2795-40a4-bb60-4d44b089c55a",
   "metadata": {},
   "source": [
    "### Q-Value 70%"
   ]
  },
  {
   "cell_type": "code",
   "execution_count": null,
   "id": "6833d8dd-5cc0-4f74-a573-0176968b2695",
   "metadata": {},
   "outputs": [],
   "source": [
    "X = df_uni[['Player','Pit', 'Goal', 'Wall']]\n",
    "y = df_uni[['Q_Current']]\n",
    "X_train, X_test, y_train, y_test = train_test_split(X, y, test_size = 3/10, random_state = 0)\n",
    "mlp_uniform_q_70 = MLPRegressor(hidden_layer_sizes=(200,120), max_iter=300, activation = 'relu', solver='adam', random_state=123)\n",
    "scores = cross_validate(mlp_uniform_q_70, X_train.values,y_train.values.ravel(), scoring=score, cv=5, return_train_score=True)\n",
    "SMAPE_mlp_uniform_q_70 = np.mean(scores['test_score'])\n",
    "SMAPE_mlp_uniform_q_70"
   ]
  },
  {
   "cell_type": "code",
   "execution_count": null,
   "id": "dad0b7e9",
   "metadata": {},
   "outputs": [],
   "source": [
    "mlp_uniform_q_70.fit(X_train.values,y_train.values.ravel())"
   ]
  },
  {
   "cell_type": "code",
   "execution_count": null,
   "id": "0e5b257f",
   "metadata": {},
   "outputs": [],
   "source": [
    "win_num = 0\n",
    "for i in range(0,10):\n",
    "    max_games = 1000\n",
    "    wins = 0\n",
    "    for i in range(max_games):\n",
    "        win = gridworld_test_model(mlp_uniform_q_70, 'random', display = False)\n",
    "        if win:\n",
    "            wins += 1\n",
    "    win_perc = float(wins) / float(max_games)\n",
    "    win_num = win_num + win_perc\n",
    "    print(\"Games played: {0}, # of wins: {1}\".format(max_games,wins))\n",
    "    print(win_perc)\n",
    "    print(win_num)\n",
    "win_num = win_num / 10\n",
    "print(\"Win percentage: {}%\".format(win_num*100))"
   ]
  },
  {
   "cell_type": "markdown",
   "id": "a20cca4b",
   "metadata": {},
   "source": [
    "## 8. MLP performance on 60% of the dataset <a id = \"mlpuniform_60\"> "
   ]
  },
  {
   "cell_type": "markdown",
   "id": "286323f9-f46b-4cbc-9437-c70b1317ca83",
   "metadata": {},
   "source": [
    "### Bellman Operator 60%"
   ]
  },
  {
   "cell_type": "code",
   "execution_count": null,
   "id": "e15d9fb3-a904-4b18-87cc-93439fa20080",
   "metadata": {},
   "outputs": [],
   "source": [
    "X = df_uni[['Player','Pit', 'Goal', 'Wall']]\n",
    "y = df_uni[['Bellman_Operator']]\n",
    "X_train, X_test, y_train, y_test = train_test_split(X, y, test_size = 4/10, random_state = 0)\n",
    "mlp_uniform_bo_60 = MLPRegressor(hidden_layer_sizes=(200,120), max_iter=300, activation = 'relu', solver='adam', random_state=123)\n",
    "scores = cross_validate(mlp_uniform_bo_60, X_train.values,y_train.values.ravel(), scoring=score, cv=5, return_train_score=True)\n",
    "SMAPE_mlp_uniform_bo_60 = np.mean(scores['test_score'])\n",
    "SMAPE_mlp_uniform_bo_60"
   ]
  },
  {
   "cell_type": "code",
   "execution_count": null,
   "id": "3b7fe180",
   "metadata": {},
   "outputs": [],
   "source": [
    "mlp_uniform_bo_60.fit(X_train.values,y_train.values.ravel())"
   ]
  },
  {
   "cell_type": "code",
   "execution_count": null,
   "id": "8b9d4358",
   "metadata": {},
   "outputs": [],
   "source": [
    "win_num = 0\n",
    "for i in range(0,10):\n",
    "    max_games = 1000\n",
    "    wins = 0\n",
    "    for i in range(max_games):\n",
    "        win = gridworld_test_model(mlp_uniform_bo_60, 'random', display = False)\n",
    "        if win:\n",
    "            wins += 1\n",
    "    win_perc = float(wins) / float(max_games)\n",
    "    win_num = win_num + win_perc\n",
    "    print(\"Games played: {0}, # of wins: {1}\".format(max_games,wins))\n",
    "    print(win_perc)\n",
    "    print(win_num)\n",
    "win_num = win_num / 10\n",
    "print(\"Win percentage: {}%\".format(win_num*100))"
   ]
  },
  {
   "cell_type": "markdown",
   "id": "3db403cf-a871-4fcb-a38a-5bcca7c4752a",
   "metadata": {},
   "source": [
    "### Q-Value 60%"
   ]
  },
  {
   "cell_type": "code",
   "execution_count": null,
   "id": "4e697d2a",
   "metadata": {},
   "outputs": [],
   "source": [
    "X = df_uni[['Player','Pit', 'Goal', 'Wall']]\n",
    "y = df_uni[['Q_Current']]\n",
    "X_train, X_test, y_train, y_test = train_test_split(X, y, test_size = 4/10, random_state = 0)\n",
    "mlp_uniform_q_60 = MLPRegressor(hidden_layer_sizes=(200,120), max_iter=300, activation = 'relu', solver='adam', random_state=123)\n",
    "scores = cross_validate(mlp_uniform_q_60, X_train.values,y_train.values.ravel(), scoring=score, cv=5, return_train_score=True)\n",
    "SMAPE_mlp_uniform_q_60 = np.mean(scores['test_score'])\n",
    "SMAPE_mlp_uniform_q_60"
   ]
  },
  {
   "cell_type": "code",
   "execution_count": null,
   "id": "0058edd7",
   "metadata": {},
   "outputs": [],
   "source": [
    "mlp_uniform_q_60.fit(X_train.values,y_train.values.ravel())"
   ]
  },
  {
   "cell_type": "code",
   "execution_count": null,
   "id": "a0673464",
   "metadata": {},
   "outputs": [],
   "source": [
    "win_num = 0\n",
    "for i in range(0,10):\n",
    "    max_games = 1000\n",
    "    wins = 0\n",
    "    for i in range(max_games):\n",
    "        win = gridworld_test_model(mlp_uniform_q_60, 'random', display = False)\n",
    "        if win:\n",
    "            wins += 1\n",
    "    win_perc = float(wins) / float(max_games)\n",
    "    win_num = win_num + win_perc\n",
    "    print(\"Games played: {0}, # of wins: {1}\".format(max_games,wins))\n",
    "    print(win_perc)\n",
    "    print(win_num)\n",
    "win_num = win_num / 10\n",
    "print(\"Win percentage: {}%\".format(win_num*100))"
   ]
  },
  {
   "cell_type": "markdown",
   "id": "fcc62f28",
   "metadata": {},
   "source": [
    "## 9. MLP performance on 50% of the dataset <a id = \"mlpuniform_50\"> "
   ]
  },
  {
   "cell_type": "markdown",
   "id": "510450a9-efb6-43c9-a6d5-5a2cda263376",
   "metadata": {},
   "source": [
    "### Bellman Operator 50%"
   ]
  },
  {
   "cell_type": "code",
   "execution_count": null,
   "id": "d7f71a32",
   "metadata": {},
   "outputs": [],
   "source": [
    "X = df_uni[['Player','Pit', 'Goal', 'Wall']]\n",
    "y = df_uni[['Bellman_Operator']]\n",
    "X_train, X_test, y_train, y_test = train_test_split(X, y, test_size = 5/10, random_state = 0)\n",
    "mlp_uniform_bo_50 = MLPRegressor(hidden_layer_sizes=(200,120), max_iter=300, activation = 'relu', solver='adam', random_state=123)\n",
    "scores = cross_validate(mlp_uniform_bo_50, X_train.values,y_train.values.ravel(), scoring=score, cv=5, return_train_score=True)\n",
    "SMAPE_mlp_uniform_bo_50 = np.mean(scores['test_score'])\n",
    "SMAPE_mlp_uniform_bo_50"
   ]
  },
  {
   "cell_type": "code",
   "execution_count": null,
   "id": "d15473af",
   "metadata": {},
   "outputs": [],
   "source": [
    "mlp_uniform_bo_50.fit(X_train.values,y_train.values.ravel())"
   ]
  },
  {
   "cell_type": "code",
   "execution_count": null,
   "id": "e7a45242",
   "metadata": {},
   "outputs": [],
   "source": [
    "win_num = 0\n",
    "for i in range(0,10):\n",
    "    max_games = 1000\n",
    "    wins = 0\n",
    "    for i in range(max_games):\n",
    "        win = gridworld_test_model(mlp_uniform_bo_50, 'random', display = False)\n",
    "        if win:\n",
    "            wins += 1\n",
    "    win_perc = float(wins) / float(max_games)\n",
    "    win_num = win_num + win_perc\n",
    "    print(\"Games played: {0}, # of wins: {1}\".format(max_games,wins))\n",
    "    print(win_perc)\n",
    "    print(win_num)\n",
    "win_num = win_num / 10\n",
    "print(\"Win percentage: {}%\".format(win_num*100))"
   ]
  },
  {
   "cell_type": "markdown",
   "id": "e068d8c7-5182-4a8e-9feb-96bfb24dd15c",
   "metadata": {},
   "source": [
    "### Q-Value 50%"
   ]
  },
  {
   "cell_type": "code",
   "execution_count": null,
   "id": "e5e8351b",
   "metadata": {},
   "outputs": [],
   "source": [
    "X = df_uni[['Player','Pit', 'Goal', 'Wall']]\n",
    "y = df_uni[['Q_Current']]\n",
    "X_train, X_test, y_train, y_test = train_test_split(X, y, test_size = 5/10, random_state = 0)\n",
    "mlp_uniform_q_50 = MLPRegressor(hidden_layer_sizes=(200,120), max_iter=300, activation = 'relu', solver='adam', random_state=123)\n",
    "scores = cross_validate(mlp_uniform_q_50, X_train.values,y_train.values.ravel(), scoring=score, cv=5, return_train_score=True)\n",
    "SMAPE_mlp_uniform_q_50 = np.mean(scores['test_score'])\n",
    "SMAPE_mlp_uniform_q_50"
   ]
  },
  {
   "cell_type": "code",
   "execution_count": null,
   "id": "7d056d70",
   "metadata": {},
   "outputs": [],
   "source": [
    "mlp_uniform_q_50.fit(X_train.values,y_train.values.ravel())"
   ]
  },
  {
   "cell_type": "code",
   "execution_count": null,
   "id": "37abfd4f",
   "metadata": {},
   "outputs": [],
   "source": [
    "win_num = 0\n",
    "for i in range(0,10):\n",
    "    max_games = 1000\n",
    "    wins = 0\n",
    "    for i in range(max_games):\n",
    "        win = gridworld_test_model(mlp_uniform_q_50, 'random', display = False)\n",
    "        if win:\n",
    "            wins += 1\n",
    "    win_perc = float(wins) / float(max_games)\n",
    "    win_num = win_num + win_perc\n",
    "    print(\"Games played: {0}, # of wins: {1}\".format(max_games,wins))\n",
    "    print(win_perc)\n",
    "    print(win_num)\n",
    "win_num = win_num / 10\n",
    "print(\"Win percentage: {}%\".format(win_num*100))"
   ]
  },
  {
   "cell_type": "markdown",
   "id": "d5451b7b",
   "metadata": {},
   "source": [
    "## 10. MLP performance on 40% of the dataset <a id = \"mlpuniform_40\"> "
   ]
  },
  {
   "cell_type": "markdown",
   "id": "f2de264f-0ac5-401f-baf4-b81a75a80b78",
   "metadata": {},
   "source": [
    "### Bellman Opearator 40%"
   ]
  },
  {
   "cell_type": "code",
   "execution_count": null,
   "id": "1bd89c19",
   "metadata": {},
   "outputs": [],
   "source": [
    "X = df_uni[['Player','Pit', 'Goal', 'Wall']]\n",
    "y = df_uni[['Bellman_Operator']]\n",
    "X_train, X_test, y_train, y_test = train_test_split(X, y, test_size = 6/10, random_state = 0)\n",
    "mlp_uniform_bo_40 = MLPRegressor(hidden_layer_sizes=(200,120), max_iter=300, activation = 'relu', solver='adam', random_state=123)\n",
    "scores = cross_validate(mlp_uniform_bo_40, X_train.values,y_train.values.ravel(), scoring=score, cv=5, return_train_score=True)\n",
    "SMAPE_mlp_uniform_bo_40 = np.mean(scores['test_score'])\n",
    "SMAPE_mlp_uniform_bo_40"
   ]
  },
  {
   "cell_type": "code",
   "execution_count": null,
   "id": "3901fb8f",
   "metadata": {},
   "outputs": [],
   "source": [
    "mlp_uniform_bo_40.fit(X_train.values,y_train.values.ravel())"
   ]
  },
  {
   "cell_type": "code",
   "execution_count": null,
   "id": "3a90941b",
   "metadata": {},
   "outputs": [],
   "source": [
    "win_num = 0\n",
    "for i in range(0,10):\n",
    "    max_games = 1000\n",
    "    wins = 0\n",
    "    for i in range(max_games):\n",
    "        win = gridworld_test_model(mlp_uniform_bo_40, 'random', display = False)\n",
    "        if win:\n",
    "            wins += 1\n",
    "    win_perc = float(wins) / float(max_games)\n",
    "    win_num = win_num + win_perc\n",
    "    print(\"Games played: {0}, # of wins: {1}\".format(max_games,wins))\n",
    "    print(win_perc)\n",
    "    print(win_num)\n",
    "win_num = win_num / 10\n",
    "print(\"Win percentage: {}%\".format(win_num*100))"
   ]
  },
  {
   "cell_type": "markdown",
   "id": "d0c4e809-134d-4a5f-ab48-b6ef2d702a9c",
   "metadata": {},
   "source": [
    "### Q-Value 40%"
   ]
  },
  {
   "cell_type": "code",
   "execution_count": null,
   "id": "cef59846",
   "metadata": {},
   "outputs": [],
   "source": [
    "X = df_uni[['Player','Pit', 'Goal', 'Wall']]\n",
    "y = df_uni[['Q_Current']]\n",
    "X_train, X_test, y_train, y_test = train_test_split(X, y, test_size = 6/10, random_state = 0)\n",
    "mlp_uniform_q_40 = MLPRegressor(hidden_layer_sizes=(200,120), max_iter=300, activation = 'relu', solver='adam', random_state=123)\n",
    "scores = cross_validate(mlp_uniform_q_40, X_train.values,y_train.values.ravel(), scoring=score, cv=5, return_train_score=True)\n",
    "SMAPE_mlp_uniform_q_40 = np.mean(scores['test_score'])\n",
    "SMAPE_mlp_uniform_q_40"
   ]
  },
  {
   "cell_type": "code",
   "execution_count": null,
   "id": "65ab4399",
   "metadata": {},
   "outputs": [],
   "source": [
    "mlp_uniform_q_40.fit(X_train.values,y_train.values.ravel())"
   ]
  },
  {
   "cell_type": "code",
   "execution_count": null,
   "id": "6edb3a6b",
   "metadata": {},
   "outputs": [],
   "source": [
    "win_num = 0\n",
    "for i in range(0,10):\n",
    "    max_games = 1000\n",
    "    wins = 0\n",
    "    for i in range(max_games):\n",
    "        win = gridworld_test_model(mlp_uniform_q_40, 'random', display = False)\n",
    "        if win:\n",
    "            wins += 1\n",
    "    win_perc = float(wins) / float(max_games)\n",
    "    win_num = win_num + win_perc\n",
    "    print(\"Games played: {0}, # of wins: {1}\".format(max_games,wins))\n",
    "    print(win_perc)\n",
    "    print(win_num)\n",
    "win_num = win_num / 10\n",
    "print(\"Win percentage: {}%\".format(win_num*100))"
   ]
  },
  {
   "cell_type": "markdown",
   "id": "04b9bed5",
   "metadata": {},
   "source": [
    "## 11. MLP performance on 30% of the dataset <a id = \"mlpuniform_30\"> "
   ]
  },
  {
   "cell_type": "markdown",
   "id": "10018009-c7b3-44b9-bb93-cc66388961f9",
   "metadata": {},
   "source": [
    "### Bellman Operator 30%"
   ]
  },
  {
   "cell_type": "code",
   "execution_count": null,
   "id": "2bd90904",
   "metadata": {},
   "outputs": [],
   "source": [
    "X = df_uni[['Player','Pit', 'Goal', 'Wall']]\n",
    "y = df_uni[['Bellman_Operator']]\n",
    "X_train, X_test, y_train, y_test = train_test_split(X, y, test_size = 7/10, random_state = 0)\n",
    "mlp_uniform_bo_30 = MLPRegressor(hidden_layer_sizes=(200,120), max_iter=300, activation = 'relu', solver='adam', random_state=123)\n",
    "scores = cross_validate(mlp_uniform_bo_30, X_train.values,y_train.values.ravel(), scoring=score, cv=5, return_train_score=True)\n",
    "SMAPE_mlp_uniform_bo_30 = np.mean(scores['test_score'])\n",
    "SMAPE_mlp_uniform_bo_30"
   ]
  },
  {
   "cell_type": "code",
   "execution_count": null,
   "id": "e5575701",
   "metadata": {},
   "outputs": [],
   "source": [
    "mlp_uniform_bo_30.fit(X_train.values,y_train.values.ravel())"
   ]
  },
  {
   "cell_type": "code",
   "execution_count": null,
   "id": "d094f051",
   "metadata": {},
   "outputs": [],
   "source": [
    "win_num = 0\n",
    "for i in range(0,10):\n",
    "    max_games = 1000\n",
    "    wins = 0\n",
    "    for i in range(max_games):\n",
    "        win = gridworld_test_model(mlp_uniform_bo_30, 'random', display = False)\n",
    "        if win:\n",
    "            wins += 1\n",
    "    win_perc = float(wins) / float(max_games)\n",
    "    win_num = win_num + win_perc\n",
    "    print(\"Games played: {0}, # of wins: {1}\".format(max_games,wins))\n",
    "    print(win_perc)\n",
    "    print(win_num)\n",
    "win_num = win_num / 10\n",
    "print(\"Win percentage: {}%\".format(win_num*100))"
   ]
  },
  {
   "cell_type": "markdown",
   "id": "a7aa518b-cf53-4ba3-8c99-be90d2ed3da4",
   "metadata": {},
   "source": [
    "### Q-Value 30%"
   ]
  },
  {
   "cell_type": "code",
   "execution_count": null,
   "id": "616f0e6b",
   "metadata": {},
   "outputs": [],
   "source": [
    "X = df_uni[['Player','Pit', 'Goal', 'Wall']]\n",
    "y = df_uni[['Q_Current']]\n",
    "X_train, X_test, y_train, y_test = train_test_split(X, y, test_size = 7/10, random_state = 0)\n",
    "mlp_uniform_q_30 = MLPRegressor(hidden_layer_sizes=(200,120), max_iter=300, activation = 'relu', solver='adam', random_state=123)\n",
    "scores = cross_validate(mlp_uniform_q_30, X_train.values,y_train.values.ravel(), scoring=score, cv=5, return_train_score=True)\n",
    "SMAPE_mlp_uniform_q_30 = np.mean(scores['test_score'])\n",
    "SMAPE_mlp_uniform_q_30"
   ]
  },
  {
   "cell_type": "code",
   "execution_count": null,
   "id": "a710ebbf",
   "metadata": {},
   "outputs": [],
   "source": [
    "mlp_uniform_q_30.fit(X_train.values,y_train.values.ravel())"
   ]
  },
  {
   "cell_type": "code",
   "execution_count": null,
   "id": "1abba56d",
   "metadata": {},
   "outputs": [],
   "source": [
    "win_num = 0\n",
    "for i in range(0,10):\n",
    "    max_games = 1000\n",
    "    wins = 0\n",
    "    for i in range(max_games):\n",
    "        win = gridworld_test_model(mlp_uniform_q_30, 'random', display = False)\n",
    "        if win:\n",
    "            wins += 1\n",
    "    win_perc = float(wins) / float(max_games)\n",
    "    win_num = win_num + win_perc\n",
    "    print(\"Games played: {0}, # of wins: {1}\".format(max_games,wins))\n",
    "    print(win_perc)\n",
    "    print(win_num)\n",
    "win_num = win_num / 10\n",
    "print(\"Win percentage: {}%\".format(win_num*100))"
   ]
  },
  {
   "cell_type": "markdown",
   "id": "f311b7ed",
   "metadata": {},
   "source": [
    "## 12. MLP performance on 20% of the dataset <a id = \"mlpuniform_20\"> "
   ]
  },
  {
   "cell_type": "markdown",
   "id": "9fffaa86-af2a-4eed-aaa2-dd266024149d",
   "metadata": {},
   "source": [
    "### Bellman Operator 20%"
   ]
  },
  {
   "cell_type": "code",
   "execution_count": null,
   "id": "63adcb2c",
   "metadata": {},
   "outputs": [],
   "source": [
    "X = df_uni[['Player','Pit', 'Goal', 'Wall']]\n",
    "y = df_uni[['Bellman_Operator']]\n",
    "X_train, X_test, y_train, y_test = train_test_split(X, y, test_size = 8/10, random_state = 0)\n",
    "mlp_uniform_bo_20 = MLPRegressor(hidden_layer_sizes=(200,120), max_iter=300, activation = 'relu', solver='adam', random_state=123)\n",
    "scores = cross_validate(mlp_uniform_bo_20, X_train.values,y_train.values.ravel(), scoring=score, cv=5, return_train_score=True)\n",
    "SMAPE_mlp_uniform_bo_20 = np.mean(scores['test_score'])\n",
    "SMAPE_mlp_uniform_bo_20"
   ]
  },
  {
   "cell_type": "code",
   "execution_count": null,
   "id": "53c446f3",
   "metadata": {},
   "outputs": [],
   "source": [
    "mlp_uniform_bo_20.fit(X_train.values,y_train.values.ravel())"
   ]
  },
  {
   "cell_type": "code",
   "execution_count": null,
   "id": "f97f95d8",
   "metadata": {},
   "outputs": [],
   "source": [
    "win_num = 0\n",
    "for i in range(0,10):\n",
    "    max_games = 1000\n",
    "    wins = 0\n",
    "    for i in range(max_games):\n",
    "        win = gridworld_test_model(mlp_uniform_bo_20, 'random', display = False)\n",
    "        if win:\n",
    "            wins += 1\n",
    "    win_perc = float(wins) / float(max_games)\n",
    "    win_num = win_num + win_perc\n",
    "    print(\"Games played: {0}, # of wins: {1}\".format(max_games,wins))\n",
    "    print(win_perc)\n",
    "    print(win_num)\n",
    "win_num = win_num / 10\n",
    "print(\"Win percentage: {}%\".format(win_num*100))"
   ]
  },
  {
   "cell_type": "markdown",
   "id": "7506aacb-dfaa-4960-b13f-2b1406f26c5d",
   "metadata": {},
   "source": [
    "### Q-Value 20%"
   ]
  },
  {
   "cell_type": "code",
   "execution_count": null,
   "id": "ecef1618",
   "metadata": {},
   "outputs": [],
   "source": [
    "X = df_uni[['Player','Pit', 'Goal', 'Wall']]\n",
    "y = df_uni[['Q_Current']]\n",
    "X_train, X_test, y_train, y_test = train_test_split(X, y, test_size = 8/10, random_state = 0)\n",
    "mlp_uniform_q_20 = MLPRegressor(hidden_layer_sizes=(200,120), max_iter=300, activation = 'relu', solver='adam', random_state=123)\n",
    "scores = cross_validate(mlp_uniform_q_20, X_train.values,y_train.values.ravel(), scoring=score, cv=5, return_train_score=True)\n",
    "SMAPE_mlp_uniform_q_20 = np.mean(scores['test_score'])\n",
    "SMAPE_mlp_uniform_q_20"
   ]
  },
  {
   "cell_type": "code",
   "execution_count": null,
   "id": "e7ffc4bb",
   "metadata": {},
   "outputs": [],
   "source": [
    "mlp_uniform_q_20.fit(X_train.values,y_train.values.ravel())"
   ]
  },
  {
   "cell_type": "code",
   "execution_count": null,
   "id": "c896c2bf",
   "metadata": {},
   "outputs": [],
   "source": [
    "win_num = 0\n",
    "for i in range(0,10):\n",
    "    max_games = 1000\n",
    "    wins = 0\n",
    "    for i in range(max_games):\n",
    "        win = gridworld_test_model(mlp_uniform_q_20, 'random', display = False)\n",
    "        if win:\n",
    "            wins += 1\n",
    "    win_perc = float(wins) / float(max_games)\n",
    "    win_num = win_num + win_perc\n",
    "    print(\"Games played: {0}, # of wins: {1}\".format(max_games,wins))\n",
    "    print(win_perc)\n",
    "    print(win_num)\n",
    "win_num = win_num / 10\n",
    "print(\"Win percentage: {}%\".format(win_num*100))"
   ]
  },
  {
   "cell_type": "code",
   "execution_count": null,
   "id": "e138662a",
   "metadata": {},
   "outputs": [],
   "source": [
    "X_train"
   ]
  }
 ],
 "metadata": {
  "kernelspec": {
   "display_name": "Python 3 (ipykernel)",
   "language": "python",
   "name": "python3"
  },
  "language_info": {
   "codemirror_mode": {
    "name": "ipython",
    "version": 3
   },
   "file_extension": ".py",
   "mimetype": "text/x-python",
   "name": "python",
   "nbconvert_exporter": "python",
   "pygments_lexer": "ipython3",
   "version": "3.9.13"
  }
 },
 "nbformat": 4,
 "nbformat_minor": 5
}
